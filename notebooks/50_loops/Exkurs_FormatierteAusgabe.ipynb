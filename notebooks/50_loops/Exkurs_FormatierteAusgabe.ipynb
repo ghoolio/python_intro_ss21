{
 "cells": [
  {
   "cell_type": "markdown",
   "metadata": {},
   "source": [
    "# Formatierte Ausgabe mit `print()`\n",
    "Bislang haben Sie schon häufiger die Ausgabe mit der Funktion `print()` benutzt. Entweder mit einem oder mit mehreren Argumenten.\n",
    "Die Ausgabe der Funktion `print()` kann noch angepasst werden, um den Output z.B. etwas lesbarer zu gestalten.\n",
    "\n",
    "### Voraussetzungen\n",
    "Um dieses Notebook zu verstehen benötigen Sie Kenntnisse von Variablen bzw. Ein- und Ausgabe. Für einzelne Übungen sind auch Kenntnisse von `for`-Schleifen notwendig.\n",
    "\n",
    "Wenn man sich die Ausgabe der nächsten Zelle anschaut, kann man folgende Eigenschaften von `print()` sehen.\n",
    "- man kann unterschiedliche Datentypen (Integer, String, ...) übergeben\n",
    "- `print()` kann mit einem oder mehreren Argumenten aufgerufen werden. Diese müssen mit einem Komma voneinander getrennt werden.\n",
    "- zwischen zwei Argumenten fügt `print()` bei der Ausgabe immer ein Leerzeichen\n",
    "- Am Ende der Ausgabe kommt immer ein Zeilenumbruch, d.h. das nächste `print()` schreibt immer in die nächste Zeile\n",
    "\n"
   ]
  },
  {
   "cell_type": "code",
   "execution_count": null,
   "metadata": {},
   "outputs": [],
   "source": [
    "x = 10\n",
    "y = 20\n",
    "print(\"Einfache Ausgabe\")\n",
    "print(x, \"ist eine Zahl\")\n",
    "print(x, \"mal\", y, \"ist\", x*y)"
   ]
  },
  {
   "cell_type": "markdown",
   "metadata": {},
   "source": [
    "Aus den Eigenschaften ergeben sich mögliche weitere Anforderungen:\n",
    "- etwas anderes als das Leerzeichen zwischen zwei Argumenten (z.B. gar nichts oder ein Doppelpunkt oder ...)\n",
    "- es sollte möglich sein, mit zwei `print()`s hintereinander in die gleiche Zeile zu schreiben\n",
    "`print()` bietet diese beiden Features an. Durch Eingabe von Parametern kann die Ausgabe von `print()` gesteuert werden. \n",
    "In Jupyter Notebooks kann man sich mögliche Parameter (und auch weitere Hilfen) zu Funktionen einfach anzeigen lassen, indem man den Funktionsnamen (ohne Klammern!) gefolgt von einem \"?\" in eine Zelle eingibt und diese ausführt."
   ]
  },
  {
   "cell_type": "code",
   "execution_count": null,
   "metadata": {},
   "outputs": [],
   "source": [
    "print?"
   ]
  },
  {
   "source": [
    "## Die Parameter `sep` und `end`\n",
    "Mit Hilfe der Parameter `sep` und `end` kann genau dieses Verhalten erreicht werden. Mit Hilfe von `sep` wird der Separator definiert, der zwischen den Argumenten steht. Der Default-Wert - also der Wert, der verwendet wird, wenn nichts anderes explizit angegeben wird - ist das Leerzeichen. Mit Hilfe von `sep=\".\"` kann beispielsweise der Punkt als Separator gewählt werden.\n"
   ],
   "cell_type": "markdown",
   "metadata": {}
  },
  {
   "cell_type": "code",
   "execution_count": null,
   "metadata": {},
   "outputs": [],
   "source": [
    "print(192, 168, 1, 1, sep=\".\")\n",
    "print(\"abc\", \"def\", \"ghi\", sep=\"\")"
   ]
  },
  {
   "source": [
    "Auf ähnliche Weise legt der Parameter `end` fest, wie am Ende der Ausgabe verfahren werden soll. Der Default-Wert ist der Zeilenumbruch. Dieser kann mit `\\n` angegeben werden.\n",
    "### Exkurs im Exkurs: Escape-Characters\n",
    "Um einige Sonderzeichen in Python darstellen zu können, gibt es sogenannte Escape-Characters. Diese werden jeweils mit einem Backslash \"\\\" eingeleitet und haben besondere Bedeutungen:\n",
    "- \\n Zeilenumbruch, neue Zeile\n",
    "- \\t Tabulator\n",
    "- \\\" Anführungszeichen oben (wenn man z.B. in einem String ein Anführungszeichen machen will.\n",
    "siehe auch (https://www.w3schools.com/python/gloss_python_escape_characters.asp) \n",
    "Wenn am Ende eines `print()`s kein Zeilenumbruch erfolgen soll sondern z.B. ein Leerzeichen, dann muss dies eben mit dem Parameter `end = \" \"` spezifiziert werden. Umgekehrt wird mit `end = \"\\n\\n\"` festgelegt, dass zwei Zeilenumbrüche folgen.\n",
    "Quizfrage: Warum steht die \"0\" der zweiten Schleife hinter den Zahlen der ersten Schleife? Wie kann das geändert werden?"
   ],
   "cell_type": "markdown",
   "metadata": {}
  },
  {
   "cell_type": "code",
   "execution_count": null,
   "metadata": {},
   "outputs": [],
   "source": [
    "for i in range(5):\n",
    "    print(i, end=\" \")\n",
    "\n",
    "for i in range(5):\n",
    "    print(i, end=\"\\n\\n\")"
   ]
  },
  {
   "cell_type": "markdown",
   "metadata": {},
   "source": [
    "## Aufgabe 1\n",
    "Erstellen Sie ein Ein-Mal-Eins (Sie erinnern sich?) mit Hilfe zweier `for`-Schleifen. Dabei sollen die Ergebnisse aber wie folgt zeilenweise ausgegeben werden:\n",
    "\n",
    "1 2 3 ... 9 10<br>\n",
    "2 4 6 ..... 20<br>\n",
    "..<br>\n",
    "10 20 ...  100<br>"
   ]
  },
  {
   "cell_type": "code",
   "execution_count": null,
   "metadata": {},
   "outputs": [],
   "source": []
  },
  {
   "cell_type": "markdown",
   "metadata": {},
   "source": [
    "## Die Methode `.format()`\n",
    "Stellen Sie sich vor, Sie haben eine Rechnung und wollen die Zahlen schön in Spalten, z.T. links zum Teil rechts ausgerichtet ausgeben. Dann helfen Ihnen die bisherigen Möglichkeiten noch nicht weiter."
   ]
  },
  {
   "cell_type": "code",
   "execution_count": null,
   "metadata": {},
   "outputs": [],
   "source": [
    "anz_Tisch = 3\n",
    "preis_Tisch = 123.45\n",
    "anz_Stuhl = 12\n",
    "preis_Stuhl = 79.90\n",
    "anz_Schrank = 1\n",
    "preis_Schrank = 1250.99\n",
    "print(\"Tisch\", anz_Tisch, preis_Tisch)\n",
    "print(\"Stuhl\", anz_Stuhl, preis_Stuhl)\n",
    "print(\"Schrank\", anz_Schrank, preis_Schrank)"
   ]
  },
  {
   "cell_type": "markdown",
   "metadata": {},
   "source": [
    "Um die entsprechende Formatierung zu ermöglichen gibt es die Methode `.format()`, die jetzt in drei Schritten eingeführt wird. Erst nach dem dritten Schritt sieht man den Effekt, die beiden ersten Schritte sind aber notwendig, um schließlich den dritten Schritt anwenden zu können.\n",
    "\n",
    "**Schritt 1**\n",
    "\n",
    "Schauen Sie sich die folgende Zuweisung an:\n",
    "\n",
    "`print(\"Tisch  {}{}\".format(anz_Tisch, preis_Tisch))`\n",
    "\n",
    "Der String wird wie immer durch Anführungszeichen begrenzt. Der String selber enthält zwei Felder, die durch geschweifte Klammern `{}` dargestellt werden. Auf den String wird die Methode `.format()` angewendet. Der Methode werden die beiden Argument `anz_Tisch` bzw. `preis_Tisch` übergeben. Die Felder werden jetzt durch diese Argumente bei der Ausgabe von `print()` ersetzt."
   ]
  },
  {
   "cell_type": "code",
   "execution_count": null,
   "metadata": {},
   "outputs": [],
   "source": [
    "print(\"Tisch  {}{}\".format(anz_Tisch, preis_Tisch))"
   ]
  },
  {
   "cell_type": "markdown",
   "metadata": {},
   "source": [
    "**Schritt 2**\n",
    "\n",
    "Das Ergebnis von oben sieht fast noch schlechter aus als vorher, das Leerzeichen zwischen den beiden Argumenten fehlt.\n",
    "\n",
    "Im zweiten Schritt wird (s.u.) in die Felder ein Argument eingegeben. Damit kann die Reihenfolge der Zuweisungen der Argumente aus der Methode `.format()` gesteuert werden. Klingt kompliziert, ist aber ganz einfach (siehe Beispiel)."
   ]
  },
  {
   "cell_type": "code",
   "execution_count": null,
   "metadata": {},
   "outputs": [],
   "source": [
    "print(\"Tisch  {0}{1}\".format(anz_Tisch, preis_Tisch))\n",
    "print(\"Tisch  {1}{0}\".format(anz_Tisch, preis_Tisch))"
   ]
  },
  {
   "source": [
    "**Schritt 3**\n",
    "\n",
    "Im letzten Schritt können jetzt *Formatierungsanweisungen* an das Argument in den Klammern angehängt werden. Dazu kommt hinter die in Schritt 2 eingeführte Zahl ein Doppelpunkt und anschließend eine Information über das Format. Diese besteht aus einer Zahl (wie viele Stellen sollen ausgegeben werden) und einem Buchstaben, der den Datenyp angibt.\n",
    "- 5d: d steht für dezimal bzw. integer, insgesamt werden 5 Zeichen *rechtsbündig* verwendet\n",
    "- 8.2f: f steht für float, es werden insgesamt 8 Zeichen reserviert, zwei davon hinter dem Dezimalpunkt. Die Zahlen werden am Dezimalpunkt ausgerichtet\n",
    "- 10s: s steht für string, es werden 10 Zeichen verwendet. Der String wird linksbündig ausgegeben.\n",
    "\n",
    "Eine Dokumentation mit noch weiteren Details zur Formatierung finden Sie [hier](https://docs.python.org/3/library/string.html#formatstrings). Tabellen mit allen Formatierungssymbolen für String, Integer, ... finden Sie [hier](https://docs.python.org/3/library/string.html#index-9)"
   ],
   "cell_type": "markdown",
   "metadata": {}
  },
  {
   "cell_type": "code",
   "execution_count": null,
   "metadata": {},
   "outputs": [],
   "source": [
    "print(\"{0:8s}{1:8s}{2:8s}\".format(\"Artikel\", \"Anzahl\", \"Preis\"))\n",
    "print(\"{0:8s}{1:8d}{2:8.2f}\".format(\"Tisch\", anz_Tisch, preis_Tisch))\n",
    "print(\"{0:8s}{1:8d}{2:8.2f}\".format(\"Stuhl\", anz_Stuhl, preis_Stuhl))\n",
    "print(\"{0:8s}{1:8d}{2:8.2f}\".format(\"Schrank\", anz_Schrank, preis_Schrank))\n"
   ]
  },
  {
   "cell_type": "markdown",
   "metadata": {},
   "source": [
    "Das obige Beispiel sieht schon viel besser aus, die einzelnen Spalten sind entsprechend des Datentyps ausgerichtet. Vielleicht wollen Sie die Überschriften noch anpassen? Anzahl und Preis sollten vielleicht besser rechtsbündig ausgerichtet werden, damit sie besser zu den Werten in der Spalte ausgerichtet sind?\n",
    "\n",
    "Strings sind defaultmäßig linksbündig ausgerichtet. Aber auch das kann angepasst werden, in dem ein \"<\" oder \">\" verwendet wird. Eine vollständige Tabelle der Ausrichtungssymbole finden Sie [hier](https://docs.python.org/3/library/string.html#index-3)."
   ]
  },
  {
   "cell_type": "code",
   "execution_count": null,
   "metadata": {},
   "outputs": [],
   "source": [
    "print(\"{0:8s}{1:>8s}{2:>8s}\".format(\"Artikel\", \"Anzahl\", \"Preis\"))\n",
    "print(\"{0:8s}{1:8d}{2:8.2f}\".format(\"Tisch\", anz_Tisch, preis_Tisch))\n",
    "print(\"{0:8s}{1:8d}{2:8.2f}\".format(\"Stuhl\", anz_Stuhl, preis_Stuhl))\n",
    "print(\"{0:8s}{1:8d}{2:8.2f}\".format(\"Schrank\", anz_Schrank, preis_Schrank))\n"
   ]
  },
  {
   "source": [
    "## Aufgabe 2\n",
    "Spielen Sie mit den Eingaben von obiger Zelle. Was passiert, wenn die eingegebenen Integer größer sind als die zur Verfügung stehenden Ziffern. Oder: Sie haben eine Floatzahl mit mehr als zwei Nachkommastellen. Einfach mal ausprobieren."
   ],
   "cell_type": "markdown",
   "metadata": {}
  },
  {
   "cell_type": "markdown",
   "metadata": {},
   "source": [
    "## Aufgabe 3 Verschönern des Einmal Eins\n",
    "Erstellen Sie eine neue Version des Einmal Eins, bei dem die Zahlen alle schön in Spalten stehen."
   ]
  },
  {
   "cell_type": "code",
   "execution_count": null,
   "metadata": {},
   "outputs": [],
   "source": []
  }
 ],
 "metadata": {
  "kernelspec": {
   "display_name": "Python 3",
   "language": "python",
   "name": "python3"
  },
  "language_info": {
   "codemirror_mode": {
    "name": "ipython",
    "version": 3
   },
   "file_extension": ".py",
   "mimetype": "text/x-python",
   "name": "python",
   "nbconvert_exporter": "python",
   "pygments_lexer": "ipython3",
   "version": "3.7.6"
  }
 },
 "nbformat": 4,
 "nbformat_minor": 2
}