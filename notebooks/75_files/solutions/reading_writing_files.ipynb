{
 "cells": [
  {
   "cell_type": "markdown",
   "metadata": {},
   "source": [
    "# Dateien lesen und schreiben\n",
    "## Voraussetzungen\n",
    "Diese Einheit setzt voraus, dass Sie folgende Inhalte kennen: \n",
    "- Variablen\n",
    "- Ein- und Ausgabe\n",
    "- primitive Datentypen\n",
    "- Listen\n",
    "- for-Schleife\n",
    "\n",
    "## Motivation\n",
    "Bei der Arbeit mit Computern sind Dateien allgegenwärtig. Dateien werden erstellt, gelesen, geändert, kopiert, verschickt, verschoben, gelöscht, wiederhergestellt, .... Bislang gehen bei unseren Programmen alle Daten verloren, sobald das Programm beendet wird. Mit Hilfe der Dateien ist es möglich, Daten dauerhaft zu speichern (persistent) und später wieder auf eben diese Daten zuzugreifen.\n",
    "\n",
    "Natürlich ist es auch in Python 🐍 möglich mit Dateien zu arbeiten. \n",
    "\n",
    "## Was ist eine Datei?\n",
    "Alle von Ihnen haben schon mit Dateien gearbeitet: Word-Dateien, Excel-Dateien, dieses Notebook, Python-Programme, ... Was ist aber jetzt *genau* eine Datei? Eine mögliche Definition könnte sein:\n",
    "\n",
    "*Eine Datei ist eine Menge von **logisch zusammenhängenden** und meist **sequentiell** geordneten Daten, die auf einem Medium **dauerhaft gespeichert** werden und über einen **Namen** (Identifier) ansprechbar sind.*\n",
    "\n",
    "Schauen Sie sich gerne auch den Artikel zum Thema [Datei](https://de.wikipedia.org/wiki/Datei) auf Wikipedia an.\n",
    "\n",
    "### Beispiel: textdatei.txt\n",
    "Speichern Sie eine einfache Mail als Textdatei (Endung .txt) mit dem Namen textdatei.txt ab. Wie kann man jetzt die obigen Punkte sehen?\n",
    "- der Text der Mail ist in der Regel logisch zusammenhängend, beizieht sich z.B. auf einen Betreff\n",
    "- Der Text ist sequentiell aufgebaut: Eine Zeile folgt auf die andere, in den Zeilen steht ein Wort hinter dem anderen, in den Worten sind die Buchstaben hintereinander aufgereiht.\n",
    "- Die Datei textdatei.txt ist (nachdem Sie diese abgespeichert haben) eben dauerhaft gespeichert. Auch wenn Sie das E-Mail-Programm schließen oder gar den Computer ausschalten, ist die Datei weiter auf dem Speicher des Rechners vorhanden. Sie können die Datei beim nächsten Mal wieder öffnen, auch mit einem anderen Programm.\n",
    "- Die Datei hat einen eindeutigen Namen: textdatei.txt"
   ]
  },
  {
   "cell_type": "markdown",
   "metadata": {},
   "source": [
    "## Wo liegt die Datei?\n",
    "Heutzutage speichern die Programme und Apps die Dateien \"irgendwo\" in den Computern oder in das Smartphone. Sie als Nutzer sollen sich keine Gedanken machen müssen, wo Dateien liegen, wo sie abgespeichert werden. (Wissen Sie, wo Ihre mp3 Dateien auf dem Smartphone liegen?)\n",
    "\n",
    "Wenn Sie mit Programmen auf Dateien zugreifen wollen, müssen Sie wissen, **wo** genau diese Dateien liegen. \n",
    "### Wichtig für dieses Notebook\n",
    "Für dieses und die weiteren Notebooks gilt: Solange nichts anderes angegeben wird, befindet sich die Datei, auf die zugegriffen wird, im gleichen Verzeichnis wie das Notebook. Wenn Sie ein Notebook herunterladen, dann müssen Sie auch die Dateien herunterladen und im gleichen Ordner abspeichern. Sonst funktionieren einige Dinge nicht."
   ]
  },
  {
   "source": [
    "## In Python auf Dateien zugreifen\n",
    "Der grundsätzliche Umgang mit einer Datei besteht immer aus den folgenden drei Schritten:\n",
    "- Öffnen der Datei und Zuweisung der Datei zu einer Variablen\n",
    "- Bearbeiten der Datei\n",
    "    - Lesen aus Datei (Lesezugriff)\n",
    "    - Schreiben in Datei (Schreibzugriff)\n",
    "- Schließen der Datei\n",
    "\n",
    "Um eine Datei zu öffnen, gibt es die Funktion `open()`. Für den weiteren Umgang mit der Datei gibt es Methoden wie `.write()`, `.read()` oder `.close()`. Darüber hinaus gibt es noch Bibliotheken, die weitere Funktionen für spezielle Dateiformate anbieten wie z.B. .csv, .json, ..."
   ],
   "cell_type": "markdown",
   "metadata": {}
  },
  {
   "source": [
    "## Dateien öffnen\n",
    "Mit der Python-Funktion `open()` kann eine Datei geöffnet werden. Die Funktion erwartet als Parameter den Namen einer Datei. (Dieser kann ggfs. um den Pfad zur Datei erweitert werden, sollte die Datei nicht im gleichen Verzeichnis wie das Programm liegen.) Zusätzlich kann noch optional der Modus angegeben werden, in dem die Datei geöffnet werden soll. Die verfügbaren Modi sind in der [Python-Dokumentation](https://docs.python.org/3/tutorial/inputoutput.html#reading-and-writing-files) aufgeführt. Die wichtigsten Modi sind:\n",
    "\n",
    "| Modus | Beschreibung                                  |\n",
    "|:-------|:-----------------------------------------------|\n",
    "| r | Aus der Datei wird nur gelesen. Schreibzugriff führt zu\tFehler. Falls Datei nicht existiert --> Fehlermeldung. Am Anfang sitzt der Lesezeiger am Beginn der Datei |\n",
    "| w | In die Datei wird geschrieben. Lesezugriff --> Fehler. Falls \tDatei NICHT existiert, wird eine neue Datei angelegt. Falls\tDatei existiert wird der alte Inhalt gelöscht.|\n",
    "| a | Neue Inhalte können an den alten Inhalt angehängt\twerden (append). Der Schreibzeiger ist auf dem Ende der\tDatei positioniert.|\n",
    "| r+ | Lese- und Schreibzugriff. Fehler, falls Datei nicht existiert.|\n",
    "| w+ | Schreib- und Lesezugriff. Neue Datei, falls Datei nicht \texistiert. Inhalt bestehender Datei wird gelöscht.!|\n",
    "| rb | Der Modus kann um ein \"b\" ergänzt werden. In diesem\tFall liegt keine Textdatei sondern eine Binärdatei vor.|\n",
    "\n",
    "Falls kein Modus angegeben wird, ist der Defaultwert `\"r\"`. **Empfehlung:** Geben Sie IMMER einen Modus an. Das vereinfacht die Wartung des Programms."
   ],
   "cell_type": "markdown",
   "metadata": {}
  },
  {
   "cell_type": "markdown",
   "metadata": {},
   "source": [
    "## Beispiele und Aufgaben\n",
    "In den folgenden Aufgaben und Beispielen sollen die Modi \"r\" und \"w\" nochmal vertieft werden.\n",
    "### Erzeugen einer Datei im Schreibmodus\n",
    "Im folgenden Programm wird eine Datei im Schreibmodus geöffnet. Da es die Datei (vermutlich) bei Ihnen auf dem Rechner noch nicht gibt, wird diese Datei erzeugt. Das Programm schreibt letztlich nichts in die Datei hinein, die Datei existiert trotzdem. (Wichtig: Wenn kein weiterer Pfad angegeben wird, wird die Datei in dem gleichen Ordner erzeugt, in dem das Notebook liegt.) \n",
    "\n",
    "Lassen Sie das Programm laufen und kontrollieren Sie anschließend, ob die Datei erzeugt wurde. "
   ]
  },
  {
   "cell_type": "code",
   "execution_count": null,
   "metadata": {},
   "outputs": [],
   "source": [
    "# Programm 1\n",
    "# Datei wird zum Schreiben geöffnet\n",
    "file = open(\"neue_Datei.txt\", \"w\")\n",
    "# Die Datei wird wieder geschlossen\n",
    "file.close()"
   ]
  },
  {
   "cell_type": "markdown",
   "metadata": {},
   "source": [
    "### Öffnen einer Datei im Lesemodus\n",
    "Im nächsten Programm wird die Datei aus dem ersten Programm im Lesemodus geöffnet und wieder geschlossen. Lassen Sie das Programm laufen. **Löschen** Sie dann die Datei \"neue_Datei.txt\" und lassen Sie das Programm nochmal laufen. Was passiert?"
   ]
  },
  {
   "cell_type": "code",
   "execution_count": null,
   "metadata": {},
   "outputs": [],
   "source": [
    "# Programm 2\n",
    "# Datei wird zum Lesen geöffnet\n",
    "file = open(\"neue_Datei.txt\", \"r\")\n",
    "# Die Datei wird wieder geschlossen\n",
    "file.close()"
   ]
  },
  {
   "cell_type": "markdown",
   "metadata": {},
   "source": [
    "### Öffnen einer schon existierenden Datei im Schreibmodus\n",
    "Öffnen Sie die Datei \"neue_Datei.txt\" mit einem Texteditor, geben Sie ein paar Zeichen und Zeilen ein, speichern diese Datei und schließen Sie den Texteditor wieder. Lassen Sie jetzt Programm 1 (s.o.) nochmal laufen. Kontrollieren Sie anschließend mit dem Texteditor den Inhalt der Datei. Was ist passiert?"
   ]
  },
  {
   "cell_type": "markdown",
   "metadata": {},
   "source": [
    "## Dateien lesen\n",
    "Wie liest man jetzt aus einer Datei? Dateien sind sequentiell organisiert (s.o.), d.h. sie bestehen aus aufeinander folgenden Zeilen. Zur Bearbeitung von Sequenzen eignet sich die `for`-Schleife. Konkret kann man über die Zeilen einer Datei iterieren: "
   ]
  },
  {
   "cell_type": "code",
   "execution_count": null,
   "metadata": {},
   "outputs": [],
   "source": [
    "#Datei öffnen \n",
    "file = open('lorem_ipsum.txt', 'r')\n",
    "\n",
    "#Datei zeilenweise lesen und die Zeilen ausgeben \n",
    "for line in file:\n",
    "    print(line)\n",
    "\n",
    "#Datei schließen\n",
    "file.close()"
   ]
  },
  {
   "source": [
    "Wenn Sie die Ausgabe des Programms mit dem Inhalt der Datei vergleichen (z.B. im Texteditor), fällt auf, dass in der Ausgabe Leerzeilen hinzugefügt  wurden. Woran liegt das?\n",
    "\n",
    "Am Ende jeder Zeile steht in der Textdatei ein Zeilenumbruch `\\n`. Dieser ist nur indirekt zu sehen, da der Text eben in der nächsten Zeile weitergeht. Bei der Ausgabe fügt die Funktion `print()` noch einen weiteren Zeilenumbruch hinzu, daher die Leerzeile. \n",
    "\n",
    "Man kann dieses Verhalten auf verschiedene Weise korrigieren. Zum einen können Sie in der Funktion `print()` den Parameter `end` auf ein leeres Zeichen setzen `end = \"\"`. Eine andere Möglichkeit ist es, die Zeile erst zu \"strippen\". Für Strings gibt es die Methode `.strip()`. Diese entfernt am Anfang und am Ende eines Strings Leerzeichen, Tabs, Zeilenumbrüche. `.strip()` wird häufig beim Einlesen von Formularen verwendet, um zu verhindern, dass ein führendes Leerzeichen die Eingabe verändert. Alternativ kann auch `.lstrip()` oder `.rstrip()` verwendet werden. In diesem Fall wird nur links bzw. rechts etwas gelöscht."
   ],
   "cell_type": "markdown",
   "metadata": {}
  },
  {
   "cell_type": "code",
   "execution_count": null,
   "metadata": {},
   "outputs": [],
   "source": [
    "#Datei öffnen \n",
    "file = open('lorem_ipsum.txt', 'r')\n",
    "\n",
    "#Datei zeilenweise lesen und die Zeilen ausgeben \n",
    "for line in file:\n",
    "    line = line.strip()\n",
    "    print(line)\n",
    "\n",
    "#Datei schließen\n",
    "file.close()"
   ]
  },
  {
   "cell_type": "markdown",
   "metadata": {},
   "source": [
    "### Inhalt einer Datei zweimal ausgeben\n",
    "Im folgenden Programm wird die `for`-Schleife zweimal durchlaufen. Wie sieht die Ausgabe aus? Warum?"
   ]
  },
  {
   "cell_type": "code",
   "execution_count": null,
   "metadata": {},
   "outputs": [],
   "source": [
    "#Datei öffnen \n",
    "file = open('lorem_ipsum.txt', 'r')\n",
    "\n",
    "#Datei zeilenweise lesen und die Zeilen ausgeben \n",
    "print(\"Erste Runde\")\n",
    "for line in file:\n",
    "    line = line.strip()\n",
    "    print(line)\n",
    "    \n",
    "#Datei zeilenweise lesen und die Zeilen ausgeben \n",
    "print(\"Zweite Runde\")\n",
    "for line in file:\n",
    "    line = line.strip()\n",
    "    print(line)\n",
    "\n",
    "#Datei schließen\n",
    "file.close()"
   ]
  },
  {
   "cell_type": "markdown",
   "metadata": {},
   "source": [
    "Beim Lesen einer Datei wird der \"Lesekopf\" zeichenweise über die Datei bewegt. Kommt der Lesekopf am Ende der Datei an und wird **nicht** zurückgesetzt, kann er dort nicht weiterlesen. Um den Schreibkopf zu platzieren, wird weiter unten noch die Methode `.seek()` vorgestellt."
   ]
  },
  {
   "cell_type": "markdown",
   "metadata": {},
   "source": [
    "### Datei in einem Rutsch in eine Liste einlesen\n",
    "Möglicherweise sind die Zeilenumbrüche überflüssig und nur vorhanden, weil z.B. eine Papierseite eine begrenzte Breite hat. In diesem Fall macht es möglicherweise Sinn, den gesamten Text \"in einem Rutsch\" einzulesen, ohne mit einer Schleife über die Zeilen zu iterieren. Hierfür bietet sich die Methode `.readlines()` an. Das Ergebnis ist eine **Liste** mit einem Eintrag."
   ]
  },
  {
   "cell_type": "code",
   "execution_count": null,
   "metadata": {},
   "outputs": [],
   "source": [
    "#Datei öffnen \n",
    "file = open('lorem_ipsum.txt', 'r')\n",
    "\n",
    "#Datei in einem Rutsch einlesen\n",
    "line = file.readlines()\n",
    "print(line)\n",
    "\n",
    "#Datei schließen\n",
    "file.close()"
   ]
  },
  {
   "cell_type": "markdown",
   "metadata": {},
   "source": [
    "### Datei mit `with` öffnen\n",
    "Wie in den vorherigen Beispielen zu sehen müssen Dateien nach dem Öffnen auch immer geschlossen werden. Da das Vergessen des Schließens eine häufige Fehlerursache darstellt, gibt es in Python das Schlüsselwort `with`. Dieses sorgt dafür, das geöffnete Dateien immer korrekt geschlossen werden."
   ]
  },
  {
   "cell_type": "code",
   "execution_count": null,
   "metadata": {},
   "outputs": [],
   "source": [
    "#Datei öffnen\n",
    "with open('lorem_ipsum.txt', 'r') as file:\n",
    "    #Datei zeilenweise lesen und die Zeilen ausgeben \n",
    "    for line in file:\n",
    "        print(line)\n",
    "\n",
    "#Datei wird automatisch geschlossen "
   ]
  },
  {
   "source": [
    "## Dateien schreiben\n",
    "Um in eine Datei schreiben zu können muss sie in einen Modus geöffnet werden, der das Schreiben erlaubt (z.B. der Modus `'w'`). Danach kann mit der Methode `write` Daten in die Datei geschrieben werden. Dies wird in folgender Zelle gezeigt. "
   ],
   "cell_type": "markdown",
   "metadata": {}
  },
  {
   "cell_type": "code",
   "execution_count": null,
   "metadata": {},
   "outputs": [],
   "source": [
    "with open('zahlen.txt', 'w') as f:\n",
    "    for i in range(100):\n",
    "        f.write(str(i) + '\\n')"
   ]
  },
  {
   "cell_type": "markdown",
   "metadata": {},
   "source": [
    "Kontrollieren Sie in der Datei \"zahlen.txt\" mit einem Texteditor das Ergebnis. Frage: Warum wird die Integer `i` noch in einen String verwandelt? Noch eine Frage: Warum wird noch ein `\\n` zu der Zahl hinzugefügt? Experimentieren Sie mit obigen Programm, kontrollieren Sie jeweils die Veränderung der Datei mit einem Texteditor."
   ]
  },
  {
   "cell_type": "markdown",
   "metadata": {},
   "source": [
    "### Aufgabe: Buchstaben von a-z in eine Datei schreiben\n",
    "Erstellen Sie ein Programm (ähnlich wie das vorherige), dass alle Buchstaben von a-z jeweils in eine Zeile einer Datei schreibt. Hinweis: Die Funktion `chr()` wandelt eine Zahl in einen Buchstaben. Dabei entspricht die Zahl 97 einem a, die Zahl 98 einem b usw. Hinter dieser Zuordnung steckt die ASCII-Tabelle. ASCII ist ein Codierungsstandard, der die Zeichen und Befehle einer Schreibmaschine den Bitkombinationen zuordnet. Dabei werden die Bitkombinationen in der Regel als Zahlen von 0 bis 127 angegeben. Siehe auch [hier](https://de.wikipedia.org/wiki/American_Standard_Code_for_Information_Interchange#ASCII-Tabelle)."
   ]
  },
  {
   "cell_type": "code",
   "execution_count": null,
   "metadata": {},
   "outputs": [],
   "source": [
    "with open ..."
   ]
  },
  {
   "source": [
    "## Mit `.seek()` den Lesekopf platzieren\n",
    "Mit Hilfe der Methode `.seek()` kann der Lesekopf (oder Lesezeiger) neu positioniert werden. Dabei werden der Methode zwei Argumente übergeben. \n",
    "Das erste Argument gibt an, um wie viele Bytes (!) der Zeiger verschoben wird. Das zweite Argument legt fest, von wo aus positioniert wird. Dabei gilt\n",
    "* Zweites Argument = 0 →  von Beginn (Defaultwert)\n",
    "* Zweites Argument = 1 →  von aktueller Position aus\n",
    "* Zweites Argument = 2 →  vom Ende aus\n",
    "\n",
    "Beispiel:\n",
    "* file.seek(3) → Zeiger steht auf dem dritten Byte\n",
    "* file.seek(5,1) → Zeiger wird um 5 Positionen von der aktuellen Position ausgehend weitergeschoben\n",
    "* file.seek(0,0) → Zeiger zurück auf den Anfang der Datei\n",
    "\n",
    "Experimentieren Sie in der folgenden Datei mit den Parameter von `.seek()`."
   ],
   "cell_type": "markdown",
   "metadata": {}
  },
  {
   "cell_type": "code",
   "execution_count": null,
   "metadata": {},
   "outputs": [],
   "source": [
    "file = open(\"zahlen.txt\", \"r\")\n",
    "file.seek(60,0)\n",
    "for line in file:\n",
    "    print(line)\n",
    "\n",
    "file.seek(0)\n",
    "for line in file:\n",
    "    line = line.strip()\n",
    "    print(line)\n",
    "file.close()"
   ]
  },
  {
   "source": [
    "## Aufgabe 1: Zwei Ausgaben\n",
    "Oben wurde ein Programm angekündigt, das den Inhalt einer Datei zweimal ausgibt. Kopieren Sie das Programm von oben in die folgende Zelle und ergänzen es so, dass jezt tatsächlich zwei Ausgaben erfolgen."
   ],
   "cell_type": "markdown",
   "metadata": {}
  },
  {
   "cell_type": "code",
   "execution_count": null,
   "metadata": {},
   "outputs": [],
   "source": []
  },
  {
   "source": [
    "## Aufgabe 2: Datei kopieren\n",
    "Erstellen Sie ein Programm, dass eine Datei kopiert. Erstellen Sie zuerst ein Programm, das eine Kopie von \"lorem_ipsum.txt\" erzeugt. Erweitern Sie das Programm anschließend so, dass zuerst nach dem Dateinamen der zu kopierenden Datei gefragt wird, anschließend nach dem Namen der neuen Datei. Danach wird kopiert. Gehen Sie davon aus, dass die Datei tatsächlich existiert."
   ],
   "cell_type": "markdown",
   "metadata": {}
  },
  {
   "cell_type": "code",
   "execution_count": null,
   "metadata": {},
   "outputs": [],
   "source": []
  },
  {
   "attachments": {},
   "cell_type": "markdown",
   "metadata": {},
   "source": [
    "## Aufgabe 3: Zahlen aus einer Datei addieren\n",
    "Die Datei \"08_zahlen.txt\" auf Ilias enthält mehrere Zahlen. In jeder Zeile steht eine Zahl. Lesen Sie die Datei ein. Geben Sie an wie viele Zahlen die Datei enthält und wie groß die Summe der Zahlen ist."
   ]
  },
  {
   "cell_type": "code",
   "execution_count": null,
   "metadata": {},
   "outputs": [],
   "source": []
  },
  {
   "cell_type": "markdown",
   "metadata": {},
   "source": [
    "## Aufgabe 4: Erzeugen Sie eine Datei mit Zufallszahlen\n",
    "Erzeugen Sie eine Datei mit 1.000 Zufallszahlen zwischen 0 und 10.000. Zur Erinnerung: Mit `import random` laden Sie die Bibliothek mit den Zufallszahlen. Anschließend können Sie mit `random.randint(0,100)` eine Zufallszahl zwischen 1 und 100 erzeugen."
   ]
  },
  {
   "cell_type": "code",
   "execution_count": 2,
   "metadata": {},
   "outputs": [
    {
     "name": "stdout",
     "output_type": "stream",
     "text": [
      "94\n",
      "30\n",
      "12\n",
      "65\n",
      "18\n",
      "91\n",
      "31\n",
      "2\n",
      "40\n",
      "92\n"
     ]
    }
   ],
   "source": [
    "import random \n",
    "for i in range(10):\n",
    "    x = random.randint(0,100)\n",
    "    print(x)"
   ]
  },
  {
   "cell_type": "code",
   "execution_count": null,
   "metadata": {},
   "outputs": [],
   "source": []
  }
 ],
 "metadata": {
  "file_extension": ".py",
  "kernelspec": {
   "display_name": "Python 3",
   "language": "python",
   "name": "python3"
  },
  "language_info": {
   "codemirror_mode": {
    "name": "ipython",
    "version": 3
   },
   "file_extension": ".py",
   "mimetype": "text/x-python",
   "name": "python",
   "nbconvert_exporter": "python",
   "pygments_lexer": "ipython3",
   "version": "3.7.7"
  },
  "mimetype": "text/x-python",
  "name": "python",
  "npconvert_exporter": "python",
  "pygments_lexer": "ipython3",
  "version": 3
 },
 "nbformat": 4,
 "nbformat_minor": 2
}