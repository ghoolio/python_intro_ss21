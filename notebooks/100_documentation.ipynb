{
 "cells": [
  {
   "source": [
    "# Dokumentation von Python\n",
    "<br>\n",
    "In diesem Teil gehen wir auf die genaue Nutzung von der Python Dokumentation ein.\n",
    "Diese finden Sie unter https://docs.python.org/3 .\n",
    "\n",
    "Dort finden Sie auf der linken Seite ein Menü zur Auswahl der jeweiligen Version von Python.\n",
    "Hierbei ist es wichtig, die richtige Version auszuwählen.\n",
    "Falls sie Ihre Python Version nicht wissen , drücken Sie `windows` + `r`. Nun sollte sich ein Fenster öffnen mit einer Eingabezeile. In diesem geben Sie `cmd` ein und drücken `enter`. \n",
    "Danach sollte sich wieder ein Fenster auf Ihrem Bildschirm öffnen. In diesem müssen Sie nun `py -- version` eingeben und `enter` drücken.\n",
    "Dort wird Ihnen nun die Python Version angezeigt.\n",
    "\n",
    "Da dies nur eine Einführung ist , sind die meisten Punkte nicht relevant für Beginner in Python.\n",
    "Daher gehen wir nur auf die folgenden Bereiche ein:\n",
    "* Tutorial\n",
    "* Alternative Dokumentationen\n",
    "* Neuigkeiten\n",
    "* Built in Functions finden\n",
    "\n",
    "\n"
   ],
   "cell_type": "markdown",
   "metadata": {}
  },
  {
   "source": [
    "### Tutorial : \n",
    "Im ersten Teil wollen wir uns damit beschäftigen, wie wir das Tutorial als \"Lexikon\" für die gelernten Inhalte nehmen können.\n",
    "\n",
    "\n",
    "Um zu diesem Reiter zu kommen klicken Sie bitte auf den Link Tutorial.\n",
    "In diesem Tutorial können Sie zu allen grundlegenden Themen nochmal recherchieren.\n",
    "Nehmen wir an , dass Sie nochmal das Erstellen von **`Functions`** wiederholen wollen oder eine zweite Erklärung benötigen. Hierzu suchen Sie in der Liste den Eintrag für **`Defining Function`**. Diesen finden Sie unter 4.6. Dort finden Sie nun ein Beispiel zur Verwendung in einem Programm. Weiterhin erhalten Sie hier eine grobe Übersicht, wie Sie das Statement zu nutzen haben und worauf Sie achten müssen.\n",
    "\n",
    "Im zweiten Teil beschäftigen wir uns damit wie wir das Tutorial als \"Handbuch\" zur Verbesserung der Programmierkenntnisse nutzen können.\n",
    "\n",
    "Wenn Ihnen die bisher gelernten Inhalte zu wenig oder zu oberflächlich sind , können Sie dieses Tutorial auch von Beginn an durcharbeiten. Je nachdem wie fit Sie in den jeweiligen Themen sind , können Sie diese zu Beginn auch überspringen. Spätestens ab dem 4. Kapitel sollten Sie jedoch endgültig alles durcharbeiten. Ab diesem Punkt wiederholen Sie nochmal die wichtigen Module in Python und lernen auch wichtige neue Module auf die später aufgebaut wird, jedoch nicht für diese Veranstaltung relevant sind.\n",
    "\n",
    "\n"
   ],
   "cell_type": "markdown",
   "metadata": {}
  },
  {
   "source": [
    "### Alternative Dokumentationen:\n",
    "Angenommen Sie möchten ein Script für Ihren Browser schreiben, werden Sie an `Selenium` nicht vorbeikommen.\n",
    "\n",
    "Zu Beginn werden Sie jedoch große Schwierigkeiten haben, wie Sie die verschiedenen Funktionen dieser Bibliothek einsetzen können. Hierbei kann ihnen die Standard Python Dokumentation **`NICHT`** helfen. Dies liegt daran , dass Sie das Selenium Modul mittels pip installiert haben und es nicht zum Standard von Python gehört. Je nachdem welche Module Sie verwenden, um Ihre Skripte zu optimieren finden Sie jedoch meist Dokumentationen über diese bei Google.\n",
    "\n"
   ],
   "cell_type": "markdown",
   "metadata": {}
  },
  {
   "source": [
    "### Neuigkeiten:\n",
    "\n",
    "Wenn Sie nach dem Durcharbeiten der Grundlagen und Erstellung mehrere Programme immer noch Interesse und Spaß am Programmieren haben, werden Sie kaum um Updates herumkommen.\n",
    "Bei den Updates unterscheidet man grundsätzlich in drei verschiedene Änderungen.\n",
    "* `Major`\n",
    "* `Minor`\n",
    "* `Patch`\n",
    "\n",
    "Um diese verschiedenen Updates zu Verstehen werfen wir einmal einen Blick auf eine Version.\n",
    "Angenommen Sie haben die Version 3.7.8 installiert. Wie Sie wahrscheinlich schon bemerkt haben, setzt sich die Version aus drei Zahlen zusammen .In diesem Fall ist die 3 Major, die 7 Minor und die 8 Patch.\n",
    "\n",
    "#### Major: \n",
    "* Änderung der API\n",
    "* Version ist **nicht** abwärtskompatibel\n",
    "\n",
    "#### Minor:\n",
    "* Hinzufügen von Funktionalitäten\n",
    "* Version ist abwärtskompatibel\n",
    "\n",
    "#### Patch:\n",
    "* Behebung von Fehlern\n",
    "* Version ist abwärtskompatibel\n"
   ],
   "cell_type": "markdown",
   "metadata": {}
  },
  {
   "source": [
    "### Built in Functions finden:\n",
    "\n",
    "#### Beispiel 1 (mit Hilfe):\n",
    "\n",
    "Wenn Sie professionell mit Python arbeiten, werden Sie auch nicht um Built in Functions herumkommen. Um den Zweck dieser zu erläutern schauen wir uns die folgende Aufgabe an.\n",
    "\n",
    "Sie arbeiten in einem Finanzberater und kriegen eine Liste mit potenziellen Kunden geliefert. \n",
    "Diese beinhaltet die Vornamen Nachnamen und Telefonnummern. Ihr internes System speichert die Vornamen Nachnamen und Telefonnummern einzeln ab, weshalb Sie nacheinander eingegeben werden müssen. \n",
    "Ihre Aufgabe ist es nun die Liste mit den potenziellen Kunden in das System einzupflegen, jedoch ist die Liste eine Textdatei mit 500 Einträgen und nicht in Namen und Nummern aufgeteilt.\n",
    "Da Sie sich an Ihre Uni-Zeit erinnern kommen Sie auf die Idee ein Script zu schreiben, welches automatisiert die Namen und Nummern trennt.\n",
    "Hierzu haben Sie folgenden Code:"
   ],
   "cell_type": "markdown",
   "metadata": {}
  },
  {
   "cell_type": "code",
   "execution_count": null,
   "metadata": {},
   "outputs": [],
   "source": [
    "Vorname_Nachname_Telefonnummer = \"Max Mustermann 12345/6789\"\n",
    "\n",
    "Vorname =\n",
    "Nachname = \n",
    "Telefonnummer = \n",
    "print(\"Vorname lautet : \" , Vorname, \"! Nachname lautet :\" ,Nachname,\"! Telefonnummer lautet:\" ,Telefonnummer, \"!\")"
   ]
  },
  {
   "source": [
    "Wenn Sie diesen Code ausführen, wird erstmal nichts passieren. Der Grundgedanke ist Sie haben die Textzeile, und diese wollen Sie aufteilen. Anstatt nun ein aufwendiges Programm zu schreiben, wollen Sie eine Built in Function verwenden. Das Problem hierbei ist Sie haben meistens keine Ahnung, welche Funktion gebraucht wird. Nach kurzer Überlegung würde man sagen, dass der string Vorname_Nachname_Telefonnummer geteilt oder getrennt werden muss. Wenn man diese beiden Begriffe ins Englische Übersetzt kommt man auf zwei Möglichkeiten: 1.part 2.split . Da Sie nun eine Idee haben, wie die Funktion heißen könnte aber noch nicht wissen wie man diese verwendet werfen wir einen Blick in die Dokumentation. In dieser finden Sie oben rechts ein Feld namens Quick search. Zuerst geben wir dort string part ein. Nach kurzem überfliegen der erste 10 Ergebnisse , kann man schnell  erkennen , dass es hier nicht um eingebaute functions von einem string geht. Daher probieren wir string split aus. Dort finden wir an dritter Stelle unter Common String operations string.split(). Wenn wir auf diesen Eintrag draufklicken werden wir auf eine neue Seite weitergeleitet wo \"Common String operations\" dokumentiert sind. Hier suchen wir nun nach der .split() Funktion und können nachlesen wie diese Funktioniert, was Sie macht und wie man Sie einsetzt. Da Sie diese Funktion nun verstanden haben, können Sie oben die Aufgabe nun lösen.\n",
    "\n",
    "Lösungen finden Sie am Ende."
   ],
   "cell_type": "markdown",
   "metadata": {}
  },
  {
   "source": [
    "#### Beispiel 2(Ohne Hilfe):\n",
    "\n",
    "In diesem Beispiel arbeiten Sie in der Presseabteilung. Sie haben eine Pressemitteilung des Vorstands als Dokument bekommen. Durch einen Fehler in der Verschlüsselung wurden alle `ab` durch `}]` ersetz. Weiterhin wissen Sie von einem Kollegen, dass jedes `e` durch eine `0981` ersetz wurde. Ihre Aufgabe ist es nun den Text innerhalb von 1 Stunde zu überarbeiten und pünktlich zu veröffentlichen. Da der Text 12 Seiten umfasst und Ihnen kein Fehler unterlaufen darf müssen Sie hierfür ein kleines Programm schreiben. Sie haben es geschafft, den untenstehenden Code zu entwickeln. Nun müssen Sie eine Funktion nehmen, die in dem String die oben genannten Buchstaben und Zeichen ersetz. Da Ihnen nur noch 15 Minuten zur Abgabe bleiben können Sie auch keine eigene Funktion entwickeln, sondern müssen auf Built-In-Functions zurückgreifen. Versuchen Sie nun das oben angewendete Prinzip selbst und suchen Sie nach der Funktion. Am Ende des Dokumentes finden Sie die Lösung."
   ],
   "cell_type": "markdown",
   "metadata": {}
  },
  {
   "cell_type": "code",
   "execution_count": null,
   "metadata": {},
   "outputs": [],
   "source": [
    "Pressetext = \"S0981hr g09810981hrte Damen und H0981rr0981n,\\ndi0981 B0981ispi0981l AG informi0981rt, am 10.11.20x1 Akti0981nant0981il0981 zurückzukauf0981n. Weiterhin ver}]schieden wir uns von unserem Vorstandsmitglied Max Mustermann und wünschen ihm alles Gute. ......\"\n",
    "#hier muss das ersetzen passieren.\n",
    "Pressetext = \n",
    "Pressetext = \n",
    "print(Pressetext)"
   ]
  },
  {
   "cell_type": "markdown",
   "metadata": {},
   "source": [
    "Lösung Beispiel 1:"
   ]
  },
  {
   "cell_type": "code",
   "execution_count": null,
   "metadata": {},
   "outputs": [],
   "source": [
    "\n",
    "Vorname_Nachname_Telefonnummer = \"Max Mustermann 12345/6789\"\n",
    "x = Vorname_Nachname_Telefonnummer.split(' ')\n",
    "Vorname = x[0]\n",
    "Nachname = x[1]\n",
    "Telefonnummer = x[2] \n",
    "print(\"Vorname lautet : \" , Vorname, \"! Nachname lautet :\" ,Nachname,\"! Telefonnummer lautet:\" ,Telefonnummer, \"!\")"
   ]
  },
  {
   "cell_type": "markdown",
   "metadata": {},
   "source": [
    "Lösung Beispiel 2:"
   ]
  },
  {
   "cell_type": "code",
   "execution_count": null,
   "metadata": {},
   "outputs": [],
   "source": [
    "Pressetext = \"S0981hr g09810981hrte Damen und H0981rr0981n,\\ndi0981 B0981ispi0981l AG informi0981rt, am 10.11.20x1 Akti0981nant0981il0981 zurückzukauf0981n. Weiterhin ver}]schieden wir uns von unserem Vorstandsmitglied Max Mustermann und wünschen ihm alles Gute. ......\"\n",
    "#hier muss das ersetzen passieren.\n",
    "Pressetext = Pressetext.replace(\"0981\",\"e\")\n",
    "Pressetext = Pressetext.replace(\"}]\",\"ab\")\n",
    "print(Pressetext)"
   ]
  }
 ],
 "metadata": {
  "language_info": {
   "name": "python",
   "codemirror_mode": {
    "name": "ipython",
    "version": 3
   },
   "version": "3.8.0-final"
  },
  "orig_nbformat": 2,
  "file_extension": ".py",
  "mimetype": "text/x-python",
  "name": "python",
  "npconvert_exporter": "python",
  "pygments_lexer": "ipython3",
  "version": 3,
  "kernelspec": {
   "name": "python38064bitbaef836a98804bf8802a43249a276387",
   "display_name": "Python 3.8.0 64-bit"
  }
 },
 "nbformat": 4,
 "nbformat_minor": 2
}