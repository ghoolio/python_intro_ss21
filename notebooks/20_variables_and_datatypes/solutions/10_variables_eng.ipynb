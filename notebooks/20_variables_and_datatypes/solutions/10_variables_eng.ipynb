{
 "cells": [
  {
   "cell_type": "markdown",
   "metadata": {},
   "source": [
    "# Instructions and variables\n",
    "## Instructions\n",
    "All Python programs consist of a series of *instructions*. The instructions describe what steps the computer should take when running a Python program. An example of instruction\n",
    "is the multiplication of two numbers. The multiplication is represented in Python by the character `*`. The\n",
    "Execution of an instruction by the computer is termed as *evaluate*.\n",
    "\n",
    "A program usually consists of many instructions.\n",
    "These are carried out one after the other from top to bottom. (The program flow can differ depending on used constructs).\n",
    "\n",
    "The result of the evaluation of the instructions inside Jupyter code cells is placed directly below the cell."
   ]
  },
  {
   "cell_type": "code",
   "execution_count": null,
   "metadata": {},
   "outputs": [],
   "source": [
    "5 * 3\n",
    "\n"
   ]
  },
  {
   "cell_type": "markdown",
   "metadata": {},
   "source": [
    "The character `*` is referred to as *operator* in Python. The following table contains a list of commonly used operators.\n",
    "\n",
    "|  Beschreibung        | Operator | Beispiel     | Ergebnis   |\n",
    "|----------------------|----------|--------------|------------|\n",
    "| addition             | +        | 2 + 3        | 5          |\n",
    "| subtraction          | -        | 2 - 3        | -1         |\n",
    "| multiplication       | *        | 2 * 3        | 6          |\n",
    "| division             | /        | 7 / 3        | 2.3333333333333335 |\n",
    "| whole number division | //       | 7 // 3       | 2          |\n",
    "| modulo               | %        | 7 % 3        | 1          |\n",
    "| exponentiation       | **       | 2 ** 0.5     | 1.4142135623730951 |\n",
    "\n",
    "Operators in Python have the same precedence as in algebra.\n",
    "Multiplication and division are performed before addition and subtraction.\n",
    "Parentheses can be used to influence the order of the evaluation.\n",
    "\n",
    "A brief explanation of the integer division and modulo: In primary school, you learned the integer division first. If you divide 7 by 3 (and don't know any decimal numbers yet), the result is 2 remainder 1.\n",
    "The integer division has the result 2, the modulo the rest, in the example above the 1.\n",
    "The modulo operation is used **frequently** in programming!"
   ]
  },
  {
   "cell_type": "code",
   "execution_count": null,
   "metadata": {},
   "outputs": [],
   "source": [
    "1 + 2 * 3 * 4 * 5 - 6 / 7 % 8 ** 9 *100\n"
   ]
  },
  {
   "cell_type": "code",
   "execution_count": null,
   "metadata": {},
   "outputs": [],
   "source": [
    "1 + 2 * (3 * 4 * 5 - 6) / (7 % 8) ** 9\n"
   ]
  },
  {
   "cell_type": "markdown",
   "metadata": {},
   "source": [
    "## variables\n",
    "\n",
    "*Variables* exist in (almost) every programming language. This term has a different meaning in programming than\n",
    "in mathematics. Variables in programming are names that can be assigned a value. From a technical point of view,\n",
    "a variable is a space in memory that has a certain value at a certain point in time. The value of a *variable* can\n",
    "be set using the assignment operator `=`. In the instructions below\n",
    "the name of the *variable* is then replaced by the stored value.\n",
    "\n",
    "**Attention:** In mathematics, `a = 2` is a statement. This is either true or false.\n",
    "In programming, `a = 2` is an assignment."
   ]
  },
  {
   "cell_type": "code",
   "execution_count": null,
   "metadata": {},
   "outputs": [],
   "source": [
    "a = 2\n",
    "b = 3\n",
    "a * b\n"
   ]
  },
  {
   "cell_type": "markdown",
   "metadata": {},
   "source": [
    "### Multiple assignments in sequence\n",
    "The value of a variable can also be changed by an assignment. Those assignments can take place one after the other.\n",
    "In the example below, the variable is first assigned the value 2, then the value 3. This results in deleting the 2,\n",
    "the storage space is just occupied with 3. The 2 is forgotten."
   ]
  },
  {
   "cell_type": "code",
   "execution_count": null,
   "metadata": {},
   "outputs": [],
   "source": [
    "a = 2\n",
    "a = 3\n",
    "a\n"
   ]
  },
  {
   "cell_type": "markdown",
   "metadata": {},
   "source": [
    "### A variable on both sides of the assignment\n",
    "Assignments could look strange if viewed mathematically.\n",
    "This is e.g. the case when there is a variable on both sides of the assignment.\n",
    "In the example below, the variable *a* is initialized with 10. More precisely: the value of the variable *a* will be read, 10 will be added and at last the result is written back to the memory location.\n",
    "It happens to be the same location as before."
   ]
  },
  {
   "cell_type": "code",
   "execution_count": null,
   "metadata": {},
   "outputs": [],
   "source": [
    "a = 25\n",
    "a = a + 10\n",
    "a"
   ]
  },
  {
   "cell_type": "markdown",
   "metadata": {},
   "source": [
    "### A variable can only be accessed if a value has previously been assigned\n",
    "You saw above that variables can be on the left side of the equality sign.\n",
    "These variables can then be accessed or *read*. The value on the right side is *written* into the variable.\n",
    "This variable can only be accessed *read* if the variable has previously been assigned a value.\n",
    "Otherwise there is an error message. Execute the next cell and try to understand the error message."
   ]
  },
  {
   "cell_type": "code",
   "execution_count": null,
   "metadata": {},
   "outputs": [],
   "source": [
    "a = unknown_variable"
   ]
  },
  {
   "cell_type": "markdown",
   "metadata": {},
   "source": [
    "### A little digression: cells in notebooks are interconnected\n",
    "If a cell was successfully executed in a notebook, the results are also known in other cells of the notebook.\n",
    "- First execute the first of the following two cells. An error message is generated.\n",
    "- Then execute the second cell and then the first. Everything should work this time.\n",
    "- If you want to repeat the whole thing, you have to reset the output of all cells in the menu \"Kernel\""
   ]
  },
  {
   "cell_type": "code",
   "execution_count": null,
   "metadata": {},
   "outputs": [],
   "source": [
    "a = new_cell + 10\n",
    "a"
   ]
  },
  {
   "cell_type": "code",
   "execution_count": null,
   "metadata": {},
   "outputs": [],
   "source": [
    "new_cell = 20"
   ]
  },
  {
   "cell_type": "markdown",
   "metadata": {},
   "source": [
    "### Sequencing assignments\n",
    "Sometimes multiple operations are applied to a variable. This can be done with a sequence of assignments similar to the construct above. Sometimes this helps to make a program clearer.\n",
    "E.g. the assignment `a = 5 * 3 * 7 + (2 - 10 * 3)` can be written as follows:\n",
    "(When sequencing, you have to be careful not to break any bracket rules)."
   ]
  },
  {
   "cell_type": "code",
   "execution_count": null,
   "metadata": {},
   "outputs": [],
   "source": [
    "a = 5\n",
    "a = a * 3\n",
    "a = a * 7\n",
    "a = a + (2 - 10 * 3)\n",
    "a"
   ]
  },
  {
   "cell_type": "markdown",
   "metadata": {},
   "source": [
    "### On the left side only one assignment, only ONE variable\n",
    "On the right side of an assignment, there can be complex expressions that contain variables (e.g. `a = b ** 2 + c ** 2`).\n",
    "On the other hand, only one variable can be on the left side.\n",
    "If you run the following construct, you will get no error message."
   ]
  },
  {
   "cell_type": "code",
   "execution_count": null,
   "metadata": {},
   "outputs": [],
   "source": [
    "b = 3\n",
    "c = 4\n",
    "\n",
    "a = b ** 2 + c ** 2\n",
    "a = a ** 0.5\n",
    "a"
   ]
  },
  {
   "cell_type": "markdown",
   "metadata": {},
   "source": [
    "### Data Types\n",
    "In addition to its name, each variable also has a data type. This property will be explained in more detail later.\n",
    "\n",
    " As you can see in the previous example, complex expressions can appear on the right side of an assignment,\n",
    " which in turn contain *variables*.\n",
    " "
   ]
  },
  {
   "cell_type": "markdown",
   "metadata": {},
   "source": [
    "## Variable Names\n",
    "Python has several rules (conventions) for variable names.\n",
    "A variable name must always have a letter or begin with an underscore (`_`).\n",
    "After that, any number of letters, numbers, and underscores can follow.\n",
    "\n",
    "Variable names must not contain special characters nor spaces. Thus e.g. following variable names are allowed:"
   ]
  },
  {
   "cell_type": "code",
   "execution_count": null,
   "metadata": {},
   "outputs": [],
   "source": [
    "Name = 'David'\n",
    "surename = 'Bowie'\n",
    "credit_balance = -2000\n",
    "_new_credit_balance = 1000\n"
   ]
  },
  {
   "cell_type": "markdown",
   "metadata": {},
   "source": [
    "In contrast, the following variable names are not permitted. Run the cell and check the error message."
   ]
  },
  {
   "cell_type": "code",
   "execution_count": null,
   "metadata": {},
   "outputs": [],
   "source": [
    "1_konto = 1234\n",
    "email@fh = 'drumm@fh-aachen.de'\n"
   ]
  },
  {
   "cell_type": "markdown",
   "metadata": {},
   "source": [
    "In Python, variable names are case sensitive.\n",
    "That means that in a Python program `name` and `Name` represent different variables. The following example clarifies."
   ]
  },
  {
   "cell_type": "code",
   "execution_count": null,
   "metadata": {},
   "outputs": [],
   "source": [
    "name = 'Joey'\n",
    "Name = 'Ramone'\n",
    "\n",
    "name + ' ' + Name\n"
   ]
  },
  {
   "cell_type": "markdown",
   "metadata": {},
   "source": [
    "Finally, there are several reserved *keywords* in Python that are not allowed to be used as variable names. These *keywords* have a special meaning in Python, which you will get to know in the course of the lecture. \n",
    "Examples of reserved *keywords* are `and`, `while` or `if`. Run this cell and look at the error message."
   ]
  },
  {
   "cell_type": "code",
   "execution_count": null,
   "metadata": {},
   "outputs": [],
   "source": [
    "if = 42 \n"
   ]
  },
  {
   "cell_type": "markdown",
   "metadata": {},
   "source": [
    "### Conventions for variable names\n",
    "In the Python community, lowercase variable names are preferred. So `name` is used instead of `name`.\n",
    "Variable with several words are separated by an underscore `_`, e.g. `account_number` or` minimum_account_balance`.\n",
    "\n",
    "Not every allowed variable name is also a good variable name! A good programming style (not just in Python)\n",
    "is characterized by the fact that a program is easy to understand.\n",
    "\n",
    "> Any fool can write code that a computer can understand. Good programmers write code that humans can understand. <br>\n",
    "> Martin Fowler, 2008.\n",
    "\n",
    "For this reason, you should use variable names that have a meaning.\n",
    "- `credits_new` is better then `cn`\n",
    "- `length_car` is better then `length`\n",
    "\n",
    "Write your variable names so that you will in a year still understand what your program expected to calculate.\n",
    "\n",
    "---\n",
    "### Exercise\n",
    "Create some *variables* and test which names are allowed. See what happens if a name is not allowed.\n",
    "Assign your *variable* values and test what is (not) possible.\n",
    "The `print()` is used below to print variables and other parameters. Details about that later."
   ]
  },
  {
   "cell_type": "code",
   "execution_count": null,
   "metadata": {},
   "outputs": [],
   "source": [
    "a = 5\n",
    "print(a)\n",
    "a = 7\n",
    "print(a) \n",
    "\n",
    "a = 5 + 6 \n",
    "print(a)\n"
   ]
  },
  {
   "cell_type": "markdown",
   "metadata": {},
   "source": [
    "### Assignments in detail\n",
    "Another important note about assignments. In programming, `a = b` is different from `b = a`.\n",
    "The statement would be mathematically identical.\n",
    "In programming, however, the result of the Expression on the right side of the assignment operator `=` is assigned to\n",
    "the variable on the left side."
   ]
  },
  {
   "cell_type": "code",
   "execution_count": null,
   "metadata": {},
   "outputs": [],
   "source": [
    "a = 5\n",
    "b = 7\n",
    "a = b\n",
    "print(a)\n"
   ]
  },
  {
   "cell_type": "code",
   "execution_count": null,
   "metadata": {},
   "outputs": [],
   "source": [
    "a = 5\n",
    "b = 7\n",
    "b = a\n",
    "print(a)\n",
    "print(b)\n"
   ]
  },
  {
   "cell_type": "markdown",
   "metadata": {},
   "source": [
    "\n",
    "### More details about variables\n",
    "In Python, a *variable* when used for the first time is created in an assignment. So variables don't have to be declared first, unlike some other programming languages.\n",
    "\n",
    "Note: a *variable* can be simultaneously on both the right and left side of the assignment operator."
   ]
  },
  {
   "cell_type": "code",
   "execution_count": null,
   "metadata": {},
   "outputs": [],
   "source": [
    "a = 10\n",
    "a = a + 1\n",
    "print(a)\n"
   ]
  },
  {
   "cell_type": "markdown",
   "metadata": {},
   "source": [
    " In der Programmierung bedeutet  dieses Konstrukt, dass der Wert von a um 1 erhöht wird. Dieses Konstrukt kommt\n",
    " sehr häufig vor. Daher stellt Python die verkürzte Schreibweise `a += 1` zur Verfügung."
   ]
  },
  {
   "cell_type": "code",
   "execution_count": null,
   "metadata": {},
   "outputs": [],
   "source": [
    "a = 1\n",
    "a += 1  \n",
    "print(a)"
   ]
  },
  {
   "cell_type": "markdown",
   "metadata": {},
   "source": [
    "The same works with other operators (e.g. - or *) and other values."
   ]
  },
  {
   "cell_type": "code",
   "execution_count": null,
   "metadata": {},
   "outputs": [],
   "source": [
    "a = 10 \n",
    "a *= 2\n",
    "a -= 100\n",
    "print(a)\n"
   ]
  },
  {
   "cell_type": "markdown",
   "metadata": {},
   "source": [
    " ---\n",
    "## Exercise\n",
    "Calculate the volume and surface area of a cube (side lengths a, b, c of equal length) or a cuboid (side lengths a, b, c of different lengths). To do this, proceed as follows:\n",
    "1. Define reasonable names for the variables to represent the side length of the cube and assign them values\n",
    "1. Calculate the area of the cube and assign the result to the variable `cub_area`\n",
    "1. Calculate the volume of the cube and assign the result to the variable `cube_volume`\n",
    "1. Output the result of the calculation using the following instructions:\n",
    "    - print(cube_area)\n",
    "    - print(cube_volume)\n",
    "\n",
    "1. Repeat steps 1 - 4 for the cuboid."
   ]
  },
  {
   "cell_type": "code",
   "execution_count": null,
   "metadata": {},
   "outputs": [],
   "source": [
    "length = 5\n",
    "width = 5\n",
    "cube_area = length * width\n",
    "print(cube_area)"
   ]
  }
 ],
 "metadata": {
  "file_extension": ".py",
  "kernelspec": {
   "display_name": "Python 3",
   "language": "python",
   "name": "python3"
  },
  "language_info": {
   "codemirror_mode": {
    "name": "ipython",
    "version": 3
   },
   "file_extension": ".py",
   "mimetype": "text/x-python",
   "name": "python",
   "nbconvert_exporter": "python",
   "pygments_lexer": "ipython3",
   "version": "3.7.1"
  },
  "mimetype": "text/x-python",
  "name": "python",
  "npconvert_exporter": "python",
  "pycharm": {
   "stem_cell": {
    "cell_type": "raw",
    "metadata": {
     "collapsed": false
    },
    "source": []
   }
  },
  "pygments_lexer": "ipython3",
  "version": 3
 },
 "nbformat": 4,
 "nbformat_minor": 2
}
