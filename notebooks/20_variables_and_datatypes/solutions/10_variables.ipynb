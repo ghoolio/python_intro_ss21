{
 "cells": [
  {
   "source": [
    "# Anweisungen und Variablen\n",
    "## Anweisungen\n",
    "Alle Python-Programme bestehen aus einer Reihe von *Anweisungen*. Die Anweisungen beschreiben\n",
    "welche Schritte der Computer bei der Ausführung eines Python-Programms durchführen soll. Ein Beispiel für eine Anweisung\n",
    "ist die Multiplikation von zwei Zahlen. Die Multiplikation wird in Python durch das Zeichen `*` dargestellt. Die\n",
    "Ausführung einer Anweisung durch den Computer wird als *auswerten* bezeichnet. \n",
    "\n",
    "In der Regel besteht ein Programm aus vielen Anweisungen.\n",
    "Diese werden nacheinander von oben nach unten ausgeführt. (Der Programmablauf kann aber durch verschiedene Konstrukte\n",
    "verändert wird.)  \n",
    "\n",
    "In Code-Zellen von Jupyter\n",
    "Notebooks wird das Ergebnis der Auswertung der letzten Anweisung unterhalb der Zelle ausgegeben."
   ],
   "cell_type": "markdown",
   "metadata": {}
  },
  {
   "cell_type": "code",
   "execution_count": null,
   "metadata": {},
   "outputs": [],
   "source": [
    "5 * 3\n",
    "\n"
   ]
  },
  {
   "source": [
    "Das Zeichen `*` wird in Python als *Operator* bezeichnet. Folgende Tabelle enthält eine Liste von\n",
    "häufig verwendeten Operatoren.\n",
    "\n",
    "|  Beschreibung        | Operator | Beispiel     | Ergebnis   |\n",
    "|----------------------|----------|--------------|------------|\n",
    "| Addition             | +        | 2 + 3        | 5          |\n",
    "| Subtraktion          | -        | 2 - 3        | -1         |\n",
    "| Multiplikation       | *        | 2 * 3        | 6          |\n",
    "| Division             | /        | 7 / 3        | 2.3333333333333335 |\n",
    "| Ganzzahlige Division | //       | 7 // 3       | 2          |\n",
    "| Modulo               | %        | 7 % 3        | 1          |\n",
    "| Exponentiation       | **       | 2 ** 0.5     | 1.4142135623730951 |\n",
    "\n",
    "Für Anweisungen in Python gelten die aus der Algebra bekannten Prioritäten für Operatoren. \n",
    "Multiplikation und Division werden vor der Addition und Subtraktion durchgeführt. Klammern können\n",
    "verwendet werden, um die Reihenfolge der Auswertung zu beeinflussen.\n",
    "\n",
    "Kurze Erklärung zur ganzzahligen Division und zu Modulo: In der Grundschule haben Sie zuerst die ganzzahlige Division\n",
    "kennengelernt. Wenn Sie 7 durch 3 teilen (und noch keine Kommazahlen kennen), dann ist das Ergebnis 2 Rest 1.\n",
    "Die ganzzahlige Division hat als Ergebnis die 2, das Modulo den Rest, in obigem Beispiel die 1.\n",
    "Die Modulo-Operation wird in der Programmierung **häufig** verwendet!"
   ],
   "cell_type": "markdown",
   "metadata": {}
  },
  {
   "cell_type": "code",
   "execution_count": null,
   "metadata": {},
   "outputs": [],
   "source": [
    "1 + 2 * 3 * 4 * 5 - 6 / 7 % 8 ** 9 *100\n"
   ]
  },
  {
   "cell_type": "code",
   "execution_count": null,
   "metadata": {},
   "outputs": [],
   "source": [
    "1 + 2 * (3 * 4 * 5 - 6) / (7 % 8) ** 9\n"
   ]
  },
  {
   "cell_type": "markdown",
   "metadata": {},
   "source": [
    "## Variablen\n",
    "\n",
    "In (fast) jeder Programmiersprache existieren *Variablen*. Dieser Begriff hat in der Programmierung\n",
    "jedoch eine andere Bedeutung als in der Mathematik. In der Programmierung ist eine *Variable*\n",
    "ein Name, dem ein Wert zugewiesen werden kann. Aus technischer Sicht ist eine Variable ein Bereich im\n",
    "Speicher, der zu einem Zeitpunkt einen bestimmten Wert hat.\n",
    "\n",
    "Der Wert einer *Variablen* kann durch den Zuweisungsoperator `=` gesetzt werden. In nachfolgenden Anweisungen\n",
    "wird der Name der *Variable* dann durch den gespeicherten Wert ersetzt.\n",
    "\n",
    "**Achtung:** In der Mathematik ist `a = 2` eine Aussage. Diese ist entweder wahr oder falsch.\n",
    "In der Programmierung ist `a = 2` eine Zuweisung."
   ]
  },
  {
   "cell_type": "code",
   "execution_count": null,
   "metadata": {},
   "outputs": [],
   "source": [
    "a = 2\n",
    "b = 3\n",
    "a * b\n"
   ]
  },
  {
   "cell_type": "markdown",
   "metadata": {},
   "source": [
    "### Mehrere Zuweisungen nacheinander\n",
    "Der Wert einer Variablen kann durch eine Zuweisung auch geändert werden. Wenn nacheinander Zuweisungen stattfinden.\n",
    "In dem Beispiel unten wird der Variablen zuerst der Wert 2 zugewiesen, anschließend der Wert 3. Dadurch wird die 2\n",
    " gelöscht, der Speicherplatz ist eben mit der 3 belegt. Die 2 ist vergessen."
   ]
  },
  {
   "cell_type": "code",
   "execution_count": null,
   "metadata": {},
   "outputs": [],
   "source": [
    "a = 2\n",
    "a = 3\n",
    "a\n"
   ]
  },
  {
   "cell_type": "markdown",
   "metadata": {},
   "source": [
    "### Eine Variable auf beiden Seiten der Zuweisung\n",
    "Zuweisungen können seltsam (oder falsch) aussehen, wenn man sie mit den Augen der Mathematik betrachtet.\n",
    "Das ist z.B. dann der Fall, wenn eine Variable auf beiden Seiten der Zuweisung steht.\n",
    "Im Beispiel unten wird die Variable a um 10 erhöht. Genauer: Zuerst wird der Wert der Variablen a ausgelesen, es wird\n",
    " die 10 addiert, das Ergebnis am Ende zurück in die Speicherstelle geschrieben. \n",
    "Das ist zufällig die gleiche Speicherstelle, wie vorher."
   ]
  },
  {
   "cell_type": "code",
   "execution_count": null,
   "metadata": {},
   "outputs": [],
   "source": [
    "a = 25\n",
    "a = a + 10\n",
    "a"
   ]
  },
  {
   "source": [
    "### Auf eine Variable kann nur lesend zugegriffen werden, wenn vorher ein Wert zugewiesen wurde\n",
    "Sie haben oben gesehen, dass Variablen auf der linken Seite des Gleichheitszeichens stehen können.\n",
    "Auf diese Variablen wird *lesend* zugegriffen. In die Variablen auf der rechten Seite wird der Wert hineingeschrieben.\n",
    "Auf diese Variable wird *schreibend* zugegriffen.\n",
    "Auf eine Variable kann nur lesend zugegriffen werden, wenn der Variablen vorher einen Wert zugewiesen wurde.\n",
    "Ansonsten gibt es eine Fehlermeldung. Führen Sie die nächste Zelle aus und versuchen Sie, die Fehlermeldung zu verstehen."
   ],
   "cell_type": "markdown",
   "metadata": {}
  },
  {
   "cell_type": "code",
   "execution_count": null,
   "metadata": {},
   "outputs": [],
   "source": [
    "a = unbekannte_Variable"
   ]
  },
  {
   "source": [
    "### Kleiner Exkurs: Zellen in Notebooks sind miteinander verbunden\n",
    "Wenn eine Zelle in einem Notebook erfolgreich ausgeführt wurde, sind die Ergebnisse auch in anderen Zellen des Notebooks bekannt. \n",
    "- Führen Sie zuerst die erste der beiden folgenden Zellen aus. Es entsteht eine Fehlermeldung. \n",
    "- Führen Sie danach die zweite Zelle aus und anschließend wieder die erste. Diesmal sollte alles funktionieren.\n",
    "- Wenn Sie das ganze nochmal wiederholen wollen, müssen Sie oben im Menu \"Kernel\" den Output aller Zellen zurücksetzen"
   ],
   "cell_type": "markdown",
   "metadata": {}
  },
  {
   "cell_type": "code",
   "execution_count": null,
   "metadata": {},
   "outputs": [],
   "source": [
    "a = neue_Zelle + 10\n",
    "a"
   ]
  },
  {
   "cell_type": "code",
   "execution_count": null,
   "metadata": {},
   "outputs": [],
   "source": [
    "neue_Zelle = 20"
   ]
  },
  {
   "cell_type": "markdown",
   "metadata": {},
   "source": [
    "### Sequentialisierung von Zuweisungen\n",
    "Manchmal kommt es vor, dass auf eine Variable mehrere Operationen angewendet werden. Diese können mit Hilfe\n",
    "des Konstrukts oben auch sequentialisiert werden. Das hilft manchmal, ein Programm übersichtlicher zu gestalten.\n",
    "Z.B. kann die Zuweisung `a = 5 * 3 * 7 + (2 - 10 * 3)` wie folgt geschrieben werden:\n",
    "(Bei der Sequentialisierung muss man aufpassen, dass keine Klammerregel o.ä. verletzt wird)."
   ]
  },
  {
   "cell_type": "code",
   "execution_count": 2,
   "metadata": {},
   "outputs": [
    {
     "data": {
      "text/plain": [
       "77"
      ]
     },
     "execution_count": 2,
     "metadata": {},
     "output_type": "execute_result"
    }
   ],
   "source": [
    "a = 5\n",
    "a = a * 3\n",
    "a = a * 7\n",
    "a = a + (2 - 10 * 3)\n",
    "a"
   ]
  },
  {
   "source": [
    "### Auf der linken Seite nur einer Zuweisung nur EINE Variable\n",
    "Auf der rechten Seite einer Zuweisung können komplexe Ausdrücke stehen, die selbst Variablen enthalten\n",
    "(z.B. `a = b ** 2 + c ** 2`).\n",
    "Auf der linken Seite kann dagegen immer nur die eine Variable stehen.\n",
    "Wenn Sie das folgende Konstrukt ausführen, wird es zu keiner Fehlermeldung kommen."
   ],
   "cell_type": "markdown",
   "metadata": {}
  },
  {
   "cell_type": "code",
   "execution_count": 1,
   "metadata": {},
   "outputs": [
    {
     "data": {
      "text/plain": [
       "5.0"
      ]
     },
     "execution_count": 1,
     "metadata": {},
     "output_type": "execute_result"
    }
   ],
   "source": [
    "b = 3\n",
    "c = 4\n",
    "\n",
    "a = b ** 2 + c ** 2\n",
    "a = a ** 0.5\n",
    "a"
   ]
  },
  {
   "source": [
    "### Datentypen\n",
    "Außer ihrem Namen besitzt jede Variable auch einen Datentyp. Diese Eigenschaft wird später noch genauer erklärt.\n",
    "\n",
    " Wie im vorherigen Beispiel schon zu sehen, kann auf der rechten Seite einer Zuweisung auch komplexe Ausdrücke stehen,\n",
    " die wiederum *Variablen* enthalten."
   ],
   "cell_type": "markdown",
   "metadata": {}
  },
  {
   "source": [
    " ## Variablennamen\n",
    " Für Variablennamen existieren in Python eine Reihe von Regeln. Ein Variablenname muss immer mit einem Buchstaben oder\n",
    " einem Unterstrich (`_`) beginnen. Danach kann eine beliebige Anzahl von Buchstaben, Ziffern und Unterstrichen\n",
    " folgen.\n",
    "\n",
    " Variablenamen dürfen keine Sonderzeichen und keine Leerzeichen enthalten. Somit sind z.B. folgende Variablennamen\n",
    " zulässig:"
   ],
   "cell_type": "markdown",
   "metadata": {}
  },
  {
   "cell_type": "code",
   "execution_count": null,
   "metadata": {},
   "outputs": [],
   "source": [
    "Name = 'David'\n",
    "nachname = 'Bowie'\n",
    "kontostand = -2000\n",
    "_neuer_kontostand = 1000\n"
   ]
  },
  {
   "cell_type": "markdown",
   "metadata": {},
   "source": [
    " Im Gegensatz dazu sind folgende Variablennamen unzulässig. Führen Sie die Zelle aus und kontrollieren Sie die Fehlermeldung."
   ]
  },
  {
   "cell_type": "code",
   "execution_count": null,
   "metadata": {},
   "outputs": [],
   "source": [
    "1_konto = 1234\n",
    "email@fh = 'drumm@fh-aachen.de'\n"
   ]
  },
  {
   "cell_type": "markdown",
   "metadata": {},
   "source": [
    " In Python wird bei Variablennamen zwischen Groß- und Kleinschreibung unterschieden. Das heißt, dass in\n",
    " einem Python Programm `name` und `Name` unterschiedliche Variablen darstellen. Dies wird an folgendem Beispiel\n",
    "verdeutlicht."
   ]
  },
  {
   "cell_type": "code",
   "execution_count": null,
   "metadata": {},
   "outputs": [],
   "source": [
    "name = 'Joey'\n",
    "Name = 'Ramone'\n",
    "\n",
    "name + ' ' + Name\n"
   ]
  },
  {
   "source": [
    " Zuletzt gibt es in Python eine Reihe von reservierten *Schlüsselworten*, die nicht als Variablennamen verwendet werden\n",
    " dürfen. Diese *Schlüsselworte* haben in Python eine spezielle Bedeutung, die Sie im Rahmen der Vorlesung\n",
    " noch kennen lernen werden.\n",
    " Beispiel für reservierte *Schlüsselworte* sind `and`, `while` oder `if`\n",
    " Führen Sie auch diese Zelle aus und schauen Sie sich die Fehlermeldung an."
   ],
   "cell_type": "markdown",
   "metadata": {}
  },
  {
   "cell_type": "code",
   "execution_count": null,
   "metadata": {},
   "outputs": [],
   "source": [
    "if = 42 \n"
   ]
  },
  {
   "source": [
    " ### Konventionen für Variablennamen\n",
    " In der Python-Community wird die Kleinschreibung von Variablennamen bevorzugt. Es wird also `name`\n",
    " statt `Name` verwendet. Variablenamen, die aus mehreren Wörtern bestehen, werden durch einen\n",
    " Unterstrich `_` getrennt, z.B. `konto_nummer` oder `minimaler_kontostand`.\n",
    "\n",
    " Nicht jeder erlaubte Variablenname ist auch ein guter Variablenname! Ein guter Programmierstil (nicht nur in Python)\n",
    " zeichnet sich dadurch aus, dass ein Programm für einen Menschen leicht zu verstehen ist.\n",
    "\n",
    " > Any fool can write code that a computer can understand. Good programmers write code that humans can understand. <br>\n",
    " > Martin Fowler, 2008.\n",
    "\n",
    " Aus diesem Grund sollten Sie Variablennamen verwenden, die eine Bedeutung haben.\n",
    " - `kontostand_neu` ist besser als `kn`\n",
    " - `laenge_auto` ist besser als `laenge`\n",
    "\n",
    " Machen Sie Ihre Programme durch gute Variablennamen so lesbar, dass Sie auch in einem Jahr noch verstehen,\n",
    " was das Programm berechnen soll.\n",
    " ---\n",
    " ### Übung\n",
    " Erstellen Sie einige *Variablen* und testen Sie welche Namen zulässig sind. Schauen Sie sich an was passiert,\n",
    " wenn ein Name nicht zulässig ist.\n",
    " Weisen Sie Ihren *Variablen* Werte zu und testen Sie was (nicht) möglich ist.\n",
    " Das unten verwendete `print()` dient der Ausgabe von Variablen und anderer Parameter. Details dazu später."
   ],
   "cell_type": "markdown",
   "metadata": {}
  },
  {
   "cell_type": "code",
   "execution_count": null,
   "metadata": {},
   "outputs": [],
   "source": [
    "a = 5\n",
    "print(a)\n",
    "a = 7\n",
    "print(a) \n",
    "\n",
    "a = 5 + 6 \n",
    "print(a)\n"
   ]
  },
  {
   "source": [
    " ### Zuweisungen im Detail\n",
    " Noch ein wichtiger Hinweis zu Zuweisungen. In der Programmierung ist `a = b` etwas anderes als `b = a`.\n",
    " In der Mathematik wäre die Aussage identisch. In der Programmierung wird jedoch das Ergebnis des\n",
    " Ausdrucks auf der rechten Seite des Zuweisungsoperators `=` der Variablen auf der linken Seite zugewiesen."
   ],
   "cell_type": "markdown",
   "metadata": {}
  },
  {
   "cell_type": "code",
   "execution_count": null,
   "metadata": {},
   "outputs": [],
   "source": [
    "a = 5\n",
    "b = 7\n",
    "a = b\n",
    "print(a)\n"
   ]
  },
  {
   "cell_type": "code",
   "execution_count": null,
   "metadata": {},
   "outputs": [],
   "source": [
    "a = 5\n",
    "b = 7\n",
    "b = a\n",
    "print(a)\n",
    "print(b)\n"
   ]
  },
  {
   "source": [
    " ### Weitere Details zu Variablen\n",
    " In Python wird eine *Variable* bei  erstmaliger Verwendung in einer Zuweisung angelegt. Variablen müssen also nicht,\n",
    " wie in einigen anderen Programmiersprachen, zuerst deklariert werden.\n",
    "\n",
    " Eine *Variable* kann gleichzeitig sowohl auf der rechten als auch auf der linken Seite des Zuweisungsoperators stehen."
   ],
   "cell_type": "markdown",
   "metadata": {}
  },
  {
   "cell_type": "code",
   "execution_count": null,
   "metadata": {},
   "outputs": [],
   "source": [
    "a = 10\n",
    "a = a + 1\n",
    "print(a)\n"
   ]
  },
  {
   "cell_type": "markdown",
   "metadata": {},
   "source": [
    " In der Programmierung bedeutet  dieses Konstrukt, dass der Wert von a um 1 erhöht wird. Dieses Konstrukt kommt\n",
    " sehr häufig vor. Daher stellt Python die verkürzte Schreibweise `a += 1` zur Verfügung."
   ]
  },
  {
   "cell_type": "code",
   "execution_count": null,
   "metadata": {},
   "outputs": [],
   "source": [
    "a = 1\n",
    "a += 1  \n",
    "print(a)"
   ]
  },
  {
   "cell_type": "markdown",
   "metadata": {},
   "source": [
    " Das gleiche funktioniert auch mit anderen Operatoren (z.B. - oder *) und anderen Werten."
   ]
  },
  {
   "cell_type": "code",
   "execution_count": null,
   "metadata": {},
   "outputs": [],
   "source": [
    "a = 10 \n",
    "a *= 2\n",
    "a -= 100\n",
    "print(a)\n"
   ]
  },
  {
   "source": [
    " ---\n",
    " ## Übung\n",
    " Berechnen Sie Volumen und Oberfläche eines Würfels (Seitenlängen a, b, c gleich lang) bzw. eines Quaders (Seitenlängen a, b, c unterschiedlich).\n",
    " Gehen Sie hierzu wie folgt vor:\n",
    " 1. Definieren Sie vernünftige Namen für die Variablen zur Darstellung der Seitenlänge des Würfels und wiesen Sie diesen Werte zu\n",
    " 1. Berechnen Sie die Fläche des Würfels und weisen Sie das Ergebnis der Variable `wuerfel_flaeche` zu\n",
    " 1. Berechnen Sie das Volumen des Würfels und weisen Sie das Ergebnis der Variable `wuerfel_volumen` zu\n",
    " 1. Geben Sie das Ergebnis der Berechnung mit Hilfe folgender Anweisungen aus:\n",
    "   - print(wuerfel_flaeche)\n",
    "   - print(wuerfel_volumen)\n",
    "\n",
    " 1. Wiederholen Sie die Schritte 1 - 4 für den Quader."
   ],
   "cell_type": "markdown",
   "metadata": {}
  },
  {
   "cell_type": "code",
   "execution_count": null,
   "metadata": {},
   "outputs": [],
   "source": [
    "laenge = 5\n",
    "breite = 5\n",
    "wuerfel_flaeche = laenge * breite\n",
    "print(wuerfel_flaeche)"
   ]
  }
 ],
 "metadata": {
  "file_extension": ".py",
  "kernelspec": {
   "display_name": "Python 3",
   "language": "python",
   "name": "python3"
  },
  "language_info": {
   "codemirror_mode": {
    "name": "ipython",
    "version": 3
   },
   "file_extension": ".py",
   "mimetype": "text/x-python",
   "name": "python",
   "nbconvert_exporter": "python",
   "pygments_lexer": "ipython3",
   "version": "3.7.1"
  },
  "mimetype": "text/x-python",
  "name": "python",
  "npconvert_exporter": "python",
  "pycharm": {
   "stem_cell": {
    "cell_type": "raw",
    "metadata": {
     "collapsed": false
    },
    "source": []
   }
  },
  "pygments_lexer": "ipython3",
  "version": 3
 },
 "nbformat": 4,
 "nbformat_minor": 2
}