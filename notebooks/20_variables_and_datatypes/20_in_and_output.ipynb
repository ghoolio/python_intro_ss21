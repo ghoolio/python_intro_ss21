{
 "cells": [
  {
   "source": [
    " # Eingaben und Ausgaben\n",
    " ## Voraussetzungen\n",
    " Diese Einheit setzt voraus, dass Sie folgende Inhalte kennen: Variablen.\n",
    " ## Ausgaben\n",
    " Wird eine Zelle eines Jupyter-Notebooks ausgeführt, wird immer nur das Ergebnis der letzten\n",
    " Anweisung ausgegeben. Wenn die letzte Anweisung jedoch kein darstellbares Ergebnis hat (wie z.B. die Zuweisung\n",
    " eines Wertes zu einer Variablen), erfolgt auch keine Ausgabe. Über die Python-Funktion `print()` ist es möglich,\n",
    " Ausgaben an jeder beliebigen Stelle eines Python-Programms zu erzeugen."
   ],
   "cell_type": "markdown",
   "metadata": {}
  },
  {
   "cell_type": "code",
   "execution_count": null,
   "metadata": {},
   "outputs": [],
   "source": [
    "print(\"Hello\")\n",
    "print(42)\n",
    "\n",
    "name = \"Joey\"\n",
    "print(name)\n"
   ]
  },
  {
   "cell_type": "markdown",
   "metadata": {},
   "source": [
    "Was ausgegeben werden soll, wird der Funktion `print()` als Parameter übergeben.\n",
    "\n",
    " Außerdem ist es möglich, mehrere Parameter an die Funktion `print` zu übergeben. Diese müssen dann durch\n",
    " ein Komma (`,`) voneinander getrennt werden."
   ]
  },
  {
   "cell_type": "code",
   "execution_count": null,
   "metadata": {},
   "outputs": [],
   "source": [
    "name = \"Joey\"\n",
    "nachname = \"Ramone\"\n",
    "\n",
    "print(name, nachname)\n"
   ]
  },
  {
   "source": [
    " ## Eingaben\n",
    " Erinnern Sie sich an die Übung zur Berechnung der Oberfläche und des Volumens eines Quaders?\n",
    " Eine Berechnung der Werte für einen neuen Quader ist bisher recht mühsam. Sie müssen jedes Mal:\n",
    " - In die Zelle des Notebooks gehen und das Python-Programm ändern\n",
    " - Die Zelle erneut ausführen"
   ],
   "cell_type": "markdown",
   "metadata": {}
  },
  {
   "cell_type": "markdown",
   "metadata": {},
   "source": [
    " Einfacher wäre es, wenn das Programm die zu verarbeitenden Daten als *Eingabe* erfragen würde. Das Python-Programm\n",
    " sollte unabhängig von den Kantenlängen eines konkreten Quaders sein.\n",
    " Das ist der klassische Aufbau eines Programms nach EVA-Prinzip: Eingabe → Verarbeitung → Ausgabe\n",
    " ### Die Funktion input()\n",
    "\n",
    " Mit Hilfe der Funktion `input()` können Sie Eingaben vom Benutzer einlesen lassen. Ein typischer Aufruf der Funktion\n",
    " `input()` ist:\n",
    "\n",
    " ```python\n",
    " i = input(\"Bitte geben Sie eine Zahl ein:\")\n",
    " print(i)\n",
    " ```"
   ]
  },
  {
   "cell_type": "code",
   "execution_count": null,
   "metadata": {},
   "outputs": [],
   "source": [
    "i = input(\"Bitte geben Sie eine Zahl ein: \")\n",
    "print(i)\n"
   ]
  },
  {
   "source": [
    " Die Funktion `input()` gibt zuerst den übergebenen Parameter (\"Bitte …\") aus.\n",
    " Danach wartet die Funktion auf eine Eingabe des Benutzers. Der Benutzer gibt einen Wert ein und beendet die Eingabe\n",
    " mit der Returntaste (Eingabetaste). Der eingegebene Wert wird der Variable *i* zugewiesen."
   ],
   "cell_type": "markdown",
   "metadata": {}
  },
  {
   "cell_type": "markdown",
   "metadata": {},
   "source": [
    "  ## Übung:\n",
    "  Schreiben Sie ein Programm, dass über `input()` Werte für Vorname, Nachname und Email-Adresse abfragt. Geben Sie die eingegebenen Werte danach aus."
   ]
  },
  {
   "cell_type": "code",
   "execution_count": null,
   "metadata": {},
   "outputs": [],
   "source": [
    "\n"
   ]
  }
 ],
 "metadata": {
  "file_extension": ".py",
  "kernelspec": {
   "display_name": "Python 3",
   "language": "python",
   "name": "python3"
  },
  "language_info": {
   "codemirror_mode": {
    "name": "ipython",
    "version": 3
   },
   "file_extension": ".py",
   "mimetype": "text/x-python",
   "name": "python",
   "nbconvert_exporter": "python",
   "pygments_lexer": "ipython3",
   "version": "3.7.6"
  },
  "mimetype": "text/x-python",
  "name": "python",
  "npconvert_exporter": "python",
  "pygments_lexer": "ipython3",
  "version": 3
 },
 "nbformat": 4,
 "nbformat_minor": 2
}