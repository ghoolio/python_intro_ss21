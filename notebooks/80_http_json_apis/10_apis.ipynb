{
 "cells": [
  {
   "source": [
    "# (Web)-APIs\n",
    "Laut [Wikipedia](https://en.wikipedia.org/wiki/Application_programming_interface) ist eine API wie folgt definiert:\n",
    "> An **application programming interface (API)** is an *interface* or *communication protocol* between \n",
    "> different parts of a *computer program* intended to simplify the implementation and maintenance of software.\n",
    ">\n",
    "> An API may be for a web-based system, operating system, database system, computer hardware, or software library. \n",
    "\n",
    "Insbesondere stellen APIs **stabile Schnittstellen** zur Verfügung um auf Funktionen zuzugreifen und **abstrahieren**\n",
    "Implementierungsdetails der Funktion. \n",
    "\n",
    "## Beispiele für eine API\n",
    "Die Python-Standardbibilothek ist eine API die wir schon ausgiebig verwendet haben. Hier einige Beispiele:\n",
    "- Die Funktion `print` stellt die der Textausgabe zur Verfügung\n",
    "- Die Funktion `open` stellt den Zugriff aus Dateien zur Verfügung\n",
    "\n",
    "Diese Funktionen sind stabil gegen Änderungen. D.h. sie stehen in unterschiedlichen Python-Versionen zur \n",
    "Verfügung uns stellen immer die gleiche Funktionalität bereit. Weiterhin abstrahieren sie auch von Implementierungsdetails. Es ist bei der Verwendung der Funktion `print` egal ob das Python-Programm unter Windows, Mac OS oder Linux ausgeführt wird. Es erfolgt immer eine Ausgabe des Textes.\n",
    "\n",
    "## Beispiele für Web-basierter APIs\n",
    "Sie verwenden auch täglich implizit eine Vielzahl von Web APIs:\n",
    "- Facebook und Instagram APIs\n",
    "- Amazon APIs"
   ],
   "cell_type": "markdown",
   "metadata": {}
  },
  {
   "cell_type": "markdown",
   "metadata": {},
   "source": [
    "## Historie Web-basierter APIs\n",
    "In den letzten 20 Jahren haben Web-basierte APIs eine enorm an Popularität gewonnen. Folgende Graphik zeigt einen Ausschnitt aus der Entwicklung Web-basierte APIs\n",
    "![api_history.png](./img/api_history.png)\n",
    "\n",
    "Im Januar 2020 listet die Webseite [Programmable Web](https://www.programmableweb.com/category/all/apis) rund 22.350 öffentlich verfügbare Web-basierte APIs."
   ]
  },
  {
   "cell_type": "markdown",
   "metadata": {},
   "source": [
    "## Warum veröffentlichen Firmen ihre APIs?\n",
    "Welche Motivation haben Unternehmen wie Twitter, Facebook, Google oder Netflix ihre APIs öffentlich zur Verfügung zu stellen?\n",
    "\n",
    "\n",
    "\n",
    "\n",
    "\n",
    "\n",
    "\n",
    "\n",
    "\n",
    "\n",
    "\n",
    "\n",
    "\n",
    "\n",
    "\n",
    "\n"
   ]
  },
  {
   "source": [
    "### Beispiel Expedia\n",
    "Die [API](https://www.programmableweb.com/api/expedia-partner-solutions-rapid-booking) von Expedia bietet Zugriff auf\n",
    "\n",
    "- Buchung\n",
    "- Fotos\n",
    "- Suchergebnisse\n",
    "- Bewertungen\n",
    "\n",
    "Das sind die Kernfunktionen von Expedia!\n",
    "\n",
    "2018 hat Expedia einen Umsatz von 11,2 Mrd US$ erreicht. In der Vergangenheit wurden 90% diese Umsatzes über die API erwirtschaftet!\n",
    " "
   ],
   "cell_type": "markdown",
   "metadata": {}
  },
  {
   "cell_type": "markdown",
   "metadata": {},
   "source": [
    "### Beispiel Netflix\n",
    "Folgende Zahlen beziehen Sich auf die Nutzung der Netflix API in 2011 ([Quelle](https://www.slideshare.net/danieljacobson/redesigning-the-netflix-api-oscon)).\n",
    "\n",
    "- 20.000 Entwickler\n",
    "- 13.000 registrierte Apps\n",
    "- 800+ Gerätetypen \n",
    "- 1 Mrd. API-Aufrufe / Tag\n",
    "- Bis zu 20.000 API-Aufrufe pro Sekunde\n",
    "\n",
    "Auf Basis dieser Zahlen kann man eine kleine Milchmädchenrechnung machen:\n",
    "$$10.000 \\times 50.000 \\frac{ \\text{US\\$}}{\\text{Jahr}}= 500.000.000\\frac{\\text{US\\$}}{\\text{Jahr}}$$\n"
   ]
  },
  {
   "cell_type": "markdown",
   "metadata": {},
   "source": [
    "### Welche Möglichkeiten bieten Web-basierte APIs?\n",
    "Das kann man am besten am Beispiel der Webseite [IFTTT](https://ifttt.com/) zeigen. \n"
   ]
  },
  {
   "source": [
    "## Aufbau Web-basierte APIs\n",
    "Es existiert kein Standard für Web-basierte APIs. Aktuell haben die folgenden Technologien die höchste Verbreitung:\n",
    "\n",
    "- [REST](https://de.wikipedia.org/wiki/Representational_State_Transfer)\n",
    "- [GraphQL](https://en.wikipedia.org/wiki/GraphQL).  \n",
    "\n",
    "Im Folgenden wird REST detaillierter besprochen.\n",
    "\n",
    "REST steht für Representational State Transfer. Es ist ein Architekturkonzept für verteilte Systeme, das von [Roy Fielding](https://en.wikipedia.org/wiki/Roy_Fielding) in seiner [Dissertation](www.ics.uci.edu/~fielding/pubs/dissertation/top.htm) entwickelt wurde. REST basiert auf den folgenden Bausteinen:\n",
    "\n",
    "- Ressourcen werden durch URLs identifiziert. Beispiel: http://api.example.com/resources\n",
    "- Ein Internet Media Type wird verwendet um die möglichen Statusänderungen der Ressource zu definiert (im einfachsten Fall ein Link)\n",
    "- Für den Zugriff auf Ressourcen werden die im HTTP-Protokoll definierten Methoden (z.B. GET, PUT, POST, and DELETE) verwendet. \n",
    "\n",
    "Es wird im Zusammenhang mit REST explizit kein Datenformat vorgegeben. Die Daten der Ressourcen können in verschiedenen\n",
    "Datenformaten verarbeitet werden. Welche Formate unterstütz werden hängt vom jeweiligen Service bzw. der jeweiligen API ab. Aktuell ist [JSON](https://de.wikipedia.org/wiki/JavaScript_Object_Notation) ein sehr weit verbreitetes Datenformat für Web-basierte APIS. "
   ],
   "cell_type": "markdown",
   "metadata": {}
  },
  {
   "cell_type": "code",
   "execution_count": null,
   "metadata": {},
   "outputs": [],
   "source": []
  }
 ],
 "metadata": {
  "file_extension": ".py",
  "kernelspec": {
   "display_name": "Python 3",
   "language": "python",
   "name": "python3"
  },
  "language_info": {
   "codemirror_mode": {
    "name": "ipython",
    "version": 3
   },
   "file_extension": ".py",
   "mimetype": "text/x-python",
   "name": "python",
   "nbconvert_exporter": "python",
   "pygments_lexer": "ipython3",
   "version": "3.7.3"
  },
  "mimetype": "text/x-python",
  "name": "python",
  "npconvert_exporter": "python",
  "pygments_lexer": "ipython3",
  "version": 3
 },
 "nbformat": 4,
 "nbformat_minor": 2
}