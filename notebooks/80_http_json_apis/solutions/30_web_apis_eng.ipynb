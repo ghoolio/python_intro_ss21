{
 "cells": [
  {
   "cell_type": "markdown",
   "execution_count": null,
   "metadata": {},
   "outputs": [],
   "source": [
    "# Using web APIs in Python\n",
    "\n",
    "The first step to using a web API is by accessing a URL via HTTP protocol.\n",
    "The [requests](https://pypi.org/project/requests/) library is available in Python to use the HTTP protocol.\n",
    "\n",
    "## HTTP with Python\n",
    "\n",
    "In the following cell, you can see a simple Python program that uses the `requests` library to retrieve resources from URL`http://www.fh-aachen.de`.\n",
    "In this example, the resource is an HTML document.\n",
    "Note: `eequests` and `requests_oauthlib` modules must be available on your environment (installed via PyPi)."
   ]
  },
  {
   "cell_type": "code",
   "execution_count": null,
   "metadata": {},
   "outputs": [],
   "source": [
    "import requests\n",
    "\n",
    "r = requests.get(\"http://www.fh-aachen.de\")\n",
    "inhalt = r.content.decode()\n",
    "\n",
    "print(inhalt)"
   ]
  },
  {
   "cell_type": "markdown",
   "execution_count": null,
   "metadata": {},
   "outputs": [],
   "source": [
    "In contrast, a JSON document is available at the URL 'https://api.github.com/events'.\n"
   ]
  },
  {
   "cell_type": "code",
   "execution_count": null,
   "metadata": {},
   "outputs": [],
   "source": [
    "import json\n",
    "\n",
    "r = requests.get('https://api.github.com/events')\n",
    "\n",
    "r.json()[0]"
   ]
  },
  {
   "cell_type": "markdown",
   "execution_count": null,
   "metadata": {},
   "outputs": [],
   "source": [
    "The [documentation](https://2.python-requests.org/en/master/) of the `requests` library contains many more examples of how to use the library."
   ]
  },
  {
   "cell_type": "markdown",
   "execution_count": null,
   "metadata": {},
   "outputs": [],
   "source": [
    "## Access Twitter Search API\n",
    "\n",
    "The Twitter Search API is the first web API to be used in a Python program.\n",
    "The documentation for the Twitter Search API is available [here](https://developer.twitter.com/en/docs/tweets/search/overview/standard).\n",
    "\n",
    "The Twitter Search API is available at the URL `https://api.twitter.com/1.1/search/tweets.json`.\n",
    "The search term is given via the URL parameter `q` (query). The following cell shows an attempt to access the Twitter Search API."
   ]
  },
  {
   "cell_type": "code",
   "execution_count": null,
   "metadata": {},
   "outputs": [],
   "source": [
    "r = requests.get('https://api.twitter.com/1.1/search/tweets.json?q=fhaachen')\n",
    "r.content.decode()"
   ]
  },
  {
   "cell_type": "markdown",
   "execution_count": null,
   "metadata": {},
   "outputs": [],
   "source": [
    "Authentication is required to access the Twitter API.\n",
    "For the Twitter API, this is done via the protocol [OAuth v1](https://de.wikipedia.org/wiki/OAuth#OAuth_1.0).\n",
    "This protocol is based on a series of tokens. A program can authenticate itself for access via these tokens.\n",
    "So-called tokens are used for authentication, which can be created individually for each application.\n",
    "\n",
    "I created the Twitter account [@wifhaachen](https://twitter.com/wifhaachen) for this lecture.\n",
    "I have also already generated the necessary tokens:\n",
    "\n",
    "- API key: 9OdY1QujoKPS6FreBpeh9OOJp \n",
    "- API secret: Zj8gX7lrbm5dWZLuonDeGfSpPTiyC3cDaaZ4AcPUV6XfuY140W\n",
    "- Access token: 1215246349417009154-R9M9kJGKEao0gy6A97SlctU4tWQ6zD \n",
    "- Access token secret: L4B65dBZ9JHOR6q1GUVRJI0elUJWXGUYmHnRS4CVp27nR \n",
    "\n",
    "With these tokens, the Twitter Search API can now be used."
   ]
  },
  {
   "cell_type": "code",
   "execution_count": null,
   "metadata": {},
   "outputs": [],
   "source": [
    "import requests\n",
    "from requests_oauthlib import OAuth1\n",
    "\n",
    "API_KEY = '9OdY1QujoKPS6FreBpeh9OOJp'\n",
    "API_SECRET = 'Zj8gX7lrbm5dWZLuonDeGfSpPTiyC3cDaaZ4AcPUV6XfuY140W'\n",
    "ACCESS_TOKEN = '1215246349417009154-R9M9kJGKEao0gy6A97SlctU4tWQ6zD'\n",
    "ACCESS_TOKEN_SECRET = 'L4B65dBZ9JHOR6q1GUVRJI0elUJWXGUYmHnRS4CVp27nR'\n",
    "\n",
    "auth = OAuth1(API_KEY, API_SECRET, ACCESS_TOKEN, ACCESS_TOKEN_SECRET)\n",
    "\n",
    "r = requests.get('https://api.twitter.com/1.1/search/tweets.json?q=fhaachen', auth=auth)\n",
    "r.json()[\"statuses\"][0]"
   ]
  },
  {
   "cell_type": "markdown",
   "execution_count": null,
   "metadata": {},
   "outputs": [],
   "source": [
    "## exercise\n",
    "Write a program that uses the Twitter Search API after entering a search term to find tweets about this term.\n",
    "Display the text of all found tweets."
   ]
  },
  {
   "cell_type": "code",
   "execution_count": null,
   "metadata": {},
   "outputs": [],
   "source": [
    "import requests\n",
    "from requests_oauthlib import OAuth1\n",
    "\n",
    "API_KEY = '9OdY1QujoKPS6FreBpeh9OOJp'\n",
    "API_SECRET = 'Zj8gX7lrbm5dWZLuonDeGfSpPTiyC3cDaaZ4AcPUV6XfuY140W'\n",
    "ACCESS_TOKEN = '1215246349417009154-R9M9kJGKEao0gy6A97SlctU4tWQ6zD'\n",
    "ACCESS_TOKEN_SECRET = 'L4B65dBZ9JHOR6q1GUVRJI0elUJWXGUYmHnRS4CVp27nR'\n",
    "\n",
    "auth = OAuth1(API_KEY, API_SECRET, ACCESS_TOKEN, ACCESS_TOKEN_SECRET)\n",
    "\n",
    "search_term = input(\"Bitte einen Suchbegriff eingeben: \")\n",
    "such_url = 'https://api.twitter.com/1.1/search/tweets.json?q=' + search_term\n",
    "\n",
    "r = requests.get(such_url, auth=auth)\n",
    "tweets = r.json()['statuses']\n",
    "\n",
    "for t in tweets:\n",
    "    print(t['text'])"
   ]
  },
  {
   "cell_type": "markdown",
   "execution_count": null,
   "metadata": {},
   "outputs": [],
   "source": [
    "## OCR with Web-Service"
   ]
  },
  {
   "cell_type": "code",
   "execution_count": null,
   "metadata": {},
   "outputs": [],
   "source": [
    "payload = {'isOverlayRequired': False,\n",
    "            'apikey': '1d4fd8a67088957',\n",
    "            'language': 'ger' }\n",
    "\n",
    "with open('/Users/christian/Downloads/IMG_6082.jpg', 'rb') as f:\n",
    "    r = requests.post('https://api.ocr.space/parse/image',\n",
    "                       files={\"demo1\": f},\n",
    "                       data=payload)\n",
    "    print(r.json()[\"ParsedResults\"][0]['ParsedText'])"
   ]
  },
  {
   "cell_type": "code",
   "execution_count": null,
   "metadata": {},
   "outputs": [],
   "source": []
  }
 ],
 "metadata": {
  "file_extension": ".py",
  "kernelspec": {
   "display_name": "Python 3",
   "language": "python",
   "name": "python3"
  },
  "language_info": {
   "codemirror_mode": {
    "name": "ipython",
    "version": 3
   },
   "file_extension": ".py",
   "mimetype": "text/x-python",
   "name": "python",
   "nbconvert_exporter": "python",
   "pygments_lexer": "ipython3",
   "version": "3.7.3"
  },
  "mimetype": "text/x-python",
  "name": "python",
  "npconvert_exporter": "python",
  "pygments_lexer": "ipython3",
  "version": 3
 },
 "nbformat": 4,
 "nbformat_minor": 2
}