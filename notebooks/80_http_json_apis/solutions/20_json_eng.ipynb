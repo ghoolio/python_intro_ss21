{
 "cells": [
  {
   "cell_type": "markdown",
   "metadata": {},
   "source": [
    "# JSON\n",
    "The term JSON is short for JavaScript Object Notation. JSON is\n",
    "> a compact **data format** in an easy to read **text form** and serves the purpose of data exchange between applications (Wikipedia)\n",
    "\n",
    "The following example shows data in JSON format.\n",
    "\n",
    "```JSON\n",
    "{\n",
    "  \"editor\": \"Xema\",\n",
    "  \"number\": \"1234-5678-9012-3456\",\n",
    "  \"awning\": 2e+6,\n",
    "  \"currency\": \"EURO\",\n",
    "  \"owner\":\n",
    "  {\n",
    "    \"surname\": \"Herrmann\",\n",
    "    \"name\": \"Max\",\n",
    "    \"male\": true,\n",
    "    \"hobbies\": [\"horse riding\", \"golf\", \"reading\"],\n",
    "    \"age\": 42,\n",
    "    \"children\": [],\n",
    "    \"partner\": null\n",
    "  }\n",
    "}\n",
    "````\n",
    "\n",
    "In this example you can already see a large number of elements from which JSON is built:\n",
    "\n",
    "- Objects:\n",
    "     - start with `{` and ends with `}`.\n",
    "     - Contain an unordered map of properties and their values. The items of the map are divided by commas.\n",
    "     - So each item consist of a key and a value, separated by a colon (key: value)\n",
    "\n",
    "- Boolean:\n",
    "     - represented by the keywords `true` and` false`\n",
    "\n",
    "- Number:\n",
    "     - A sequence of digits `0–9`\n",
    "     - can be introduced with a negative sign `-`\n",
    "     - can be interrupted by a decimal point `.`\n",
    "     - can be extended by specifying an exponent `e` or` E`\n",
    "\n",
    "- string:\n",
    "     - starts and ends with double even quotes (`\"`)\n",
    "\n",
    "- array\n",
    "     - starts with `[` and ends with `]`\n",
    "     - Contains an ordered list of comma-separated values of the same or different type."
   ]
  },
  {
   "cell_type": "markdown",
   "metadata": {},
   "source": [
    "\n",
    "## Python and JSON\n",
    "Functions for generating and reading JSON are part of the [Python standard library](https://docs.python.org/3.7/library/json.html).\n",
    "The following cell shows a simple example of generating JSON data in Python."
   ]
  },
  {
   "cell_type": "code",
   "execution_count": null,
   "metadata": {},
   "outputs": [],
   "source": [
    "import json\n",
    "import pprint\n",
    "\n",
    "profs = []\n",
    "\n",
    "prof1 = { \"name\": \"Drumm\", \"given-name\": \"Christian\", \"courses\": [\"Digital Lab\", \"SAP in der Praxis\"]}\n",
    "prof2 = { \"name\": \"Jacobs\", \"given-name\": \"Stephan\", \"courses\": [\"Informationssysteme 1\"]}\n",
    "prof3 = { \"name\": \"Focke\", \"given-name\": \"Makus\", \"courses\": [\"Ludus\", \"BPL\"]}\n",
    "\n",
    "profs.append(prof1)\n",
    "profs.append(prof2)\n",
    "profs.append(prof3)\n",
    "\n",
    "print(\"Python:\")\n",
    "pprint.pprint(profs)\n",
    "\n",
    "print('\\n\\nJSON:')\n",
    "pprint.pprint(json.dumps(profs))"
   ]
  },
  {
   "cell_type": "markdown",
   "metadata": {},
   "source": [
    "### Exercise 1\n",
    "A JSON file is available at the URL https://git.fh-aachen.de/snippets/25\n",
    "\n",
    "Write a program that reads the file and displays the following data:\n",
    "- The first 10 tweets\n",
    "- All users contained in the file\n",
    "- ...\n",
    "\n"
   ]
  },
  {
   "cell_type": "code",
   "execution_count": null,
   "metadata": {},
   "outputs": [],
   "source": [
    "import json\n",
    "\n",
    "f = open(\"twitter.json\")\n",
    "datei_inhalt = f.read()\n",
    "\n",
    "tweets = json.loads(datei_inhalt)\n",
    "\n",
    "for tweet in tweets[\"statuses\"]:\n",
    "    print(tweet[\"user\"][\"name\"])"
   ]
  },
  {
   "cell_type": "code",
   "execution_count": null,
   "metadata": {},
   "outputs": [],
   "source": []
  }
 ],
 "metadata": {
  "file_extension": ".py",
  "kernelspec": {
   "display_name": "Python 3",
   "language": "python",
   "name": "python3"
  },
  "language_info": {
   "codemirror_mode": {
    "name": "ipython",
    "version": 3
   },
   "file_extension": ".py",
   "mimetype": "text/x-python",
   "name": "python",
   "nbconvert_exporter": "python",
   "pygments_lexer": "ipython3",
   "version": "3.7.3"
  },
  "mimetype": "text/x-python",
  "name": "python",
  "npconvert_exporter": "python",
  "pygments_lexer": "ipython3",
  "version": 3
 },
 "nbformat": 4,
 "nbformat_minor": 2
}