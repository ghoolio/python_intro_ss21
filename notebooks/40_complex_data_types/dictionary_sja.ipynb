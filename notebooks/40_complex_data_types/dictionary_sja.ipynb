{
 "cells": [
  {
   "cell_type": "markdown",
   "metadata": {},
   "source": [
    "# Dictionary\n",
    "\n",
    "## Voraussetzungen\n",
    "Diese Einheit setzt voraus, dass Sie folgende Inhalte kennen: \n",
    "- Variablen\n",
    "- Ein- und Ausgabe\n",
    "- primitive Datentypen\n",
    "- bedingte Anweisungen\n",
    "- for-Schleife\n",
    "- Listen\n",
    "- Tupel\n",
    "- Einlesen von Daten\n",
    "\n",
    "\n",
    "## Motivation\n",
    "Man kann ein Dictionary als Alternative zur Liste oder als Alternative zu einem Tupel motivieren.  In diesem Notebook werden beide Perspektiven beleuchtet. Die dabei zur Anwendung kommenden Methoden und Funktionen sind im Wesentlichen die gleichen. Allerdings ist die Anwendung durch den Wechsel der Perspektive möglicherweise unterschiedlich. Zuerst wird das Dictionary als Alternative zu einer Liste motiviert und dargestellt, im zweiten Teil dann umgekehrt als Alternative zu einem Tupel.\n",
    "\n",
    "## Dictionary als Alternative zur Liste\n",
    "Im folgenden Programm wird eine Datei von Studierenden aus einer Datei in eine Liste von Tupeln eingelesen."
   ]
  },
  {
   "cell_type": "code",
   "execution_count": null,
   "metadata": {},
   "outputs": [],
   "source": [
    "list_of_students = []\n",
    "datei = open(\"Data/studenten.csv\", \"r\")\n",
    "for zeile in datei:\n",
    "    zeile = zeile.strip()\n",
    "    zeile = zeile.split(\",\")\n",
    "    zeile = tuple(zeile)\n",
    "    list_of_students.append(zeile)\n",
    "datei.close()\n",
    "\n",
    "for student in list_of_students:\n",
    "    print(student)"
   ]
  },
  {
   "cell_type": "markdown",
   "metadata": {},
   "source": [
    "Wie in der Ausgabe zu sehen ist, besteht jeder Studierende aus Matrikelnummer, Name, Vorname, E-Mail und Studiengang. Wo liegt das Problem?\n",
    "\n",
    "Jeder Studierende ist ein Element der Liste `list_of_students` und nur über den Index ansprechbar. Das heißt, wenn man einen Studierenden verändern, löschen, ... möchte, muss man erst Tupel für Tupel durch die Liste gehen, bis man den richtigen Studierenden gefunden hat. Jeder Studierende ist dabei über seine Matrikelnummer zu identifizieren. Die Matrikelnummer ist ein guter **Schlüssel**, um auf einen Studierenden zuzugreifen, da jede Matrikelnummer eindeutig einem Studierenden zuzuordnen ist. Wünschenswert wäre es, wenn man **nicht** über den Index sondern eben direkt über die Matrikelnummer auf den Studierenden zugreifen könnte. Genau das ermöglicht ein Dictionary!\n",
    "\n",
    "## Dictionaries\n",
    "Ein Dictionary besteht aus sogenannten Schlüssel-Wert-Paaren (Key-Value-Pairs). Dictionaries werden mit Hilfe von geschweiften Klammern `{ }`  dargestellt. In den Klammern stehen die einzelnen Key-Value-Pairs durch Kommata getrennt. Jedes Key-Value-Paar wird dabei wie folgt dargestellt: `key : value`. Ein Dictionary sieht daher wie folgt aus: `{key1 : value1, key2 : value2, ... keyN : valueN}`. SIehe folgends Beispiel:"
   ]
  },
  {
   "cell_type": "code",
   "execution_count": null,
   "metadata": {},
   "outputs": [],
   "source": [
    "stud = {123 : \"Hans\", 234 : \"Helga\", 345 : \"Hugo\", 456 : \"Hannah\" }\n",
    "print(stud)"
   ]
  },
  {
   "cell_type": "markdown",
   "metadata": {},
   "source": [
    "### Zugriff auf ein Element des Dictionaries mit dem Schlüssel\n",
    "Möchte man auf einzelne Werte zugreifen, werden genau wie bei Listen und Tupeln **eckige** Klammern verwendet. Statt des Index wird aber der **key** eingegeben."
   ]
  },
  {
   "cell_type": "code",
   "execution_count": null,
   "metadata": {},
   "outputs": [],
   "source": [
    "print(stud[123])\n",
    "print(stud[234])"
   ]
  },
  {
   "cell_type": "markdown",
   "metadata": {},
   "source": [
    "### Zugriff über den Index funktioniert nicht - es gibt kein Index\n",
    "Ein Zugriff über den \"normalen\" Index funktioniert dagegen nicht mehr. Wenn auf einen Schlüssel zugegriffen wird, der nicht existiert, gibt es eine Fehlermeldung:"
   ]
  },
  {
   "cell_type": "code",
   "execution_count": null,
   "metadata": {},
   "outputs": [],
   "source": [
    "stud[0]"
   ]
  },
  {
   "cell_type": "markdown",
   "metadata": {},
   "source": [
    "### Schlüssel-Wert-Paare einem Dicitionary hinzufügen\n",
    "Ein neues Schlüssel Wertpaar kann ganz einfach zu einem Dictionary hinzugefügt werden. `dictionary[Schlüssel] = Wert`. Im folgenden Beispiel werden unserer Studierenden-Datei weitere Studierende hinzugefügt."
   ]
  },
  {
   "cell_type": "code",
   "execution_count": null,
   "metadata": {},
   "outputs": [],
   "source": [
    "stud[567] = \"Peter\"\n",
    "stud[678] = \"Paula\"\n",
    "print(stud)"
   ]
  },
  {
   "cell_type": "markdown",
   "metadata": {},
   "source": [
    "### Der Wert zu einem vorhandenen Schlüssel kann verändert werden\n",
    "Falls ein Schlüssel bei einer Zuweisung zu einem Dictionary schon vorhanden ist, wird der bestehende Wert durch den neuen Wert überschrieben."
   ]
  },
  {
   "cell_type": "code",
   "execution_count": null,
   "metadata": {},
   "outputs": [],
   "source": [
    "stud[567] = \"Ralf\"\n",
    "stud[678] = \"Ronja\"\n",
    "print(stud)"
   ]
  },
  {
   "cell_type": "markdown",
   "metadata": {},
   "source": [
    "### Der Schlüssel in einem Dictionary ist unveränderlich\n",
    "Im Gegensatz zu den Werten, die verändert werden können, sind die Schlüssel *unveränderlich*. Daher darf eine Liste auch kein Schlüssel sein, ein Tupel hingegen schon. (Vergleichen Sie hierzu nochmal das Kapitel *Tupel* und die Erklärung zur Unveränderlichkeit von Schlüsseln.) Einfache Variablen und Tupel können ein Schlüssel sein, Listen können dies nicht."
   ]
  },
  {
   "cell_type": "code",
   "execution_count": null,
   "metadata": {},
   "outputs": [],
   "source": [
    "dict1 = {(123, \"Hans\", \"Meier\") : \"BWL\", (234, \"Helga\", \"Müller\") : \"Info\"}\n",
    "dict1"
   ]
  },
  {
   "cell_type": "code",
   "execution_count": null,
   "metadata": {},
   "outputs": [],
   "source": [
    "dict1 = {[123, \"Hans\", \"Meier\"] : \"BWL\", [234, \"Helga\", \"Müller\"] : \"Info\"}\n",
    "dict1"
   ]
  },
  {
   "cell_type": "markdown",
   "metadata": {},
   "source": [
    "## Aufgabe 1 - Telefonbuch\n",
    "In einem Telefonbuch gibt es immer eine Zuordnung von Telefonnummer (Wert) zu einem Namen (Schlüssel). In einem Telefonbuch wird die Eindeutigkeit eines Schlüssels nicht garantiert, es gibt in der Regel mehrere \"Peter Müller\" mit jeweils unterschiedlichen Telefonnummer. Wir gehen in unserer Aufgabe von einem eindeutigen Namen aus. Erstellen Sie ein Telefonbuch als Dictionary mit Hilfe eine Schleife, die in jedem Durchgang ein Schlüssel-Wert-Paar (Name-Telefonnr) erzeut und diese zum Schluss ausgibt."
   ]
  },
  {
   "cell_type": "code",
   "execution_count": null,
   "metadata": {},
   "outputs": [],
   "source": []
  },
  {
   "cell_type": "markdown",
   "metadata": {},
   "source": [
    "### Mit `in` den Zugriff auf das Dictionary absichern\n",
    "Wie oben gesehen, kann es bei einem Zugriff auf ein Dictionary zu einem Fehler kommen, wenn der Schlüssel nicht existiert. Mit Hilfe des Schlüsselworts `in` kann dies verhindert werden. `key in dict` gibt den Wert `True` zurück, wenn der Schlüssel im Dictionary vorhanden ist, `False` sonst. Auf diese Weise kann man mit einem `if` den Fehler abfangen."
   ]
  },
  {
   "cell_type": "code",
   "execution_count": null,
   "metadata": {},
   "outputs": [],
   "source": [
    "matrnr = int(input(\"Bitte Matrikelnummer eingeben: \"))\n",
    "if matrnr in stud:\n",
    "    print(\"Der gesuchte Studierende ist: \", stud[matrnr])\n",
    "else:\n",
    "    print(\"Ein Studierender mit der MatrNr ist nicht vorhanden\")"
   ]
  },
  {
   "cell_type": "markdown",
   "metadata": {},
   "source": [
    "### Ein Dictionary voller Tupel\n",
    "Genauso wie Listen mit Tupeln kombiniert werden können, können auch Dictionaries mit Tupeln kombiniert werden. Eine häufig Kombination ist, dass mit Hilfe eines Schlüssels auf ein Tupel zugegriffen werden kann.\n",
    "\n",
    "Im folgenden Beispiel wird aus der Studierenden-Datei ein Dictionary gebaut, in dem die Matrikelnummer der Schlüssel ist und der Rest der Informationen in einem Tupel zusammengefasst wird. Der Zugriff auf einzelne Elemente wird wie im letzten Beispiel ermöglicht."
   ]
  },
  {
   "cell_type": "code",
   "execution_count": null,
   "metadata": {},
   "outputs": [],
   "source": [
    "dict_of_students = {}\n",
    "datei = open(\"Data/studenten.csv\", \"r\")\n",
    "for s in datei:\n",
    "    s = s.strip()\n",
    "    s = s.split(\",\")\n",
    "    key = s[0]\n",
    "    values = tuple(s[1:])\n",
    "    dict_of_students[key] = values\n",
    "datei.close()\n",
    "\n",
    "matrnr = input(\"Bitte Matrikelnummer eingeben: \")\n",
    "if matrnr in dict_of_students:\n",
    "    print(dict_of_students[matrnr])\n",
    "else:\n",
    "    print(matrnr, \" nicht vorhanden\")"
   ]
  },
  {
   "cell_type": "markdown",
   "metadata": {},
   "source": [
    "### Mit einer `for`- Schleife über einen Dictionary iterieren\n",
    "Genau wie über eine Liste und über ein Tupel kann man mit der `for`-Schleife auch über ein Dictionary iterieren. Die Syntax sieht dafür wie folgt aus:"
   ]
  },
  {
   "cell_type": "code",
   "execution_count": null,
   "metadata": {},
   "outputs": [],
   "source": [
    "for matrnr in dict_of_students:\n",
    "    print(matrnr, \": \", dict_of_students[matrnr])"
   ]
  },
  {
   "cell_type": "markdown",
   "metadata": {},
   "source": [
    "Alternativ kann auch folgende Syntax verwendet werden:\n",
    "```Python\n",
    "for key, value in dict.items():\n",
    "   print(key)\n",
    "   print(values)```\n",
    "   \n",
    "Diese Variante der `for`-Schleife hat den Vorteil, dass auf die einzelnen Werte auch *ohne* Angabe des jeweiligen Keys zugegriffen werden kann. Dafür ist dann eben die etwas geänderte Syntax sowie die Verwendung der Method `.items()` notwendig."
   ]
  },
  {
   "cell_type": "code",
   "execution_count": null,
   "metadata": {},
   "outputs": [],
   "source": [
    "for matrnr, students in dict_of_students.items():\n",
    "    print(students)"
   ]
  },
  {
   "cell_type": "markdown",
   "metadata": {},
   "source": [
    "### Mit Hilfe von `del()` einen Wert aus einem Dictionary löschen\n",
    "Mit Hilfe der Funktion `del()` kann ein Wert aus einem Dictionary gelöscht werden. Dazu wird einfach einfach der Funktion das Dictionary mit dem Verweis auf den entsprechenden Schlüssel als Argument übergeben."
   ]
  },
  {
   "cell_type": "code",
   "execution_count": null,
   "metadata": {},
   "outputs": [],
   "source": [
    "print(stud)\n",
    "matrnr = int(input(\"Bitte Matrikelnummer eingeben: \"))\n",
    "\n",
    "if matrnr in stud:\n",
    "    del(stud[matrnr])\n",
    "\n",
    "print(stud)"
   ]
  },
  {
   "cell_type": "markdown",
   "metadata": {},
   "source": [
    "### Funktionen und Methoden mit Dictionaries\n",
    "- die Funktion `len()` gibt die Anzahl von Schlüssel-Wert-Paaren eines Dictionaries zurück.\n",
    "- die Methode `.keys()` liefert alle Schlüssel eines Dictionaries. Der Datentyp der Ausgabe ist `dict_keys`, mit Hilfe der Funktion `list()` kann dieser in eine Liste umgewandelt werden (→ ausprobieren)\n",
    "- die Methode `.values()` liefert alle Werte eines Dictionaries\n",
    "- die Methode `.items()` gibt alle Paare als Tupel zurück"
   ]
  },
  {
   "cell_type": "code",
   "execution_count": null,
   "metadata": {},
   "outputs": [],
   "source": [
    "len(stud)"
   ]
  },
  {
   "cell_type": "code",
   "execution_count": null,
   "metadata": {},
   "outputs": [],
   "source": [
    "print(stud.keys())"
   ]
  },
  {
   "cell_type": "code",
   "execution_count": null,
   "metadata": {},
   "outputs": [],
   "source": [
    "print(stud.values())"
   ]
  },
  {
   "cell_type": "code",
   "execution_count": null,
   "metadata": {},
   "outputs": [],
   "source": [
    "print(stud.items())"
   ]
  },
  {
   "cell_type": "markdown",
   "metadata": {},
   "source": [
    "### Mit Hilfe der Funktion `zip()` aus Listen ein Dictionary erzeugen\n",
    "Genau wie es die Casting-Funktionen `list()` und `tuple()` gibt, gibt es auch ein entsprechende Funktion `dict()`. Allerdings gibt es eine Fehlermeldung, wenn man eine einfache Liste oder ein Tupel entsprechend umwandeln möchte."
   ]
  },
  {
   "cell_type": "code",
   "execution_count": null,
   "metadata": {},
   "outputs": [],
   "source": [
    "dict([1,2,3,4,5,6])"
   ]
  },
  {
   "cell_type": "markdown",
   "metadata": {},
   "source": [
    "Die Umwandlung einer Liste von Tupeln ist dagegen möglich. Das erste Element wird dann jeweils als Schlüssel, das zweite als Wert übernommen. (Kontrollieren Sie selber, was passiert, wenn mehr als zwei Elemente im Tupel vorhanden sind.)"
   ]
  },
  {
   "cell_type": "code",
   "execution_count": null,
   "metadata": {},
   "outputs": [],
   "source": [
    "l_of_t = [(\"A\", 1), (\"B\", 3), (\"C\", 5)]\n",
    "dict(l_of_t)"
   ]
  },
  {
   "cell_type": "markdown",
   "metadata": {},
   "source": [
    "Es gibt die Möglichkeit, zwei Listen mit Hilfe der Funktion `zip()` zusammenzufügen und das Ergebnis durch `dict()` in ein Dictionary umzuwandeln. (Versuchen Sie selber, was passiert, wenn die beiden Listen nicht die gleiche Länge haben.)"
   ]
  },
  {
   "cell_type": "code",
   "execution_count": null,
   "metadata": {},
   "outputs": [],
   "source": [
    "l1 = [\"A\", \"B\", \"C\"]\n",
    "l2 = [1, 2, 3]\n",
    "dict(zip(l1, l2))"
   ]
  },
  {
   "cell_type": "markdown",
   "metadata": {},
   "source": [
    "## Aufgabe 2 - Häufigkeit von Worten zählen\n",
    "In einer der vorherigen Aufgaben wurde die Anzahl von Buchstaben in dem Text \"alice.txt\" gezählt. Im Folgenden soll die Häufigkeit von Worten gezählt werden. Die Datei \"alice_clean.txt\" enthält eine *gesäuberte* Version des Textes. D.h. alle Buchstaben sind Kleinbuchstaben, alle Sonderzeichen (abgesehen von dem Leerzeichen) sind gelöscht.\n",
    "Erstellen Sie eine Programm, dass die Häufigkeit jedes Wortes im Text zählt. Ein Wort steht dabei jeweils zwischen zwei Leerzeichen. Erzeugen Sie zuerst ein leeres Dictionary. Laden Sie dann die Datei \"alice_clean.txt\" und schreiben Sie den Text in eine Variable. Gehen Sie dann Wort für Wort durch den Text. Falls das Wort im Dictionary noch nicht vorhanden ist, fügen Sie ein Schlüssel-Wert-Paar *Wort : 1* hinzu. Das Wort kommt bis jetzt einmal vor. Falls das Wort als Schlüssel schon vorhanden ist, erhöhen Sie den Wert des Schlüssels um eins. Zum Schluss geben Sie die 20 häufigsten Worte aus. (Wer möchte, versucht gerne mit dem Originaltext (Sonderzeichen, Groß-Klein-Schreibung, ... zu beginnen.)"
   ]
  },
  {
   "cell_type": "code",
   "execution_count": null,
   "metadata": {},
   "outputs": [],
   "source": []
  },
  {
   "cell_type": "markdown",
   "metadata": {},
   "source": [
    "## Dictionary als Alternative zum Tupel\n",
    "Ein Nachteil von Tupeln ist, dass man wissen muss, an welcher Position sich ein Wert befindet. Wenn ein Wert nicht vorhanden ist (z.B. ist die E-Mail eines Studierenden nicht bekannt), muss statt dessen ein leerer Wert eingegeben werden. Dieses Vorgehen wird insbesondere dann unpraktisch, wenn die Tupel z.B. sehr groß sind, wenn Sie viele leere Werte enthalten oder wenn nicht klar ist, welche Wert überhaupt in Frage kommen.\n",
    "\n",
    "Nehmen Sie nochmal das Beispiel der Studierenden: Es gibt nur vier Werte im Tupel, alle Werte sind bekannt, mit einem Tupel zu arbeiten ist kein Problem."
   ]
  },
  {
   "cell_type": "code",
   "execution_count": null,
   "metadata": {},
   "outputs": [],
   "source": [
    "dict_of_students = {}\n",
    "datei = open(\"Data/studenten.csv\", \"r\")\n",
    "for s in datei:\n",
    "    s = s.strip()\n",
    "    s = s.split(\",\")\n",
    "    key = s[0]\n",
    "    values = tuple(s[1:])\n",
    "    dict_of_students[key] = values\n",
    "datei.close()\n",
    "\n",
    "for student in dict_of_students:\n",
    "    print(student, dict_of_students[student])"
   ]
  },
  {
   "cell_type": "markdown",
   "metadata": {},
   "source": [
    "Stellen Sie sich vor, in diese Tupel sollten zusätzlich die Modulnoten der Studierenden eingetragen werden. Man könnte dann weitere Felder im Tupel hinzufügen: Note für BWL, Note für VWL, Note für WPR, ... Welche Problem ergäben sich?\n",
    "\n",
    "- Das Tupel würde sehr groß, gerade wenn man an die verschiedenen Vertiefungsmodule denkt.\n",
    "- Jeder Studierende hat unterschiedliche Module geschrieben, andere nicht. die Verteilung der leeren Werte wäre sehr  unterschiedlich.\n",
    "- Eine neues Modul wird hinzugefügt, dann müsste direkt das Tupel angepasst werden. Solche Änderungen an Datenstrukturen versucht man zu vermeiden.\n",
    "- Insgesamt geht die Übersichtlichkeit verloren.\n",
    "\n",
    "Wenn man statt des Tupels ein Dictionary verwendet, lösen sich die Probleme (zum Teil) auf. Obige Werte zur Person würden durch entsprechende Schlüssel-Wert-Paare ersetzt, z.B. `\"Name\" : \"Meier\", \"Vorname\" : \"Peter\", ...`. Die Prüfungen könnten durch weitere Schlüssel-Wert-Paare ergänzt werden: `\"BWL\" : 2.0, \"VWL\" : 2.3, \"WPR\" : 3.7, ...`.\n",
    "\n",
    "- leere Werte müssten nicht weiter hinzugefügt werden\n",
    "- Dictionaries sind (im Gegensatz zu Tupeln) veränderlich, d.h. man könnte weitere Prüfungen hinzufügen\n",
    "- jede Note (Wert) ist immer mit dem Modulnamen (Schlüssel) verbunden."
   ]
  },
  {
   "cell_type": "code",
   "execution_count": null,
   "metadata": {},
   "outputs": [],
   "source": [
    "stud1 = {\"MatrNr\" : 12345, \"Name\" : \"Meier\", \"Vname\" : \"Peter\", \\\n",
    "                    \"BWL\" : 3.0, \"WPR\" : 2.3}\n",
    "stud2 = {\"MatrNr\" : 23456, \"Name\" : \"Schmitz\", \"Vname\" : \"Hanne\", \\\n",
    "                    \"WiMa\" : 1.0, \"VWL\" : 2.0, \"Python\" : 1.7}\n",
    "print(stud1)\n",
    "print(stud2)"
   ]
  },
  {
   "cell_type": "markdown",
   "metadata": {},
   "source": [
    "Natürlich könnte man die einzelnen Studenten (also die einzelnen Dictionaries) auch wieder in eine Liste stecken:"
   ]
  },
  {
   "cell_type": "code",
   "execution_count": null,
   "metadata": {},
   "outputs": [],
   "source": [
    "list_of_students = [stud1, stud2]\n",
    "for s in list_of_students:\n",
    "    print(s)"
   ]
  },
  {
   "cell_type": "markdown",
   "metadata": {},
   "source": [
    "### Ein Dictionary kann verändert werden\n",
    "Wenn weitere Prüfungen bestanden wurden oder eine Note geändert werden sollte, können die Dictionaries einfach angepasst werden:"
   ]
  },
  {
   "cell_type": "code",
   "execution_count": null,
   "metadata": {},
   "outputs": [],
   "source": [
    "# Korrektur der Note\n",
    "stud1[\"BWL\"] = 2.7\n",
    "# Weitere Prüfung bestanden\n",
    "stud2[\"Makro\"] = 2.0\n",
    "print(stud1)\n",
    "print(stud2)"
   ]
  },
  {
   "cell_type": "markdown",
   "metadata": {},
   "source": [
    "### Dicitionary von Dictionaries\n",
    "Bis jetzt hatten wir Dictionaries von Tupeln und Listen von Dictionaries. Natürlich kann man auch beides verbinden und Dictionaries von Dictionaries bauen. Beispielsweise kann man weiterhin die Matrikelnummer eines Studierenden als Schlüssel für seine Daten nutzen und die Daten stecken dann eben in einem Dictionary."
   ]
  },
  {
   "cell_type": "code",
   "execution_count": null,
   "metadata": {},
   "outputs": [],
   "source": [
    "dos = {}\n",
    "stud1 = {\"Name\" : \"Meier\", \"Vname\" : \"Peter\", \\\n",
    "                    \"BWL\" : 3.0, \"WPR\" : 2.3}\n",
    "dos[12345] = stud1\n",
    "stud2 = {\"Name\" : \"Schmitz\", \"Vname\" : \"Hanne\", \\\n",
    "                    \"WiMa\" : 1.0, \"VWL\" : 2.0, \"Python\" : 1.7}\n",
    "dos[23456] = stud2\n",
    "\n",
    "print(dos)"
   ]
  },
  {
   "cell_type": "markdown",
   "metadata": {},
   "source": [
    "## Typische Anwendungen von Dictionaries\n",
    "Dictionaries kann man überall dann verwenden, wenn geeignete Schlüsselpaare vorliegen. Beispiele hierfür wären:\n",
    "- Matrikelnummer und Student\n",
    "- Prüfungsnummer und Modulname\n",
    "- Kfz-Nummer und Auto\n",
    "- Zeitstempel und Messwert\n",
    "- Begriff und Lexikoneintrag\n",
    "- ...\n",
    "\n",
    "Die Liste lässt sich leicht fortsetzen. Für den Schlüssel gibt es die folgenden typischen Einschränkungen:\n",
    "- ein Schlüssel muss eindeutig sein. Wenn Sie zwei Autos mit dem gleichen Kfz-Zeichen haben, können Sie die Wagen eben nicht eindeutig über das Zeichen identifizieren. Wenn mehrere Personen über die gleiche Telefonnummer zu erreichen sind, ist die TelNr möglicherweise ein schlechter Schlüssel. Namen sind häufig nicht eindeutig und daher als Schlüssel kritisch. Manchmal fügt man dann Zahlen an z.B. *Peter1, Peter2, Peter3, ...*, um die Eindeutigkeit herzustellen.\n",
    "- ein Schlüssel sollte nicht verändert werden. Als Studierender bleibt ihre Matrikelnummer immer die gleiche. Ein Auto erhält z.B. bei einem Umzug oder bei einem Verkauf eine neue Nummer. Dadurch entstehen Schwierigkeiten, Autos eindeutig zu identifizieren.\n",
    "- ein Schlüssel sollte immer vorhanden sein. Man kann in einem Programm Studierende erst speichern, wenn Sie eine Matrikelnummer haben. Wenn es viele Kandidaten gibt, für die kein Schlüssel vorhanden ist, sollte man einen anderen Schlüssel wählen oder überlegen, ob ein Dictionary die geeignete Datenstruktur ist.\n",
    "\n",
    "### Übersetzungslexikon\n",
    "Eine typische Anwendung für ein Dictionary ist ein (einfaches) Lexikon. Jedem deutschen Begriff (Schlüssel) wird der englische Begriffe als Wert zugeordnet. Anschließend kann über das Dictionary und den deutschen Suchbegriff schell auf die englische Übersetzung zugegriffen werden."
   ]
  },
  {
   "cell_type": "code",
   "execution_count": null,
   "metadata": {},
   "outputs": [],
   "source": [
    "de_en = {\"rot\" : \"red\", \"blau\" : \"blue\", \"grün\" : \"green\", \"weiß\" : \"white\"}\n",
    "farbe = input(\"Welche Farbe soll übersetzt werden?\")\n",
    "if farbe in de_en:\n",
    "    print(farbe, \"heißt auf Englisch\", de_en[farbe])\n",
    "else:\n",
    "    print(\"Hier fehlt eine Übersetzung\")"
   ]
  },
  {
   "cell_type": "markdown",
   "metadata": {},
   "source": [
    "## Aufgabe 3 - Piratensprache\n",
    "Gegeben ist die untenstehen Übersetzungstabelle von englischen Begriffen in die Piratensprache. Schreibe Sie ein Programm, dass vom Benutzer als Eingabe einen Satz in englischer Sprache erwartet. Die Ausgabe soll die Übersetzung des Satz in die Piratensprache sein.\n",
    "\n",
    "| Englisch | Piratensprache |\n",
    "|----------|----------------|\n",
    "|sir|matey|\n",
    "|hotel|fleabag inn|\n",
    "|student|swabbie|\n",
    "|boy|matey|\n",
    "|madam|proud beauty|\n",
    "|professor|foul blaggart|\n",
    "|restaurant|galley|\n",
    "|your|yer|\n",
    "|excuse|arr|\n",
    "|students|swabbies|\n",
    "|are|be|\n",
    "|lawyer|foul blaggart|\n",
    "|the|th’|\n",
    "|restroom|head|\n",
    "|my|me|\n",
    "|hello|avast|\n",
    "|is|be|\n",
    "|man|matey|"
   ]
  },
  {
   "cell_type": "code",
   "execution_count": null,
   "metadata": {},
   "outputs": [],
   "source": []
  }
 ],
 "metadata": {
  "file_extension": ".py",
  "kernelspec": {
   "display_name": "Python 3",
   "language": "python",
   "name": "python3"
  },
  "language_info": {
   "codemirror_mode": {
    "name": "ipython",
    "version": 3
   },
   "file_extension": ".py",
   "mimetype": "text/x-python",
   "name": "python",
   "nbconvert_exporter": "python",
   "pygments_lexer": "ipython3",
   "version": "3.8.5-final"
  },
  "mimetype": "text/x-python",
  "name": "python",
  "npconvert_exporter": "python",
  "pygments_lexer": "ipython3",
  "version": 3
 },
 "nbformat": 4,
 "nbformat_minor": 2
}