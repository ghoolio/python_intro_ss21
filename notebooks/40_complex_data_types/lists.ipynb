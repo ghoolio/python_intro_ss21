{
 "cells": [
  {
   "source": [
    "# Listen\n",
    "Einfache Datentypen - Integer, Float, String, Boolean - reichen bei komplexeren Programmen nicht aus. Sie sollen beispielsweise eine beliebige (vorher nicht bekannte) Anzahl an Zahlen einlesen und anschließend in umgekehrter Reihenfolge ausgeben. Da sie nicht wissen, wie viele Zahlen es sind, können Sie nicht entsprechend viele Variablen var1, var2, var3 ... definieren. Sie benötigen eine Datenstruktur, die die Größe von allein der Situation anpasst. Eine solche Datenstruktur ist eine Liste.\n",
    "## Voraussetzungen\n",
    "Diese Einheit setzt voraus, dass Sie folgende Inhalte kennen: [Variablen](../20_variables_and_datatypes/10_variables.ipynb), [Ein- und Ausgabe](../20_variables_and_datatypes/20_in_and_output.ipynb), [primitive Datentypen](../20_variables_and_datatypes/30_datatypes.ipynb) und [bedingte Anweisungen](../30_conditionals/30_conditionals.ipynb).\n",
    "## Definition von Listen\n",
    "Eine Liste ist ein komplexer Datentyp, der aus mehreren Elementen besteht. Eine Liste wird durch eckige Klammern [ ] dargestellt. Die einzelnen Elemente der Liste werden durch Kommas voneinander getrennt. Genau wie einfache Datentypen können Listen Variablen zugewiesen werden."
   ],
   "cell_type": "markdown",
   "metadata": {}
  },
  {
   "cell_type": "code",
   "execution_count": null,
   "metadata": {},
   "outputs": [],
   "source": [
    "list1 = [1, 3, 5, -23, \"a\", \"abc\", True, 3.234]\n",
    "print(list1)"
   ]
  },
  {
   "source": [
    "## Eigenschaften von Listen\n",
    "Listen haben unter anderem folgende Eigenschaften:\n",
    "- Die Elemente einer Liste können verschiede Datentypen besitzen. Es ist also möglich, dass eine Liste gleichzeitig Elemente von den z.B. Datentyp `Integer`, `String` und 'Boolean' enthält. \n",
    "- Die Elemente in einer Liste haben eine Reihenfolge (im Gegensatz z.B. zu Mengen, einem weiteren komplexen Datentyp). \n",
    "- Da es eine Reihenfolge gibt, kann man mit Hilfe eines Indexes auf die einzelnen Elemente einer Liste zugreifen. Die Elemente werden dabei von 0 an durchgezählt. Der Index wird in eckigen Klammern an die Listen-Variable gehängt."
   ],
   "cell_type": "markdown",
   "metadata": {}
  },
  {
   "cell_type": "code",
   "execution_count": null,
   "metadata": {},
   "outputs": [],
   "source": [
    "list1[2]"
   ]
  },
  {
   "cell_type": "markdown",
   "metadata": {},
   "source": [
    "- Listenelemente können verändert werden. Dazu wird z.B. über den Index ein neuer Wert eingelesen"
   ]
  },
  {
   "cell_type": "code",
   "execution_count": null,
   "metadata": {},
   "outputs": [],
   "source": [
    "list1[0]=100\n",
    "print(list1)"
   ]
  },
  {
   "cell_type": "markdown",
   "metadata": {},
   "source": [
    "- wird auf einen Index außerhalb der Liste zugegriffen, gibt es eine Fehlermeldung"
   ]
  },
  {
   "cell_type": "code",
   "execution_count": null,
   "metadata": {},
   "outputs": [],
   "source": [
    "list1[10] = \"abc\""
   ]
  },
  {
   "source": [
    "- Listenelemente können gelöscht oder hinzugefügt werden. Hierfür gibt es unterschiedliche Funktionen und Methoden, die weiter unten erklärt werden.\n",
    "- Da Listen sehr häufig verwendet werden, gibt es eine Reihe von Methoden, die auf Listen angewendeten werden können.\n",
    "- Listen können nicht nur einfache Datentypen als Element enthalten sondern auch komplexe. Insbesondere kann eine Liste eine andere enthalten."
   ],
   "cell_type": "markdown",
   "metadata": {}
  },
  {
   "cell_type": "code",
   "execution_count": null,
   "metadata": {},
   "outputs": [],
   "source": [
    "list1 = [1, 2, [\"a\", \"b\", \"c\"], 3, 4, [5.6, 7.8]]\n",
    "print(list1)\n",
    "print(list1[2][1])"
   ]
  },
  {
   "cell_type": "markdown",
   "metadata": {},
   "source": [
    "- Achtung: Sie dürfen NICHT den Variablennamen `list` verwenden, da es eine Funktion mit gleichem Namen gibt. Diese wandelt andere komplexe Datentypen (z.B. Tupel) in eine Liste."
   ]
  },
  {
   "cell_type": "markdown",
   "metadata": {},
   "source": [
    "## Listen haben einen Index. Oder auch zwei.\n",
    "Wie oben schon angedeutet haben Listen einen Index. Wie in der Informatik üblich beginnt man beim Nummerieren mit einer 0. Eine Liste, die aus 8 Elementen besteht, hat daher Indizes von 0 bis 7. \n",
    "Es gibt einen zweiten Index, der von hinten zählt. Das letzte Element hat zusätzlich den Index -1, das vorletzte den Index -2 usw. Das vereinfacht den Zugriff auf die Listen.\n",
    "<table>\n",
    "    <tr>\n",
    "        <td>Index von vorne</td><td>0</td><td>1</td><td>2</td><td>3</td>\n",
    "        <td>4</td><td>5</td>\n",
    "    </tr>\n",
    "    <tr>\n",
    "        <td>Listenelement</td><td>3</td><td>\"we\"</td><td>True</td><td>3.4</td>\n",
    "        <td>4</td><td>5</td>\n",
    "    </tr>\n",
    "    <tr>\n",
    "        <td>Index von hinten</td><td>-6</td><td>-5</td><td>-4</td><td>-3</td>\n",
    "        <td>-2</td><td>-1</td>\n",
    "    </tr>\n",
    "</table>"
   ]
  },
  {
   "cell_type": "code",
   "execution_count": null,
   "metadata": {},
   "outputs": [],
   "source": [
    "list1 = [4, 56, \"hallo\", 5.67, False, 9, 8]\n",
    "print(list1)\n",
    "print(list1[6])\n",
    "print(list1[-1])\n",
    "print(list1[0])"
   ]
  },
  {
   "source": [
    "## Einfaches Erstellen und Verändern von Listen\n",
    "- Häufig wird am Anfang eine leere Liste benötigt, die später im Programm gefüllt wird. Eine leere Liste kann wie folgt erzeugt werden:"
   ],
   "cell_type": "markdown",
   "metadata": {}
  },
  {
   "cell_type": "code",
   "execution_count": null,
   "metadata": {},
   "outputs": [],
   "source": [
    "list1 = []\n",
    "print(list1)"
   ]
  },
  {
   "cell_type": "markdown",
   "metadata": {},
   "source": [
    "- Erzeugen einer Liste mit Elementen (s.o.)\n",
    "- Ändern eines Listenelements über den Index (s.o.)\n",
    "- Listen können addiert (= hintereinander gehangen) werden.\n",
    "- Listen können mit einem Integerwert multipliziert werden."
   ]
  },
  {
   "cell_type": "code",
   "execution_count": null,
   "metadata": {},
   "outputs": [],
   "source": [
    "list1 = [1, 2, 3]\n",
    "list2 = [4, 5, 6]\n",
    "list3 = list1 + list2\n",
    "print(list3)\n",
    "list4 = list1 * 3\n",
    "print(list4)"
   ]
  },
  {
   "cell_type": "markdown",
   "metadata": {},
   "source": [
    "- Mit Hilfe von `in` lässt sich überprüfen, ob ein Wert innerhalb einer Liste vorhanden ist oder nicht. `value in list` hat als Rückgabewert entweder `True` oder `False`"
   ]
  },
  {
   "cell_type": "code",
   "execution_count": null,
   "metadata": {},
   "outputs": [],
   "source": [
    "list1 = [1, 2, 3]\n",
    "print(1 in list1)\n",
    "print(\"abc\" in list1)"
   ]
  },
  {
   "cell_type": "markdown",
   "metadata": {},
   "source": [
    "## Funktionen und Methoden für Listen\n",
    "Da Listen häufig verwendet werden, gibt es eine Reihe von Funktionen und Methoden, die auf Listen angewendet werden können.\n",
    "- Die Länge einer Liste lässt sich mit der Funktion `len()` ermitteln"
   ]
  },
  {
   "cell_type": "code",
   "execution_count": null,
   "metadata": {},
   "outputs": [],
   "source": [
    "list1 = [1, 2, 4, \"asdads\", True, 5.4]\n",
    "print(len(list1))"
   ]
  },
  {
   "cell_type": "markdown",
   "metadata": {},
   "source": [
    "- Listen, deren Werte geordnet werden können, können mit Hilfe der Funktion `sorted()` sortiert werden. Sind die Werte in einer Liste nicht sortierbar, gibt es eine Fehlermeldung."
   ]
  },
  {
   "cell_type": "code",
   "execution_count": null,
   "metadata": {},
   "outputs": [],
   "source": [
    "list1 = [7, 3, 6, 7, 12, 45, -21]\n",
    "print(sorted(list1))\n",
    "list1 = (\"F\",\"H\", \" \", \"A\", \"a\", \"c\", \"h\", \"e\", \"n\")\n",
    "print(sorted(list1))\n",
    "list1 = [True, 56, \"abc\"]\n",
    "print(sorted(list1))"
   ]
  },
  {
   "cell_type": "markdown",
   "metadata": {},
   "source": [
    "- Neben der Funktion `sorted()` gibt es noch die Methode `sort()`, die genauso sortiert wie die Funktion. "
   ]
  },
  {
   "cell_type": "code",
   "execution_count": null,
   "metadata": {},
   "outputs": [],
   "source": [
    "list1 = [7, 3, 6, 7, 12, 45, -21]\n",
    "list1.sort()\n",
    "print(list1)\n",
    "list1 = [\"F\",\"H\", \" \", \"A\", \"a\", \"c\", \"h\", \"e\", \"n\"]\n",
    "list1.sort()\n",
    "print(list1)\n",
    "list1 = [True, 56, \"abc\"]\n",
    "list1.sort()\n",
    "print(list1)"
   ]
  },
  {
   "source": [
    "- Der wesentliche Unterschied zwischen der Funktion und der Methode ist: Wird die Methode `sort()` auf `list1` angewendet, ist die Liste anschließend sortiert. Die Funktion `sorted()` hingegen lässt die eingegebene Liste unverändert und gibt als Rückgabewert die sortierte Liste aus."
   ],
   "cell_type": "markdown",
   "metadata": {}
  },
  {
   "cell_type": "code",
   "execution_count": null,
   "metadata": {},
   "outputs": [],
   "source": [
    "list1 = [7, 3, 6, 7, 12, 45, -21]\n",
    "list1.sort()\n",
    "print(list1)\n",
    "list1 = [7, 3, 6, 7, 12, 45, -21]\n",
    "print(sorted(list1))\n",
    "print(list1)"
   ]
  },
  {
   "cell_type": "markdown",
   "metadata": {},
   "source": [
    "- mit Hilfe der Methode `append()` können Elemente an eine Liste angehängt werden. Der als Parameter übergebene Wert ist anschließend das letzte Elemente der Liste."
   ]
  },
  {
   "cell_type": "code",
   "execution_count": null,
   "metadata": {},
   "outputs": [],
   "source": [
    "list1 = [3, 4, 5]\n",
    "list1.append(\"neues Ende\")\n",
    "print(list1)"
   ]
  },
  {
   "cell_type": "markdown",
   "metadata": {},
   "source": [
    "- Während die Methode `append()` \"nur\" hinten anhängen kann, kann man mit der Methode `insert()` einen neuen Wert gezielt an eine bestimmte Position einfügen. Daher benötigt man eben auch zwei Parameter. Der Index gibt die Position an, Value ist der einzufügende Wert. Ist Index zu hoch, gibt es keine Fehlermeldung. Stattdessen wird der Wert einfach als letzte Element angehängt."
   ]
  },
  {
   "cell_type": "code",
   "execution_count": null,
   "metadata": {},
   "outputs": [],
   "source": [
    "list1 = [1, 2, 3, 4]\n",
    "list1.insert(1, 100)\n",
    "list1.insert(1000, 200)\n",
    "print(list1)"
   ]
  },
  {
   "cell_type": "markdown",
   "metadata": {},
   "source": [
    "- In der Informatik wird häufig die Datenstruktur \"Stack\" verwendet. Stack ist  ein Stapel. Man kann sich einen Stack wie einen Stapel Teller vorstellen. Eine wichtige Eigenschaft eines (Teller-)stapels ist es, dass man immer den obersten Teller wegnimmt oder einen Teller oben auf den Stapel drauflegt. Man spricht auch von Last-In-First-Out (LIFO). In der Informatik gibt es für diese beiden elementaren Operation zwei Begriffe Push (einen Teller auf den Stapel legen) und Pop (einen Teller vom Stapel herunternehmen). In Python ist das Push bereits durch die Methode `append()` realisiert. Daneben gibt es die Methode `pop()`. `pop()` wird ohne Parameter aufgerufen und erhält als Rückgabewert das Letzte Element der Liste. Dieses letzte Element wird dann gleichzeitig gelöscht."
   ]
  },
  {
   "cell_type": "code",
   "execution_count": null,
   "metadata": {},
   "outputs": [],
   "source": [
    "list1 = [7, 4, 6, 5]\n",
    "list1.append(10)\n",
    "print(list1)\n",
    "x = list1.pop()\n",
    "print(x)\n",
    "print(list1)"
   ]
  },
  {
   "cell_type": "markdown",
   "metadata": {},
   "source": [
    "- Das Schlüsselwort `in` ist keine Methode bzw. Funktion. Mit Hilfe von `in` kann man überprüfen, ob ein Wert in einer Liste ist. Der Ausdruck `value in liste` liefert je nach Ergebnis `True` oder `False`"
   ]
  },
  {
   "cell_type": "code",
   "execution_count": null,
   "metadata": {},
   "outputs": [],
   "source": [
    "list1 = [1, 2, 3, 4]\n",
    "if 2 in list1:\n",
    "    print(\"2 ist dabei\")\n",
    "else:\n",
    "    print(\"2 ist nicht dabei\")"
   ]
  },
  {
   "source": [
    "- Mit Hilfe der Methode `remove()` wird das erste Vorkommen des Wertes, der `remove()` übergeben wird, gelöscht. Falls der Wert nicht vorhanden ist, gibt es eine Fehlermeldung. Mit Hilfe der Methode `clear()` werden alle Werte aus der Liste gelöscht. Die Liste ist anschließend eine leere Liste."
   ],
   "cell_type": "markdown",
   "metadata": {}
  },
  {
   "cell_type": "code",
   "execution_count": null,
   "metadata": {},
   "outputs": [],
   "source": [
    "list1 = [1, 2, 3, 4]\n",
    "list1.remove(2)\n",
    "print(list1)\n",
    "list1.clear()\n",
    "print(list1)\n",
    "list1.remove(2)"
   ]
  },
  {
   "source": [
    "- Die Länge einer Liste, also die Anzahl der Elemente, kann mit der Funktion `len()` ermittelt werden."
   ],
   "cell_type": "markdown",
   "metadata": {}
  },
  {
   "cell_type": "code",
   "execution_count": null,
   "metadata": {},
   "outputs": [],
   "source": [
    "list1 = [1, 2, 4, 6]\n",
    "print(len(list1))"
   ]
  },
  {
   "cell_type": "markdown",
   "metadata": {},
   "source": [
    "## Weitere Funktionen\n",
    "Es gibt noch eine Reihe weiterer Funktion bzw. Methoden für Listen, die im Folgenden ohne Beispiel aufgelistet werden:\n",
    "- `list1.count(value)` gibt die Anzahl der Vorkommen von value in list1 als Rückgabewert\n",
    "- `list1.reverse()` dreht die Liste um, d.h. das nullte Element wird zum letzten, das letzte Element wird das erste.\n",
    "- `min(list1)` gibt das kleinste Element der Liste zurück\n",
    "- `max(list1)` gibt das größte Element der Liste zurück"
   ]
  },
  {
   "cell_type": "markdown",
   "metadata": {},
   "source": [
    "## Mit Teillisten arbeiten\n",
    "Mit Hilfe des sogenannten Slice-Operators : kann man auf Teile einer Liste zugreifen. Beispielsweise erstellt `list1[1:3]` eine Teilliste die vom ersten (inklusive) bis zum dritten (exklusive) Element der Liste geht. Wird der Parameter vor dem : weggelassen, startet die Teilliste beim Anfang, wird der Parameter hinter dem : weggelassen, dann endet die Teilliste mit dem letzten Element der Originalliste."
   ]
  },
  {
   "cell_type": "code",
   "execution_count": null,
   "metadata": {},
   "outputs": [],
   "source": [
    "list1 = [0, 2, 4, 6, 8, 10]\n",
    "print(list1[2:4])\n",
    "print(list1[:3])\n",
    "print(list1[3:])\n",
    "print(list1[:])"
   ]
  },
  {
   "cell_type": "markdown",
   "metadata": {},
   "source": [
    "## Listen von Listen\n",
    "Wie oben bereits erwähnt können `Liste`n beliebige Objekte enthalten. Somit kann eine `Liste` auch selbst wieder eine `Liste` enthalten. Der Zugriff erfolgt auch in diesem Fall über den Index."
   ]
  },
  {
   "cell_type": "code",
   "execution_count": null,
   "metadata": {},
   "outputs": [],
   "source": [
    "l = [42, 23, [1,2,3], \"Hallo\"]\n",
    "print(l[2]) #Das Ergebnis des Zugriffs auf den Index 2 ist eine Liste \n",
    "print(l[2][1]) #Auch auf die Liste, die innerhalb eine Liste enthalten ist, wird über den Index zugegriffen"
   ]
  },
  {
   "cell_type": "markdown",
   "metadata": {},
   "source": [
    "Eine `Liste` von `Liste`n kann z.B. verwendet werden, um eine Liste von Kursen und die zu den Kursen angemeldeten Studenten abzubilden."
   ]
  },
  {
   "cell_type": "code",
   "execution_count": null,
   "metadata": {},
   "outputs": [],
   "source": [
    "informationstechnik_1 = [[\"Max\", \"Meier\", 12345678, \"mm@web.de\"],[\"Lisa\", \"Müller\", 87654321, \"ml@web.de\"], [\"Markus\", \"Peter\", 11223344, \"mp@google.de\"]]\n",
    "sap_in_der_praxis = [[\"Lee\", \"Hollis\", 66666666, \"lee@spermbirds.com\"],[\"Joey\", \"Ramone\", 44445555, \"joey@ramones.de´´com\"], [\"Lemmy\", \"Kilmister\", 99999999, \"lemmy@ace-of-spaced.com\"]]\n",
    "\n",
    "vorlesungen = [informationstechnik_1, sap_in_der_praxis]\n",
    "\n",
    "print(vorlesungen)\n",
    "print(vorlesungen[1][2][0])"
   ]
  },
  {
   "source": [
    "## Strings sind auch nur Listen\n",
    "Genau wie `Liste`n gehört `String`s in Python zu den *sequentiellen Datentypen*. Ein String ist also sozusagen nur eine Liste (Sequenz) von Zeichen. Daher funktionieren einige der oben angegeben Funktionen und Methoden auch auf Strings."
   ],
   "cell_type": "markdown",
   "metadata": {}
  },
  {
   "cell_type": "code",
   "execution_count": null,
   "metadata": {},
   "outputs": [],
   "source": [
    "hochschule = \"FH Aachen, Fachbereich Wirtschaftswissenschaften\"\n",
    "print(len(hochschule))\n",
    "if \"A\" in hochschule:\n",
    "    print(hochschule, \" enthält ein 'A'\")\n",
    "print(hochschule[:10])\n",
    "print(hochschule.count(\"a\"))"
   ]
  },
  {
   "source": [
    "## Weitere komplexe Datentypen\n",
    "In Python existieren noch einige weiter komplexe Datentypen. Auf eine detaillierte Darstellung dieser Datentypen wird an dieser Stelle verzichtet. Trotzdem sollen diese kurz erwähnt werden.\n",
    "### Tupel \n",
    "Wie die `Liste`n gehören die `Tupel` zu den sequenziellen Datentypen. Ein [`Tupel`](https://docs.python.org/3/library/stdtypes.html#tuple) wird in Python durch eine runde Klammer dargestellt. Auf den ersten Blick unterscheiden sich `Liste`n und `Tupel` nur durch die Art der Klammer, mit der sie erstellt werden.\n"
   ],
   "cell_type": "markdown",
   "metadata": {}
  },
  {
   "cell_type": "code",
   "execution_count": null,
   "metadata": {},
   "outputs": [],
   "source": [
    "l = [1, 3, 5, -23, \"a\", \"abc\", True, 3.234] #Eine Liste erstellen\n",
    "t = (1, 3, 5, -23, \"a\", \"abc\", True, 3.234) #Einen Tupel erstellen\n",
    "\n",
    "print(\"Das dritte Element der Liste:\", l[2])\n",
    "print(\"Das vierte Element des Tupel:\", t[3])"
   ]
  },
  {
   "cell_type": "markdown",
   "metadata": {},
   "source": [
    "Der Unterschied zwischen `Liste`n und `Tupel`ist, dass `Tupel` nicht mehr verändert werden können."
   ]
  },
  {
   "cell_type": "code",
   "execution_count": null,
   "metadata": {},
   "outputs": [],
   "source": [
    "l = [1, 3, 5, -23, \"a\", \"abc\", True, 3.234] #Eine Liste erstellen\n",
    "t = (1, 3, 5, -23, \"a\", \"abc\", True, 3.234) #Einen Tupel erstellen\n",
    "l[0] = \"neuer Wert\"\n",
    "print(l)\n",
    "\n",
    "t[1] = \"neuer Wert\"\n",
    "print(t)"
   ]
  },
  {
   "source": [
    "### Mengen\n",
    "In Python existiert mit dem Datentyp [`Set`](https://docs.python.org/3/library/stdtypes.html?#set) ein spezieller Datentyp zur Abbildung von Mengen. Der Inhalt ist eine ungeordnete Sammlung von eindeutigen, unveränderlichen Elementen. Im Gegensatz zu `Listen` oder `Tupeln` kann in einem `Set` ein Element nicht mehrfach vorkommen. "
   ],
   "cell_type": "markdown",
   "metadata": {}
  },
  {
   "cell_type": "code",
   "execution_count": null,
   "metadata": {},
   "outputs": [],
   "source": [
    "s1 = {1,2,4,6,8}\n",
    "s1.add(10)\n",
    "print(s1)\n",
    "\n",
    "s1.add(2)\n",
    "s1.add(4)\n",
    "print(s1)"
   ]
  },
  {
   "source": [
    "Außerdem unterstütz der Datentyp `Set` typische Mengenoperationen."
   ],
   "cell_type": "markdown",
   "metadata": {}
  },
  {
   "cell_type": "code",
   "execution_count": null,
   "metadata": {},
   "outputs": [],
   "source": [
    "s2 = {1,2,3,4,5}\n",
    "schnittmenge = s1.intersection(s2)\n",
    "print(schnittmenge)\n",
    "\n",
    "vereinigungsmenge = s1.union(s2)\n",
    "print(vereinigungsmenge)"
   ]
  }
 ],
 "metadata": {
  "file_extension": ".py",
  "kernelspec": {
   "display_name": "Python 3",
   "language": "python",
   "name": "python3"
  },
  "language_info": {
   "codemirror_mode": {
    "name": "ipython",
    "version": 3
   },
   "file_extension": ".py",
   "mimetype": "text/x-python",
   "name": "python",
   "nbconvert_exporter": "python",
   "pygments_lexer": "ipython3",
   "version": "3.7.4"
  },
  "mimetype": "text/x-python",
  "name": "python",
  "npconvert_exporter": "python",
  "pygments_lexer": "ipython3",
  "version": 3
 },
 "nbformat": 4,
 "nbformat_minor": 2
}