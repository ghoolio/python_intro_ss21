{
 "cells": [
  {
   "cell_type": "markdown",
   "metadata": {},
   "source": [
    "# Lists\n",
    "Simple data types - integer, float, string, Boolean - are not sufficient for more complex programs. For example, you should read in any (previously unknown) number of numerical values and then output them in reverse order. Since you do not know how many numbers there are, you cannot define many variables var1, var2, var3 ... accordingly. You need a data structure that adjusts the size accordingly. Such a data structure is a list.\n",
    "\n",
    "## Prerequisites\n",
    "This unit assumes that you are familiar with the following content: \n",
    "[Variables](../20_variables_and_datatypes/10_variables_eng.ipynb),\n",
    "[Input and Output](../20_variables_and_datatypes/20_in_and_output_eng.ipynb),\n",
    "[primitive Datatypes](../20_variables_and_datatypes/30_datatypes_eng.ipynb) and\n",
    "[Conditionals](../30_conditionals/30_conditionals_eng.ipynb)\n",
    "## Definition of lists\n",
    "A list is a complex data type that consists of several elements.\n",
    "A list is represented by square brackets []. \n",
    "The individual elements of the list are comma-separated.\n",
    "Just like simple data types, lists can be assigned to variables."
   ]
  },
  {
   "cell_type": "code",
   "execution_count": null,
   "metadata": {},
   "outputs": [],
   "source": [
    "list1 = [1, 3, 5, -23, \"a\", \"abc\", True, 3.234]\n",
    "print(list1)"
   ]
  },
  {
   "cell_type": "markdown",
   "metadata": {},
   "source": [
    "## Properties of lists\n",
    "Lists have, inter alia, the following properties:\n",
    "- The elements of a list can have different data types. It is, therefore, possible for a list to simultaneously contain\n",
    "elements from e.g. data type `Integer`,` String` and `Boolean`.\n",
    "- The elements in a list have an order (in contrast to e.g. `sets` another complex data type).\n",
    "- Since there is a sequence, you can use an index to access the individual elements of a list. The elements are counted\n",
    " from 0 onwards. The index is in square brackets is appended to the list variable."
   ]
  },
  {
   "cell_type": "code",
   "execution_count": null,
   "metadata": {},
   "outputs": [],
   "source": [
    "list1[2]"
   ]
  },
  {
   "cell_type": "markdown",
   "metadata": {},
   "source": [
    "- List elements can be changed. For this, e.g. read in a new value via the index"
   ]
  },
  {
   "cell_type": "code",
   "execution_count": null,
   "metadata": {},
   "outputs": [],
   "source": [
    "list1[0]=100\n",
    "print(list1)"
   ]
  },
  {
   "cell_type": "markdown",
   "metadata": {},
   "source": [
    "- if an index outside the list is accessed, an error message is issued"
   ]
  },
  {
   "cell_type": "code",
   "execution_count": null,
   "metadata": {},
   "outputs": [],
   "source": [
    "list1[10] = \"abc\""
   ]
  },
  {
   "cell_type": "markdown",
   "metadata": {},
   "source": [
    "- List elements can be deleted or added. There are different functions and methods for this, which are explained below.\n",
    "- Since lists are used very often, several methods can be used on lists.\n",
    "- Lists can contain not only simple data types as elements but also complex ones. In particular, one list can contain\n",
    " another."
   ]
  },
  {
   "cell_type": "code",
   "execution_count": null,
   "metadata": {},
   "outputs": [],
   "source": [
    "list1 = [1, 2, [\"a\", \"b\", \"c\"], 3, 4, [5.6, 7.8]]\n",
    "print(list1)\n",
    "print(list1[2][1])"
   ]
  },
  {
   "cell_type": "markdown",
   "metadata": {},
   "source": [
    "- Attention: You must NOT use the variable name `list` as there is a function with the same name.\n",
    "This converts other complex data types (e.g. tuples) into a list.\n"
   ]
  },
  {
   "cell_type": "markdown",
   "metadata": {},
   "source": [
    "## Lists have an index. Or two.\n",
    "As indicated above, lists have an index. As is common in computer science, the numbering starts at 0.\n",
    "\n",
    "A list consisting of 8 elements, therefore, has indices from 0 to 7.\n",
    "\n",
    "There is a second index that counts from behind. For Example the last element has index -1, the penultimate one\n",
    "has index -2, and so on and so forth. This simplifies access to the lists.\n",
    "\n",
    "Let's take the following list and fill it with elements so that it can be accessed as shown in the table below:"
   ]
  },
  {
   "cell_type": "code",
   "execution_count": null,
   "metadata": {
    "pycharm": {
     "name": "#%%\n"
    }
   },
   "outputs": [],
   "source": [
    "list1 = [.......]"
   ]
  },
  {
   "cell_type": "markdown",
   "metadata": {
    "pycharm": {
     "name": "#%% md\n"
    }
   },
   "source": [
    "<table>\n",
    "    <tr>\n",
    "        <td>front index</td><td>0</td><td>1</td><td>2</td><td>3</td>\n",
    "        <td>4</td><td>5</td>\n",
    "    </tr>\n",
    "    <tr>\n",
    "        <td>list element</td><td>3</td><td>\"we\"</td><td>True</td><td>3.4</td>\n",
    "        <td>4</td><td>5</td>\n",
    "    </tr>\n",
    "    <tr>\n",
    "        <td>rear index</td><td>-6</td><td>-5</td><td>-4</td><td>-3</td>\n",
    "        <td>-2</td><td>-1</td>\n",
    "    </tr>\n",
    "</table>"
   ]
  },
  {
   "cell_type": "code",
   "execution_count": null,
   "metadata": {},
   "outputs": [],
   "source": [
    "print(list1)\n",
    "print(list1[6])\n",
    "print(list1[-1])\n",
    "print(list1[0])"
   ]
  },
  {
   "cell_type": "markdown",
   "metadata": {},
   "source": [
    "## Easily create and modify lists\n",
    "- An empty list is often required at the beginning, which is later filled in the program. An empty list can be created\n",
    " as follows:"
   ]
  },
  {
   "cell_type": "code",
   "execution_count": null,
   "metadata": {},
   "outputs": [],
   "source": [
    "list1 = []\n",
    "print(list1)"
   ]
  },
  {
   "cell_type": "markdown",
   "metadata": {},
   "source": [
    "- Generate a list of elements (see above)\n",
    "- Change a list element via the index (see above)\n",
    "- Lists can be added (= hung one after the other).\n",
    "- Lists can be multiplied by an integer."
   ]
  },
  {
   "cell_type": "code",
   "execution_count": null,
   "metadata": {},
   "outputs": [],
   "source": [
    "list1 = [1, 2, 3]\n",
    "list2 = [4, 5, 6]\n",
    "list3 = list1 + list2\n",
    "print(list3)\n",
    "list4 = list1 * 3\n",
    "print(list4)"
   ]
  },
  {
   "cell_type": "markdown",
   "metadata": {},
   "source": [
    "- With `in` you can check whether a value is available in a list or not. `value in the list` has either\n",
    "` True` or `False` as a return value"
   ]
  },
  {
   "cell_type": "code",
   "execution_count": null,
   "metadata": {},
   "outputs": [],
   "source": [
    "list1 = [1, 2, 3]\n",
    "print(1 in list1)\n",
    "print(\"abc\" in list1)"
   ]
  },
  {
   "cell_type": "markdown",
   "metadata": {},
   "source": [
    "## Functions and methods for lists\n",
    "Because lists are used frequently, there are a number of functions and methods that can be applied to lists.\n",
    "- The length of a list can be obtained with the function `len()`"
   ]
  },
  {
   "cell_type": "code",
   "execution_count": null,
   "metadata": {},
   "outputs": [],
   "source": [
    "list1 = [1, 2, 4, \"asdads\", True, 5.4]\n",
    "print(len(list1))"
   ]
  },
  {
   "cell_type": "markdown",
   "metadata": {},
   "source": [
    "- Lists values can be sorted using the `sorted()` function. If the values in a list cannot be sorted,\n",
    " there is an error message."
   ]
  },
  {
   "cell_type": "code",
   "execution_count": null,
   "metadata": {},
   "outputs": [],
   "source": [
    "list1 = [7, 3, 6, 7, 12, 45, -21]\n",
    "print(sorted(list1))\n",
    "list1 = (\"F\",\"H\", \" \", \"A\", \"a\", \"c\", \"h\", \"e\", \"n\")\n",
    "print(sorted(list1))\n",
    "list1 = [True, 56, \"abc\"]\n",
    "print(sorted(list1))"
   ]
  },
  {
   "cell_type": "markdown",
   "metadata": {},
   "source": [
    "- In addition to the `sorted()` **function**, there is also the `sort()` **method**, which sorts just like the function."
   ]
  },
  {
   "cell_type": "code",
   "execution_count": null,
   "metadata": {},
   "outputs": [],
   "source": [
    "list1 = [7, 3, 6, 7, 12, 45, -21]\n",
    "list1.sort()\n",
    "print(list1)\n",
    "list1 = [\"F\",\"H\", \" \", \"A\", \"a\", \"c\", \"h\", \"e\", \"n\"]\n",
    "list1.sort()\n",
    "print(list1)\n",
    "list1 = [True, 56, \"abc\"]\n",
    "list1.sort()\n",
    "print(list1)"
   ]
  },
  {
   "cell_type": "markdown",
   "metadata": {},
   "source": [
    "- The main difference between the function and the method is: If the method `sort()` is used on `list1`, the list is\n",
    "then sorted. The function `sorted()`, however, leaves the entered list unchanged and returns\n",
    "the sorted list as the return value."
   ]
  },
  {
   "cell_type": "code",
   "execution_count": null,
   "metadata": {},
   "outputs": [],
   "source": [
    "list1 = [7, 3, 6, 7, 12, 45, -21]\n",
    "list1.sort()\n",
    "print(list1)\n",
    "list1 = [7, 3, 6, 7, 12, 45, -21]\n",
    "print(sorted(list1))\n",
    "print(list1)"
   ]
  },
  {
   "cell_type": "markdown",
   "metadata": {},
   "source": [
    "- With `append()` elements can be attached to a list. The value passed as a parameter is then the last element in\n",
    "the list."
   ]
  },
  {
   "cell_type": "code",
   "execution_count": null,
   "metadata": {},
   "outputs": [],
   "source": [
    "list1 = [3, 4, 5]\n",
    "list1.append(\"new end\")\n",
    "print(list1)"
   ]
  },
  {
   "cell_type": "markdown",
   "metadata": {},
   "source": [
    "- While the `append()` method can only append to the back, the `insert()` method can be used to insert\n",
    "a new value at a specific position. Therefore you need two parameters. The index indicates the position of a certain\n",
    "element, Value is the value to be inserted. If the index is too high, there is no error message.\n",
    "Instead, the value is simply added as the last element."
   ]
  },
  {
   "cell_type": "code",
   "execution_count": null,
   "metadata": {},
   "outputs": [],
   "source": [
    "list1 = [1, 2, 3, 4]\n",
    "list1.insert(1, 100)\n",
    "list1.insert(1000, 200)\n",
    "print(list1)"
   ]
  },
  {
   "cell_type": "markdown",
   "metadata": {},
   "source": [
    "- The \"stack\" data structure is often used in computer science. Stack as its name indicates works in principle just\n",
    "like a stack of papers.\n",
    "\n",
    "    An important feature of a (paper) stack is that you always remove the top paper or put a paper on top of the stack.\n",
    "\n",
    "    One also speaks of last-in-first-out (LIFO). In computer science, there are two terms push (to put a paper on the stack)\n",
    "    and pop (to remove a paper from the stack) for these two elementary operations.\n",
    "    In Python, the push is already implemented using the `append()` method.\n",
    "\n",
    "    There is also the `pop()` method. `pop()` is called without parameters and receives the last element of the list as\n",
    "    the return value.\n",
    "    This last element is then deleted concurrently."
   ]
  },
  {
   "cell_type": "code",
   "execution_count": null,
   "metadata": {},
   "outputs": [],
   "source": [
    "list1 = [7, 4, 6, 5]\n",
    "list1.append(10)\n",
    "print(list1)\n",
    "x = list1.pop()\n",
    "print(x)\n",
    "print(list1)"
   ]
  },
  {
   "cell_type": "markdown",
   "metadata": {},
   "source": [
    "- The keyword `in` is not a method or function. Using `in` can help you check whether a value is in a list or not.\n",
    "The expression `<value> in <list>` returns` True` or `False` depending on the result."
   ]
  },
  {
   "cell_type": "code",
   "execution_count": null,
   "metadata": {},
   "outputs": [],
   "source": [
    "list1 = [1, 2, 3, 4]\n",
    "if 2 in list1:\n",
    "    print(\"2 ist dabei\")\n",
    "else:\n",
    "    print(\"2 ist nicht dabei\")"
   ]
  },
  {
   "cell_type": "markdown",
   "metadata": {},
   "source": [
    "- The `remove()` method,  deletes the first occurrence of the value that is passed to it.\n",
    "If the value is not available, there is an error message.\n",
    "Using the `clear ()` method, all values are deleted from the list. The list is then an empty list."
   ]
  },
  {
   "cell_type": "code",
   "execution_count": null,
   "metadata": {},
   "outputs": [],
   "source": [
    "list1 = [1, 2, 3, 4]\n",
    "list1.remove(2)\n",
    "print(list1)\n",
    "list1.clear()\n",
    "print(list1)\n",
    "list1.remove(2)"
   ]
  },
  {
   "cell_type": "markdown",
   "metadata": {},
   "source": [
    "## Additional Functions\n",
    "There are a number of other functions and methods for lists listed below without an example:\n",
    "- `list1.count(value)` returns the number of occurrences of a value in list1\n",
    "- `list1.reverse()` flips the list, i.e. the first element becomes the last and the last element becomes the first.\n",
    "- `min(list1)` returns the smallest element of the list\n",
    "- `max(list1)` returns the largest element of the list"
   ]
  },
  {
   "cell_type": "markdown",
   "metadata": {},
   "source": [
    "# Working with Sublists\n",
    "With the help of the so-called slice operator: parts of a list can be accessed. For example, `list1[1: 3]` creates a\n",
    "partial list that goes from the first (inclusive) to the third (exclusive) element of the list.\n",
    "If the parameter before \":\" is omitted, the partial list starts at the beginning.\n",
    "If the parameter after \":\" is omitted, the partial list ends with the last element of the original list."
   ]
  },
  {
   "cell_type": "code",
   "execution_count": null,
   "metadata": {},
   "outputs": [],
   "source": [
    "list1 = [0, 2, 4, 6, 8, 10]\n",
    "print(list1[2:4])\n",
    "print(list1[:3])\n",
    "print(list1[3:])\n",
    "print(list1[:])"
   ]
  },
  {
   "cell_type": "markdown",
   "metadata": {},
   "source": [
    "## lists of lists\n",
    "As mentioned above, a `list` can contain any object, possibly another `list`.\n",
    "In this case, those elements too can be accessed via the index."
   ]
  },
  {
   "cell_type": "code",
   "execution_count": null,
   "metadata": {},
   "outputs": [],
   "source": [
    "l = [42, 23, [1,2,3], \"Hello\"]\n",
    "print(l[2]) #The result of accessing index 2 is a list\n",
    "print(l[2][1]) #The list contained within a list is also accessed via the index"
   ]
  },
  {
   "cell_type": "markdown",
   "metadata": {},
   "source": [
    "A `list` of` list`s can e.g. be used to display a list of courses and the students enrolled in the courses."
   ]
  },
  {
   "cell_type": "code",
   "execution_count": null,
   "metadata": {},
   "outputs": [],
   "source": [
    "information_technology_1 = [[\"Max\", \"Meier\", 12345678, \"mm@web.de\"],[\"Lisa\", \"Müller\", 87654321, \"ml@web.de\"], [\"Markus\", \"Peter\", 11223344, \"mp@google.de\"]]\n",
    "sap_in_practice = [[\"Lee\", \"Hollis\", 66666666, \"lee@spermbirds.com\"],[\"Joey\", \"Ramone\", 44445555, \"joey@ramones.de´´com\"], [\"Lemmy\", \"Kilmister\", 99999999, \"lemmy@ace-of-spaced.com\"]]\n",
    "\n",
    "lectures = [information_technology_1, sap_in_practice]\n",
    "\n",
    "print(lectures)\n",
    "print(lectures[1][2][0])"
   ]
  },
  {
   "cell_type": "markdown",
   "metadata": {},
   "source": [
    "## Strings Are Also Just Lists\n",
    "Just like `List`,` String`s is one of the *sequential data types* in Python. A string is, so to speak, just a list\n",
    "(sequence) of characters. Therefore, some of the functions and methods mentioned above also work on strings."
   ]
  },
  {
   "cell_type": "code",
   "execution_count": null,
   "metadata": {
    "pycharm": {
     "name": "#%%\n"
    }
   },
   "outputs": [],
   "source": [
    "college = \"FH Aachen, Fachbereich Wirtschaftswissenschaften\"\n",
    "print(len(college))\n",
    "if \"A\" in college:\n",
    "    print(college, \" has an 'A'\")\n",
    "print(college[:10])\n",
    "print(college.count(\"a\"))"
   ]
  },
  {
   "cell_type": "markdown",
   "metadata": {},
   "source": [
    "## Other Complex Data Types\n",
    "There are numerous complex data types in Python. There is no detailed description of these data types at this point. Nevertheless, these should be mentioned briefly.\n",
    "### tuple\n",
    "Like the `lists`, the` tuples` belong to the sequential data types.\n",
    "A [`tuple`] (https://docs.python.org/3/library/stdtypes.html#tuple) is represented in Python by a parenthesis.\n",
    "At first glance, the only difference between `lists` and` tuples` is the type of bracket with which they are created."
   ]
  },
  {
   "cell_type": "code",
   "execution_count": null,
   "metadata": {},
   "outputs": [],
   "source": [
    "l = [1, 3, 5, -23, \"a\", \"abc\", True, 3.234] # create a list\n",
    "t = (1, 3, 5, -23, \"a\", \"abc\", True, 3.234) # create a tuple\n",
    "\n",
    "print(\"The third element of l:\", l[2])\n",
    "print(\"The forht element of t:\", t[3])"
   ]
  },
  {
   "cell_type": "markdown",
   "metadata": {},
   "source": [
    "The difference between `List`s and` Tuple` is that `Tuple` can no longer be changed (invariant)."
   ]
  },
  {
   "cell_type": "code",
   "execution_count": null,
   "metadata": {},
   "outputs": [],
   "source": [
    "l = [1, 3, 5, -23, \"a\", \"abc\", True, 3.234] # create a list\n",
    "t = (1, 3, 5, -23, \"a\", \"abc\", True, 3.234) # create a tuple\n",
    "l[0] = \"new value\"\n",
    "print(l)\n",
    "\n",
    "t[1] = \"new value\"\n",
    "print(t)"
   ]
  },
  {
   "cell_type": "markdown",
   "metadata": {},
   "source": [
    "### Sets\n",
    "In Python, the data type [`Set`] (https://docs.python.org/3/library/stdtypes.html?#set) is a special data type for\n",
    "mapping sets. The content is a disordered collection of unique, unchangeable elements.\n",
    "In contrast to `lists` or` tuples`, an element may not appear more than once in a `set`."
   ]
  },
  {
   "cell_type": "code",
   "execution_count": null,
   "metadata": {},
   "outputs": [],
   "source": [
    "s1 = {1,2,4,6,8}\n",
    "s1.add(10)\n",
    "print(s1)\n",
    "\n",
    "s1.add(2)\n",
    "s1.add(4)\n",
    "print(s1)"
   ]
  },
  {
   "cell_type": "markdown",
   "metadata": {},
   "source": [
    "The `Set` data type also supports typical set operations."
   ]
  },
  {
   "cell_type": "code",
   "execution_count": null,
   "metadata": {},
   "outputs": [],
   "source": [
    "s2 = {1,2,3,4,5}\n",
    "intersection = s1.intersection(s2)\n",
    "print(intersection)\n",
    "\n",
    "union = s1.union(s2)\n",
    "print(union)"
   ]
  }
 ],
 "metadata": {
  "file_extension": ".py",
  "kernelspec": {
   "display_name": "Python 3",
   "language": "python",
   "name": "python3"
  },
  "language_info": {
   "codemirror_mode": {
    "name": "ipython",
    "version": 3
   },
   "file_extension": ".py",
   "mimetype": "text/x-python",
   "name": "python",
   "nbconvert_exporter": "python",
   "pygments_lexer": "ipython3",
   "version": "3.9.6"
  },
  "mimetype": "text/x-python",
  "name": "python",
  "npconvert_exporter": "python",
  "pygments_lexer": "ipython3",
  "version": 3
 },
 "nbformat": 4,
 "nbformat_minor": 2
}
