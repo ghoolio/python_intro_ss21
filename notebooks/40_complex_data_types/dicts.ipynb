{
 "cells": [
  {
   "source": [
    "# Dictionaries\n",
    "\n",
    "## Voraussetzungen\n",
    "Diese Einheit setzt voraus, dass Sie folgende Inhalte kennen: [Variablen](../20_variables_and_datatypes/10_variables.ipynb), [Ein- und Ausgabe](../20_variables_and_datatypes/20_in_and_output.ipynb), [primitive Datentypen](../20_variables_and_datatypes/30_datatypes.ipynb), [bedingte Anweisungen](../30_conditionals/30_conditionals.ipynb) und [Listen](./lists.ipynb).\n",
    "## Motivation\n",
    "Ein Nachteil der Darstellung von strukturierten Daten als Listen oder Tupel ist, dass man den Index der Elemente kennen muss. In folgendem Beispiel werden die Daten von Studierenden als Liste dargestellt. Um auf die Vornamen der Studierenden zugreifen zu können, muss man wissen, dass der Vorname unter dem Index 0 gespeichert ist. \n",
    "\n",
    "Dies ist insbesondere dann ein Problem, wenn sich die Datenstruktur irgendwann ändert und zusätzliche Daten hinzukommen."
   ],
   "cell_type": "markdown",
   "metadata": {}
  },
  {
   "cell_type": "code",
   "execution_count": 1,
   "metadata": {},
   "outputs": [
    {
     "name": "stdout",
     "output_type": "stream",
     "text": [
      "Vornamen:  Max , Lisa , Markus\n"
     ]
    }
   ],
   "source": [
    "Stundenten = [[\"Max\", \"Meier\", 12345678, \"mm@web.de\"],[\"Lisa\", \"Müller\", 87654321, \"ml@web.de\"], [\"Markus\", \"Peter\", 11223344, \"mp@google.de\"]]\n",
    "\n",
    "print(\"Vornamen: \", Stundenten[0][0], \",\", Stundenten[1][0], \",\", Stundenten[2][0])"
   ]
  },
  {
   "cell_type": "markdown",
   "metadata": {},
   "source": [
    "## Dictionaries\n",
    "Besser wäre es, wenn die Elemente einen Namen hätten. Genau diese Eigenschaft stellen [`Dictionarie`](https://docs.python.org/3/library/stdtypes.html#mapping-types-dict)s zur Verfügung. Ein `Dictionary` enthält, genau wie ein Wörterbuch, Paare von Schlüsseln (engl. Key) und zugehörigen Werten (engl. Values). `Dictionaries` werden durch folgende Syntax erstellt: `{<key> : <value> }`."
   ]
  },
  {
   "cell_type": "code",
   "execution_count": 2,
   "metadata": {},
   "outputs": [
    {
     "name": "stdout",
     "output_type": "stream",
     "text": [
      "{'Vorname': 'Max', 'Nachname': 'Meier', 'Matrikelnummer': 12345678, 'Email': 'mm@web.de'}\n"
     ]
    }
   ],
   "source": [
    "s = {\"Vorname\" : \"Max\", \"Nachname\" : \"Meier\", \"Matrikelnummer\" : 12345678, \"Email\" : \"mm@web.de\"}\n",
    "print(s)"
   ]
  },
  {
   "source": [
    "Der Zugriff aud die Werte eines `Dictionaries` erfolgt unter Verwendung der eckigen Klammern (`[]`). Allerdings wird innerhalb der eckigen Klammern kein Index sondern einer der `key`s verwendet."
   ],
   "cell_type": "markdown",
   "metadata": {}
  },
  {
   "cell_type": "code",
   "execution_count": 3,
   "metadata": {},
   "outputs": [
    {
     "name": "stdout",
     "output_type": "stream",
     "text": [
      "Max\n",
      "mm@web.de\n"
     ]
    }
   ],
   "source": [
    "vorname = s[\"Vorname\"]\n",
    "print(vorname)\n",
    "\n",
    "print(s[\"Email\"])"
   ]
  },
  {
   "source": [
    "## Dictionaries können verändert werden\n",
    "`Dictionaries` können auf verschiedene Arten verändert werden:\n",
    "- Einzelne Werte können geändert werden\n",
    "- Schlüssel-Wert-Paare können eingefügt werden"
   ],
   "cell_type": "markdown",
   "metadata": {}
  },
  {
   "cell_type": "code",
   "execution_count": null,
   "metadata": {},
   "outputs": [],
   "source": [
    "s = {\"Vorname\" : \"Max\", \"Nachname\" : \"Meier\", \"Matrikelnummer\" : 12345678, \"Email\" : \"mm@web.de\"}\n",
    "s[\"Email\"] = \"mm1234s@alumni.fh-aachen.de\"\n",
    "print(s)\n",
    "\n",
    "s[\"Noten\"] = [1.0, 2.3, 4.0]\n",
    "print(s)\n"
   ]
  },
  {
   "cell_type": "markdown",
   "metadata": {},
   "source": [
    "## Fehlerfreier Zugriff auf Dictionaries\n",
    "Was passiert, falls mit einem `key`, der nicht existiert, auf ein `Dictionary` zugegriffen wird?"
   ]
  },
  {
   "cell_type": "code",
   "execution_count": null,
   "metadata": {},
   "outputs": [],
   "source": [
    "en_de = { \"red\" : \"rot\", \"blue\" : \"blau\", \"green\" : \"grün\", \"pink\" : \"rosa\"}\n",
    "print(en_de[\"yellow\"])"
   ]
  },
  {
   "cell_type": "markdown",
   "metadata": {},
   "source": [
    "Mit dem Schlüsselwort `in` kann geprüft werden, ob ein Schlüssel in einem `Dictionary` vorkommt."
   ]
  },
  {
   "cell_type": "code",
   "execution_count": null,
   "metadata": {},
   "outputs": [],
   "source": [
    "en_de = { \"red\" : \"rot\", \"blue\" : \"blau\", \"green\" : \"grün\", \"pink\" : \"rosa\"}\n",
    "english_word = \"yellow\"\n",
    "\n",
    "if english_word in en_de:\n",
    "     print(\"Die Übersetzung von\", english_word, \"ist\", en_de[english_word])\n",
    "else:\n",
    "     print(\"Die Übersetzung von\", english_word, \"ist leider nicht bekannt\")"
   ]
  },
  {
   "cell_type": "markdown",
   "metadata": {},
   "source": [
    "## Methoden für Dictionaries\n",
    "Auch für [`Dictionaries`](https://docs.python.org/3/library/stdtypes.html#mapping-types-dict) sind in der Python-Standardbibliothek viele nützliche Methoden definiert. Einige dieser Methoden werden in folgendem kurz vorgestellt.\n",
    "\n",
    "Mit `clear()`werden alle Einträge eines `Dictionaries` gelöscht."
   ]
  },
  {
   "cell_type": "code",
   "execution_count": null,
   "metadata": {},
   "outputs": [],
   "source": [
    "en_de = { \"red\" : \"rot\", \"blue\" : \"blau\", \"green\" : \"grün\", \"pink\" : \"rosa\"}\n",
    "en_de.clear()\n",
    "print(en_de)"
   ]
  },
  {
   "cell_type": "markdown",
   "metadata": {},
   "source": [
    "Die Methode `keys()` liefert alle Schlüsselwerte des `Dictionaries`, die Methode `items()` alle Werte.\n"
   ]
  },
  {
   "cell_type": "code",
   "execution_count": null,
   "metadata": {},
   "outputs": [],
   "source": [
    "en_de = { \"red\" : \"rot\", \"blue\" : \"blau\", \"green\" : \"grün\", \"pink\" : \"rosa\"}\n",
    "k = en_de.keys()\n",
    "print(k)\n",
    "\n",
    "print(en_de.values())"
   ]
  },
  {
   "cell_type": "markdown",
   "metadata": {},
   "source": [
    "Mit der Methode `pop(key)` kann ein Schlüssel-Werte-Paar aus dem `Dictionary` entfernt werden. Die Methode liefert den Wert des übergebenen Schlüssel als Rückgabewert."
   ]
  },
  {
   "cell_type": "code",
   "execution_count": null,
   "metadata": {},
   "outputs": [],
   "source": [
    "en_de = { \"red\" : \"rot\", \"blue\" : \"blau\", \"green\" : \"grün\", \"pink\" : \"rosa\"}\n",
    "übersetzung = en_de.pop(\"blue\")\n",
    "print(übersetzung)\n",
    "print(en_de)"
   ]
  },
  {
   "source": [
    "Die Methode `popitem()` liefert ein beliebiges Schlüssel-Werte-Paar aus dem `Dictionary` als Rückgabewert. Das  Schlüssel-Werte-Paar wird aus dem `Dictionary` entfernt. "
   ],
   "cell_type": "markdown",
   "metadata": {}
  },
  {
   "cell_type": "code",
   "execution_count": null,
   "metadata": {},
   "outputs": [],
   "source": [
    "en_de = { \"red\" : \"rot\", \"blue\" : \"blau\", \"green\" : \"grün\", \"pink\" : \"rosa\"}\n",
    "übersetzung = en_de.popitem()\n",
    "print(übersetzung)\n",
    "print(en_de)"
   ]
  },
  {
   "source": [
    "## Aufgabe - Piratensprache\n",
    "Gegeben ist die untenstehende Übersetzungstabelle von englischen Begriffen in die Piratensprache. Schreibe Sie ein Programm, das vom Benutzer als Eingabe einen Satz in englischer Sprache erwartet. Die Ausgabe soll die Übersetzung des Satz in die Piratensprache sein.\n",
    "\n",
    "| Englisch | Piratensprache |\n",
    "|----------|----------------|\n",
    "|sir|matey|\n",
    "|hotel|fleabag inn|\n",
    "|student|swabbie|\n",
    "|boy|matey|\n",
    "|madam|proud beauty|\n",
    "|professor|foul blaggart|\n",
    "|restaurant|galley|\n",
    "|your|yer|\n",
    "|excuse|arr|\n",
    "|students|swabbies|\n",
    "|are|be|\n",
    "|lawyer|foul blaggart|\n",
    "|the|th’|\n",
    "|restroom|head|\n",
    "|my|me|\n",
    "|hello|avast|\n",
    "|is|be|\n",
    "|man|matey|"
   ],
   "cell_type": "markdown",
   "metadata": {}
  }
 ],
 "metadata": {
  "file_extension": ".py",
  "kernelspec": {
   "display_name": "Python 3",
   "language": "python",
   "name": "python3"
  },
  "language_info": {
   "codemirror_mode": {
    "name": "ipython",
    "version": 3
   },
   "file_extension": ".py",
   "mimetype": "text/x-python",
   "name": "python",
   "nbconvert_exporter": "python",
   "pygments_lexer": "ipython3",
   "version": "3.7.6"
  },
  "mimetype": "text/x-python",
  "name": "python",
  "npconvert_exporter": "python",
  "pygments_lexer": "ipython3",
  "version": 3
 },
 "nbformat": 4,
 "nbformat_minor": 2
}