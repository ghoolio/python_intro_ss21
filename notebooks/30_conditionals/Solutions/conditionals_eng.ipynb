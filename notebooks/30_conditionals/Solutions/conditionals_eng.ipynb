{
 "cells": [
  {
   "cell_type": "markdown",
   "metadata": {},
   "source": [
    "# Conditional Statements\n",
    "## Prerequisites\n",
    "This unit assumes that you know the following:\n",
    " [Variables](../20_variables_and_datatypes/10_variables_eng.ipynb),\n",
    " [In- and Output](../20_variables_and_datatypes/20_in_and_output_eng.ipynb),\n",
    " [Primitive Datatypes](../20_variables_and_datatypes/30_datatypes_eng.ipynb)."
   ]
  },
  {
   "cell_type": "markdown",
   "metadata": {},
   "source": [
    "## Motivation\n",
    "All of your previous programs included sequences of instructions. After running the program, \n",
    "those instructions were processed step by step, and the Program later terminated.\n",
    " However, it is often necessary that only parts of a program are executed under certain conditions.\n",
    "For example, the following sentence should be expressed as a\n",
    " [pseudo code] (https://de.wikipedia.org/wiki/Pseudocode) program.\n",
    " \n",
    "> If it rains tomorrow, I'll clear out the basement. Then I'll clean up the cupboards and the photos\n",
    "> Otherwise I will go swimming. In the evening I go to the cinema with my wife.\n",
    "\n",
    "Due to the textual description, it is not exactly clear what should be done. Natural language is generally imprecise.\n",
    " In our example, the following is probably intended:\n",
    "'''\n",
    "If it rains tomorrow, I will:\n",
    "   clear out the cellar.\n",
    "   clean up the closets\n",
    "   sort the photos.\n",
    "Otherwise (so if it doesn't rain) I will:\n",
    "   to go swimming.\n",
    "\n",
    "In the evening I go to the cinema with my wife.\n",
    "'''\n",
    "Whether the condition is true or false, one path or the other of the program will be executed.\n",
    " This is illustrated in the graphic below.\n",
    "![conditionals_2.png](./img/conditionals2_eng.png)"
   ]
  },
  {
   "cell_type": "markdown",
   "metadata": {},
   "source": [
    " ## Comparison Operators\n",
    "Conditional statements need a method to formulate conditions. For this, the comparison operators can be used.\n",
    "With the comparison operators, shown in the following table, statements can be formulated. The result of which is\n",
    "of the data type `Boolean`. As already explained, the Data type `Boolean` takes only one of the two values` True`\n",
    "and `False`.\n",
    "\n",
    " | Operator | Explenation                    | Example True        | Example False       |\n",
    " |----------|------------------------------|----------------------|----------------------|\n",
    " | ==       | equality check               | 2 == 2               | 2 == 3               |\n",
    " | !=       | inequality check             | 2 != 3               | 2 != 2               |\n",
    " | <        | check on    \"smaller\"        | 2 < 3                | 3 < 2                |\n",
    " | >        | check on    \"bigger\"         | 3 > 2                | 2 > 3                |\n",
    " | <=       | check on \"Less than or equal\"| 3 <= 3               | 3 <= 2               |\n",
    " | >=       | check on \"Greater or equal\"  | 2 >= 2               | 2 >= 3               |\n",
    "\n",
    "\n",
    "### exercise\n",
    "Familiarize yourself with the comparison operators.\n",
    "Also test more complex comparisons, such as:\n",
    " ```python\n",
    " \"abc\" < \"abd\"\n",
    " \"abcd\" > \"abc\"\n",
    " 2 == 2.0\n",
    " 1 == True\n",
    " 0 != True\n",
    " ```"
   ]
  },
  {
   "cell_type": "code",
   "execution_count": null,
   "metadata": {},
   "outputs": [],
   "source": [
    "1 == True"
   ]
  },
  {
   "cell_type": "markdown",
   "metadata": {},
   "source": [
    "## Conditional Instructions\n",
    " The syntax for conditional statements in Python is:\n",
    " ```python\n",
    " if condition:\n",
    "    instruction_1\n",
    "\n",
    "    instruciton_n\n",
    " else:\n",
    "    instruction_1\n",
    "\n",
    "    instruction_m\n",
    " ```\n",
    "The condition can be either true (`True`) or false (` False`). \n",
    "In the first case, the instructions are executed immediately after the condition.\n",
    "In the second case the statements after `else` are executed. The `else` \n",
    "<span style=\"text-decoration: underline\">branch</span> is optional."
   ]
  },
  {
   "cell_type": "code",
   "execution_count": null,
   "metadata": {},
   "outputs": [],
   "source": [
    "number = int(input(\"Please enter a number: \"))\n",
    "if number > 100:\n",
    "    print(number, \"is bigger than 100\")\n"
   ]
  },
  {
   "cell_type": "code",
   "execution_count": null,
   "metadata": {},
   "outputs": [],
   "source": [
    "number = int(input(\"Please enter a number: \"))\n",
    "if number > 100:\n",
    "    print(number, \"is bigger than 100\")\n",
    "else: \n",
    "    print(number, \"is smaller or equal than 100!\")"
   ]
  },
  {
   "cell_type": "markdown",
   "metadata": {},
   "source": [
    "### Indentation marks the boundaries of code blocks\n",
    "As you can see in the previous examples, no special language elements are used in Python for marking code blocks. \n",
    "(Other programming languages use parentheses or keywords such as \"begin\" and \"end\" )\n",
    "\n",
    "Instructions that belong together are called code blocks. Here e.g. the statements in the `if` or `else` branch of\n",
    " the conditional statement.\n",
    "\n",
    "Instead, indentation is used in Python to group instructions into blocks of code. Usually, spaces are used for \n",
    "indentation.\n",
    "\n",
    "So indenting has a meaning! Therefore, you must not arbitrarily indent in a program. Run the code in the following two\n",
    " cells. think about what happens first."
   ]
  },
  {
   "cell_type": "code",
   "execution_count": null,
   "metadata": {},
   "outputs": [],
   "source": [
    "a = 3\n",
    "    b = 4\n",
    "print(a + b)"
   ]
  },
  {
   "cell_type": "code",
   "execution_count": null,
   "metadata": {},
   "outputs": [],
   "source": [
    "number = 100\n",
    "if number > 0:\n",
    "print(\"number is bigger than 0\")"
   ]
  },
  {
   "cell_type": "markdown",
   "metadata": {},
   "source": [
    "In the code below, look at the last statement `print(\"Done\")`. This is not indented.\n",
    "What does this mean for the program? Change the program and indent the last statement (exactly under the other print).\n",
    "How is the program now changing?"
   ]
  },
  {
   "cell_type": "code",
   "execution_count": null,
   "metadata": {},
   "outputs": [],
   "source": [
    "number = int(input(\"Please enter a number: \"))\n",
    "if number > 100:\n",
    "    print(number, \" is greater than 100\")\n",
    "else: \n",
    "    print(number, \" is less than or equal 100\")\n",
    "print(\"Done\")"
   ]
  },
  {
   "cell_type": "markdown",
   "metadata": {},
   "source": [
    "### Multiple Conditions\n",
    "It is also possible to check several conditions in sequence. The syntax for this is:\n",
    " ```python\n",
    " if condition_A:\n",
    "     instruction_1\n",
    " elif condition_B:\n",
    "     instruction_2\n",
    " elif condition_C:\n",
    "     instruction_3\n",
    " else:\n",
    "     instruction_4\n",
    " instruction_5\n",
    " ```\n",
    "In this case, the conditions are checked in turn. At the first true condition, the associated code block\n",
    " (the indented instructions) is executed.\n",
    "The code block after the `else` is only executed if no condition was true.\n",
    "If a code block has been executed, no further conditions are checked. The chronological order of conditions can,\n",
    " therefore, be crucial. This is illustrated in the examples below."
   ]
  },
  {
   "cell_type": "code",
   "execution_count": null,
   "metadata": {},
   "outputs": [],
   "source": [
    "temperature = int(input(\"How many degrees Celsius is it?\"))\n",
    "\n",
    "if temperature > 30:\n",
    "    print(\"hot\")\n",
    "elif temperature > 20:\n",
    "    print(\"warm\")\n",
    "else:\n",
    "    print(\"cold\")\n",
    "\n"
   ]
  },
  {
   "cell_type": "code",
   "execution_count": null,
   "metadata": {},
   "outputs": [],
   "source": [
    "temperature = int(input(\"How many degrees Celsius is it?\"))\n",
    "\n",
    "if temperature > 20:\n",
    "    print(\"warm\")\n",
    "elif temperature > 30:\n",
    "    print(\"hot\")\n",
    "else:\n",
    "    print(\"cold\")\n"
   ]
  },
  {
   "cell_type": "markdown",
   "metadata": {},
   "source": [
    "## Complex conditions\n",
    "As shown in the introduction to primitive data types, the operators `and`, `or` and `not` can be used to create\n",
    " complex expressions. \n",
    "So these operators can be used to formulate complex conditions that consist of different comparisons. \n",
    "Brackets can be used for grouping here too."
   ]
  },
  {
   "cell_type": "code",
   "execution_count": null,
   "metadata": {},
   "outputs": [],
   "source": [
    "number = int(input(\"Please enter a number: \"))\n",
    "if (number % 3 == 0) and (number % 5 == 0) and not(number % 2 == 0):\n",
    "    print(number, \"is divisible by 3 and 5.\")"
   ]
  },
  {
   "cell_type": "markdown",
   "metadata": {},
   "source": [
    "## nesting\n",
    "Conditional statements can be nested. That means an `if` statement can itself be or contain several `if` statements.\n",
    "This is sometimes required to validate multiple conditions in a row."
   ]
  },
  {
   "cell_type": "code",
   "execution_count": null,
   "metadata": {},
   "outputs": [],
   "source": [
    "temperature = int(input(\"How many degrees Celsius is it?\"))\n",
    "raining = True\n",
    "windy = False\n",
    "\n",
    "if temperature > 20:\n",
    "    print(\"It is warm\")\n",
    "    if raining:\n",
    "        print(\"Summer in Aachen, warm rain\")\n",
    "        if windy:\n",
    "            print(\"It is warm, it is raining and the wind is blowing!\")\n",
    "        else:\n",
    "            print(\"Warm, rainy, windless\")\n",
    "    else:\n",
    "        print(\"Warm and dry, nice!\")\n",
    "        if windy:\n",
    "            print(\"Warm, dry and windy: Good sailing weather\")\n",
    "        else:\n",
    "            print(\"Warm, dry and windless: Just lying in the sun\")\n",
    "else:\n",
    "    print(\"When it is cold, I don't care about rain or wind\")"
   ]
  },
  {
   "cell_type": "markdown",
   "metadata": {},
   "source": [
    "## exercise\n",
    "Examine the previous example and consider why the conditions were nested.\n",
    "Would it be possible to rewrite the program so that no nesting is necessary?"
   ]
  },
  {
   "cell_type": "markdown",
   "metadata": {},
   "source": [
    "## exercise\n",
    "Write a program that simulates entry at an ATM. Here are the steps\n",
    " to carry out:\n",
    " - First, ask for the PIN\n",
    " - Compare the input with a constant of your choice.\n",
    " - The following steps are only carried out if the correct PIN has been entered:\n",
    "     - Ask how much money should be withdrawn.\n",
    "     - Compare the amount with a fixed account balance.\n",
    "     - If the account is covered, issue a corresponding expenditure (\"money is spent\") and the new account balance.\n",
    "     - If the account is not funded, print out a corresponding error message.\n",
    " - If the PIN was entered incorrectly, an error message is printed out.\n"
   ]
  },
  {
   "cell_type": "code",
   "execution_count": null,
   "metadata": {},
   "outputs": [],
   "source": [
    "PIN = 1234\n",
    "balance = 500.20\n",
    "\n",
    "candidate = int(input(\"Bitte geben Sie Ihre PIN ein: \"))\n",
    "if PIN == candidate:\n",
    "    print(\"PIN is correct\")\n",
    "    betrag = float(input(\"How much money should be withdrawn? \"))\n",
    "    if betrag <= balance:\n",
    "        print(\"Money is being given!\")\n",
    "        balance = balance - betrag\n",
    "        print(\"New account balance is \", balance, \"€\")\n",
    "    else:\n",
    "        print(\"There is not that much money in the account\")\n",
    "else:\n",
    "    print(\"Wrong PIN entered.\")\n"
   ]
  },
  {
   "cell_type": "markdown",
   "metadata": {},
   "source": [
    "## Checking entries\n",
    "With the help of `input()` you can read inputs from the user. The data type of the input is always `String`.\n",
    "By using the functions int(), bool(), etc. you can convert the data type.\n",
    "What happens if the entered value cannot be converted into a number (e.g. when entering 'twenty')?"
   ]
  },
  {
   "cell_type": "code",
   "execution_count": null,
   "metadata": {},
   "outputs": [],
   "source": [
    "number = int(input(\"Please enter a number:\"))\n"
   ]
  },
  {
   "cell_type": "markdown",
   "metadata": {},
   "source": [
    "To prevent the error message and the program from being aborted it must be checked whether the entry\n",
    "can be converted to a specific data type.\n",
    "There are several [String Methods] (https://docs.python.org/3/library/stdtypes.html#string-methods) available in Python:\n",
    "\n",
    "- isdecimal ()\n",
    "- isalpha ()\n",
    "- isspace ()\n",
    "\n",
    "All of these `.issomething ()` methods return a boolean value (True or False).\n",
    "They can be used to check whether a string can be converted."
   ]
  },
  {
   "cell_type": "code",
   "execution_count": null,
   "metadata": {},
   "outputs": [],
   "source": [
    "number = int(input(\"Please enter a number:\"))\n",
    "\n",
    "if number.isdigit():\n",
    "    number = int(number)\n",
    "    print(\"Very nice,\", number, \"is my favorit number\")\n",
    "else:\n",
    "    print(\"Sorry, that wasn't a number\")\n"
   ]
  },
  {
   "cell_type": "markdown",
   "metadata": {},
   "source": [
    "## task\n",
    "A calendar year is known to have <span style=\"text-decoration: underline\">365 or 366</span> days. According to\n",
    "the Gregorian calendar year, a year lasts exactly\n",
    "365.2425 days, i.e. 365 days, 5 hours, 49 minutes, 12 seconds, or in other words: 31,556,952 seconds.\n",
    " \n",
    "You can see that a year is roughly a quarter day longer than 365 days.\n",
    "To correct this difference, <span style=\"text-decoration: underline\">leap days</span> have been added.\n",
    " \n",
    "A leap day is inserted every four years on February 29.\n",
    "However, we are making a new small \"error\" because we now we are having one-hundredth day ahead of time.\n",
    "For this reason, there is no leap day every hundred years - if the year is divisible by a hundred. \n",
    "\n",
    "For example, the year 1900 was not a leap year, although it was divisible by four.\n",
    "However, you still need another adjustment every 400 years. A leap day is inserted, although the year can be divided\n",
    "by a hundred. According to this rule, the year 2000 was a leap year.\n",
    "Now write a Python program that calculates whether a given year is a leap year or not."
   ]
  },
  {
   "cell_type": "code",
   "execution_count": null,
   "metadata": {},
   "outputs": [],
   "source": []
  }
 ],
 "metadata": {
  "file_extension": ".py",
  "kernelspec": {
   "display_name": "Python 3",
   "language": "python",
   "name": "python3"
  },
  "language_info": {
   "codemirror_mode": {
    "name": "ipython",
    "version": 3
   },
   "file_extension": ".py",
   "mimetype": "text/x-python",
   "name": "python",
   "nbconvert_exporter": "python",
   "pygments_lexer": "ipython3",
   "version": "3.7.6"
  },
  "mimetype": "text/x-python",
  "name": "python",
  "npconvert_exporter": "python",
  "pygments_lexer": "ipython3",
  "version": 3,
  "pycharm": {
   "stem_cell": {
    "cell_type": "raw",
    "source": [],
    "metadata": {
     "collapsed": false
    }
   }
  }
 },
 "nbformat": 4,
 "nbformat_minor": 2
}