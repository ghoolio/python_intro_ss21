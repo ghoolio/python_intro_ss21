{
 "cells": [
  {
   "cell_type": "markdown",
   "metadata": {
    "nbgrader": {
     "grade": false,
     "grade_id": "cell-1a4b43324610e208",
     "locked": true,
     "schema_version": 1,
     "solution": false
    }
   },
   "source": [
    "# Try Except\n",
    "## Fehler abfangen\n",
    "Python-Programme laufen fast nie ganz fehlerfrei. Oft geben Sie eine Fehlermeldung aus, wobei das Programm vollständig gestoppt wird.  \n",
    "Damit das nicht mehr passiert, können Sie in Python verschiedene Fehlertypen abfangen und versuchen mit diesen umzugehen, so dass das Programm nicht gestoppt werden muss.  \n",
    "\n",
    "### Beispiele\n",
    "Das untenstehende Programm fordert eine Zahl als Eingabe. Diese Eingabe wird zu einem integer-Wert konvertiert und in der zweiten Zeile einfach ausgegeben.  \n",
    "Falls der Nutzer jedoch die Anweisung (\"Bitte Zahl eingeben\") ignoriert und beispielsweise einen Buchstaben eingibt, so wird das Programm sofort beendet und eine Fehlermeldung ausgegeben. Probieren Sie es einmal aus."
   ]
  },
  {
   "cell_type": "code",
   "execution_count": null,
   "metadata": {},
   "outputs": [],
   "source": [
    "number = int(input(\"Bitte Zahl eingeben \"))\n",
    "print(number)"
   ]
  },
  {
   "source": [
    "Mittels `Try` und `Except` können Sie diese Fehler abfangen, damit nicht das ganze Programm gestoppt werden muss. Stattdessen können sie dem Nutzer beispielsweise erklären wo das Problem liegt, um dieses zu vermeiden.  \n",
    "Im untenstehenden Programm sehen Sie den gleichen Code von oben noch einmal, jedoch dieses mal innerhalb des `try:`-Blocks. Das bedeutet für das Programm, dass es diese zwei Zeilen zuerst einmal ausprobieren kann. Falls dabei ein Fehler auftritt, wird der Code nicht ausgeführt, sondern das Programm begibt sich in die `except`-Anweisung und führt diese aus. "
   ],
   "cell_type": "markdown",
   "metadata": {
    "nbgrader": {
     "grade": false,
     "grade_id": "cell-f45d48711bc7bc7d",
     "locked": true,
     "schema_version": 1,
     "solution": false
    }
   }
  },
  {
   "cell_type": "code",
   "execution_count": null,
   "metadata": {},
   "outputs": [],
   "source": [
    "try:\n",
    "    number = int(input(\"Bitte Zahl eingeben \"))\n",
    "    print(number)\n",
    "    \n",
    "except:\n",
    "    print(\"Hier ist etwas nicht richtig\")"
   ]
  },
  {
   "source": [
    "### Verschiedene Arten von Fehlern erkennen\n",
    "Um auf jeden Fehlertypen richtig reagieren zu können, muss das `Except`-Statement so angepasst werden, dass es verschiedene Fehler erkennt. Dazu können Sie den Fehlertypen, den Sie herausfiltern möchten einfach hinter das `Except` schreiben (im untenstehenden Programm zu erkennen).  \n",
    "Dieses Programm kann nun zwischen mehreren Fehlern unterscheiden:  \n",
    "Sollten Sie wie gehabt einen Buchstaben anstatt einer Zahl eingeben, so ist dies ein `ValueError` (mehr dazu später).  \n",
    "Sollten Sie nun allerdings eine 0 eingeben, so ist dies im folgenden Programm ein anderes Problem. 0 ist zwar auch eine Zahl, allerdings keine Zahl die man als Divisor nutzen kann, um eine andere Zahl zu teilen. Dementsprechend wird dieser Error als `ZeroDivisionError` abgefangen und beide werden anders gehandhabt.  \n",
    "So wird hier jeweils eine andere Nachricht ausgegeben:"
   ],
   "cell_type": "markdown",
   "metadata": {
    "nbgrader": {
     "grade": false,
     "grade_id": "cell-73d48b3b28922d97",
     "locked": true,
     "schema_version": 1,
     "solution": false
    }
   }
  },
  {
   "cell_type": "code",
   "execution_count": null,
   "metadata": {},
   "outputs": [],
   "source": [
    "try:\n",
    "    number = int(input(\"Bitte Zahl eingeben \"))\n",
    "    division = 100/number\n",
    "    print(number)\n",
    "    \n",
    "except ValueError:\n",
    "    print(\"Es wurde keine Zahl eingegeben\")\n",
    "except ZeroDivisionError:\n",
    "    print(\"Es kann nicht durch 0 geteilt werden\")"
   ]
  },
  {
   "cell_type": "markdown",
   "metadata": {
    "nbgrader": {
     "grade": false,
     "grade_id": "cell-7e759d3fdae009d1",
     "locked": true,
     "schema_version": 1,
     "solution": false
    }
   },
   "source": [
    "### Genaue Fehlermeldung nutzen\n",
    "Manchmal ist es sehr nützlich die genaue Fehlermeldung eines Programmes sehen zu können. Bei den obigen Programmen sind diese jedoch nichtmehr einsehbar, da sie vom `Except`-Statement abgefangen werden.  \n",
    "Sie können sich die Fehlermeldung jedoch auch in eine Variable speichern und ausgeben lassen ohne das Programm zum Stopp zu bringen.  \n",
    "Dazu schreiben Sie \"as *Variablenname*\" hinter den bestimmten Error.  \n",
    "In folgendem Programm wird der `ValueError` als \"nachricht\" gespeichert und innerhalb des `Except`-Blocks ausgegeben."
   ]
  },
  {
   "cell_type": "code",
   "execution_count": null,
   "metadata": {},
   "outputs": [],
   "source": [
    "try:\n",
    "    number = int(input(\"Bitte Zahl eingeben \"))\n",
    "    print(number)\n",
    "    \n",
    "except ValueError as nachricht:\n",
    "    print(\"Es wurde keine Zahl eingegeben\")\n",
    "    print(nachricht)"
   ]
  },
  {
   "cell_type": "markdown",
   "metadata": {
    "nbgrader": {
     "grade": false,
     "grade_id": "cell-9e9904291444c42a",
     "locked": true,
     "schema_version": 1,
     "solution": false
    }
   },
   "source": [
    "### Finally\n",
    "Der `Finally`-Block wird (wenn man ihn verwendet) unabhängig davon ausgeführt, ob ein Fehler mittels `Except` abgefangen wurde oder nicht:"
   ]
  },
  {
   "cell_type": "code",
   "execution_count": null,
   "metadata": {},
   "outputs": [],
   "source": [
    "try:\n",
    "    number = int(input(\"Bitte Zahl eingeben \"))\n",
    "    division = 100/number\n",
    "    print(number)\n",
    "    \n",
    "except ValueError:\n",
    "    print(\"Es wurde keine Zahl eingegeben\")\n",
    "except ZeroDivisionError:\n",
    "    print(\"Es kann nicht durch 0 geteilt werden\")\n",
    "finally:\n",
    "    print(\"Try-Except wurde ausgeführt\")"
   ]
  },
  {
   "cell_type": "markdown",
   "metadata": {
    "nbgrader": {
     "grade": false,
     "grade_id": "cell-68b72964a2ca5aaf",
     "locked": true,
     "schema_version": 1,
     "solution": false
    }
   },
   "source": [
    "## Fehlertypen in Python\n",
    "Folgende sind die wichtigsten Fehlertypen in Python. Diese können Sie mittels Try-Except abfangen.\n",
    "\n",
    " | Error               | Grund                                                                                 |\n",
    " |:--------------------|:--------------------------------------------------------------------------------------|\n",
    " | ValueError          | Ein Funktionsparameter ist vom falschen Datentypen                                    |\n",
    " | NameError           | Eine Variable kann nicht gefunden werden                                              |\n",
    " | ZeroDivisionError   | Es wird versucht durch 0 zu teilen                                                    |\n",
    " | TypeError           | Eine Operation oder Funktion wird angewendet auf ein Objekt mit unpassendem Datentypen|            \n",
    " | IndexError          | Es wird versucht auf eine nicht vorhandene Position zuzugreifen                       |\n",
    " \n",
    " Falls Sie weitere Fehlertypen kennenlernen wollen:\n",
    " https://www.tutorialsteacher.com/python/error-types-in-python"
   ]
  }
 ],
 "metadata": {
  "celltoolbar": "Create Assignment",
  "file_extension": ".py",
  "kernelspec": {
   "display_name": "Python 3",
   "language": "python",
   "name": "python3"
  },
  "language_info": {
   "codemirror_mode": {
    "name": "ipython",
    "version": 3
   },
   "file_extension": ".py",
   "mimetype": "text/x-python",
   "name": "python",
   "nbconvert_exporter": "python",
   "pygments_lexer": "ipython3",
   "version": "3.7.2"
  },
  "mimetype": "text/x-python",
  "name": "python",
  "npconvert_exporter": "python",
  "pygments_lexer": "ipython3",
  "version": 3
 },
 "nbformat": 4,
 "nbformat_minor": 2
}