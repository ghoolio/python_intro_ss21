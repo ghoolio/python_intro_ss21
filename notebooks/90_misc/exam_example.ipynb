{
 "nbformat": 4,
 "nbformat_minor": 2,
 "metadata": {
  "language_info": {
   "name": "python",
   "codemirror_mode": {
    "name": "ipython",
    "version": 3
   },
   "version": "3.7.3-final"
  },
  "orig_nbformat": 2,
  "file_extension": ".py",
  "mimetype": "text/x-python",
  "name": "python",
  "npconvert_exporter": "python",
  "pygments_lexer": "ipython3",
  "version": 3,
  "kernelspec": {
   "name": "python3",
   "display_name": "Python 3"
  }
 },
 "cells": [
  {
   "cell_type": "markdown",
   "metadata": {},
   "source": [
    "# Beispiele für mögliche Klausuraufgaben"
   ]
  },
  {
   "cell_type": "markdown",
   "metadata": {},
   "source": [
    "## Aufgabe 1\n",
    "Was ist die Ausgabe folgender Python-Anweisungen? Betrachten Sie die Abfolge von Anweisungen als ein Programm. Verwenden Sie die vorgegebene Tabelle für Ihre Antworten und begründen Sie diese. Bitte beachten Sie, dass auch eine Fehlermeldung eine mögliche Ausgabe sein kann."
   ]
  },
  {
   "cell_type": "code",
   "execution_count": null,
   "metadata": {},
   "outputs": [],
   "source": [
    "a = 3.14 \n",
    "b = 7\n",
    "c = 9.99\n",
    "s = \"Test\""
   ]
  },
  {
   "cell_type": "code",
   "execution_count": null,
   "metadata": {},
   "outputs": [],
   "source": [
    "print(a + b)"
   ]
  },
  {
   "cell_type": "code",
   "execution_count": null,
   "metadata": {},
   "outputs": [],
   "source": [
    "print(b + a)"
   ]
  },
  {
   "cell_type": "code",
   "execution_count": null,
   "metadata": {},
   "outputs": [],
   "source": [
    "print(int(a + c))"
   ]
  },
  {
   "cell_type": "code",
   "execution_count": null,
   "metadata": {},
   "outputs": [],
   "source": [
    "print(int(a) + int(c))"
   ]
  },
  {
   "cell_type": "code",
   "execution_count": null,
   "metadata": {},
   "outputs": [],
   "source": [
    "print(int(s))"
   ]
  },
  {
   "cell_type": "code",
   "execution_count": null,
   "metadata": {},
   "outputs": [],
   "source": [
    "print(10.0 / 5)"
   ]
  },
  {
   "cell_type": "code",
   "execution_count": null,
   "metadata": {},
   "outputs": [],
   "source": [
    "print(22 // b)"
   ]
  },
  {
   "cell_type": "markdown",
   "metadata": {},
   "source": [
    "## Aufgabe 2\n",
    "Füllen Sie in folgenden Python-Ausschnitten die fehlenden Anweisungen ein, um die Anforderungen zu erfüllen."
   ]
  },
  {
   "source": [
    "- die Funktion `alterspreufung` soll `True` liefern, falls das übergebene `alter` größer oder gleich 21 ist. Ansonsten soll `False` als Ergebnis geliefert werden. "
   ],
   "cell_type": "markdown",
   "metadata": {}
  },
  {
   "cell_type": "code",
   "execution_count": null,
   "metadata": {},
   "outputs": [],
   "source": [
    "def alterspruefung(alter):\n",
    "    alter_ok = false\n",
    "    # Fügen Sie hier die notwendigen Anweisungen ein\n",
    "        \n",
    "    return alter_ok"
   ]
  },
  {
   "source": [
    "- die Funktion `kreditkarten_pruefung` soll basierend auf dem `monatliches_einkommen` und dem `alter` folgende Ergebnisse berechnen:\n",
    "    - Wenn der `alter` größer gleich 18 ist und das `monatliches_einkommen` kleiner gleich 2000 ist wird als `berechtigung` der Wert `True`und als `limit` der Wert `3000` zurückgegeben\n",
    "    - Wenn das `alter` größer gleich 18 ist und das `monatliches_einkommen` gößer 2000 ist wird als `berechtigung` der Wert `True` und als `limit` der Wert 5000 zurückgegeben\n",
    "    - Ansonsten wird für `berechtigung` der Wert `False` und als `limit` der Wert 0 zurückgegeben."
   ],
   "cell_type": "markdown",
   "metadata": {}
  },
  {
   "cell_type": "code",
   "execution_count": null,
   "metadata": {},
   "outputs": [],
   "source": [
    "def kreditkartenpruefung(alter, monatliches_einkommen):\n",
    "    # Fügen Sie hier die notwendigen Anweisungen ein\n",
    "return berechtigung, limit"
   ]
  },
  {
   "cell_type": "markdown",
   "metadata": {},
   "source": [
    "- Die Funktion `preufe_jahr` soll genau dann `True` liefern wenn \n",
    "    - das `jahr` ohne Rest durch 4 teilbar ist\n",
    "    - das `jahr` ohne Rest durch 100 teilbar ist \n",
    "    - das `jahr` **nicht** ohne Rest duch 400 teilbar ist"
   ]
  },
  {
   "cell_type": "code",
   "execution_count": null,
   "metadata": {},
   "outputs": [],
   "source": [
    "def preufe_jahr(jahr):\n",
    "    if #Bedingung:\n",
    "        return True\n",
    "    else:\n",
    "        return False"
   ]
  },
  {
   "cell_type": "markdown",
   "metadata": {},
   "source": [
    "## Aufgabe 3\n",
    "Was ist die Ausgabe des folgenden Programms. "
   ]
  },
  {
   "cell_type": "code",
   "execution_count": null,
   "metadata": {},
   "outputs": [],
   "source": [
    "def start():\n",
    "    return rpm(12,3)\n",
    "\n",
    "def rpm(a, b):\n",
    "    l = rpm_elements(a, b)\n",
    "    print(l)\n",
    "    return sum(l)\n",
    "\n",
    "def rpm_elements(a, b):\n",
    "    elements = []\n",
    "    while a >= 1:\n",
    "        if a % 2 != 0:\n",
    "            elements.append(b)\n",
    "        a = a // 2\n",
    "        b *= 2\n",
    "    return elements\n",
    "\n",
    "s = start()\n",
    "print(s)   "
   ]
  }
 ]
}