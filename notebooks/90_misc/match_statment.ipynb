{
 "cells": [
  {
   "cell_type": "markdown",
   "metadata": {},
   "source": [
    "# Match Statement\n",
    "\n",
    "In diesem Notebook wollen wir uns mit einer Neuheit in Python befassen. Dem Match Statement. Dieses dient als eine Verbesserung / Erweiterung des ifelse Statement in bestimmten Fällen. Um Ihnen dieses Statement näher zu bringen, werden wir fünf verschiedene Anwendungsfälle behandeln. Dabei wird für den ersten Anwendungsfall eine komplette Erläuterung bereitgestellt. Für die nachfolgenden Anwendungsfälle wird sukzessive der Code weggenommen, bis Sie schlussendlich den letzten Anwendungsfall selbst entwickeln müssen.\n",
    "\n",
    "## Command split\n",
    "\n",
    "In diesem Use case befassen wir uns mit der Erstellung einer Konsole wie z.B. der CMD. Um die Nützlichkeit des Match Statements zu zeigen wollen wir beispielhaft fünf verschiedene Kommandos unterscheiden. Diese werden durch einen String Typ als Input geliefert und kann folgende Formen haben:\n",
    "\n",
    "1. make\n",
    "2. make *Command*\n",
    "3. restart\n",
    "4. rm *file* *file* *file*\n",
    "5. *Whatever you want to type in*\n",
    "\n",
    "Dabei kann 2. immer nur ein Kommando beinhalten. rm kann beliebig viele files hinter dem Statement beinhalten.\n",
    "\n",
    "Bevor wir nun zur Erklärung des Match Statements kommen, hier einmal eine \"gute\" Lösung dieses Use cases mittels if-else."
   ]
  },
  {
   "cell_type": "code",
   "execution_count": null,
   "metadata": {},
   "outputs": [],
   "source": [
    "command = \"make mkdir\"\n",
    "commands = command.split()\n",
    "\n",
    "if commands == [\"make\"]:\n",
    "    print(\"default make\")\n",
    "elif len(commands) == 2 and commands[0] == \"make\":\n",
    "    cmd = commands[1]\n",
    "    print(f\"make command found: {cmd}\")\n",
    "elif commands == [\"restart\"]:\n",
    "    print(\"restarting\")\n",
    "elif len(commands) >= 1 and commands[0] == \"rm\":\n",
    "    files = commands[1:]\n",
    "    print(f\"deleting files: {files}\")\n",
    "else:\n",
    "    print(\"didn't match\")"
   ]
  },
  {
   "cell_type": "markdown",
   "metadata": {},
   "source": [
    "Wie genau dieser Code funktioniert ist an dieser Stelle nicht relevant. Vielmehr ist relevant, dass nicht direkt erkennbar ist was an welcher Stelle durchgeführt wird. Dieses Problem löst das Match Statement indem es den Code übersichtlicher und einfacher gestaltet. Um dies zu validieren, genügt ein Blick in den folgenden Block Code, welcher das gleiche Ergebnis wie die if-else Verschachtelung liefert. Es ist direkt erkennbar, an welcher Stelle welches Kommando ausgeführt wird, welche Antworten mit angegeben werden können und wie viele \"Dateitypen\" an die Konsole mitgeliefert werden können.\n",
    "\n",
    "Da wir nun validiert haben, dass das match Statement diesen Code deutlich übersichtlicher gestaltet, wollen wir nun in die Syntax und damit verbundene Erklärung zur Verwendung gehen. Den Grundbaustein bildet hierbei das match command.split():. command.split() sollte bereits bekannt sein, weshalb dieses an dieser Stelle nicht erklärt wird. Die restliche Syntax des match Statements ist vergleichbar zu einem if Statement. Wenn Sie diesen Grundbaustein gelegt haben, kommen wir nun zu den verschiedenen Fällen. Dazu verwenden wir das oben beschriebene Beispiel erneut. Hierbei wollen wir in fünf verschiedene Fälle unterscheiden, womit wir unsere Anzahl an \"cases\" hätten. Daher können wir schonmal fünf cases erstellen. Diese werden immer unter dem match Statement eingerückt. Die Syntax des case Statements ist wieder ähnlich zu einem if Statement. Bei der Erklärung wollen wir diesmal bei dem bekannten einsteigen, dem Rumpf des Statements. In diesem wird, falls der case true ist ein gewisses Kommando ausgeführt. Probieren Sie gerne mit der Verwendung rum. Das besondere an den case Statements ist jedoch das \"Mapping\" der Fälle. Dieses geschieht in den [] zwischen dem case Statement und dem zugehörigem :. Hierbei können wir mehrere Fälle definieren:\n",
    "\n",
    "1. Einfach:\n",
    "\n",
    "Im Einfachen Fall schreiben wir in die [] einen String Wert z.B. \"make\". Damit fangen wir den Input ab, dass exakt make eingegeben wird und nichts anderes.\n",
    "\n",
    "2. Einfach mit Zusatz:\n",
    "\n",
    "Im Fall Einfach mit Zusatz wird wie im Einfachen Fall zuerst ein String als erstes Statement geschrieben z.B. \"make\". Im Anschluss setzen wir hinter diesen String eine beliebig genannte Variable. Innerhalb dieser speichern wir nun das, was als Input geliefert wurde. Damit könnten wir z.B. abfangen, wenn der Nutzer eingibt: \"make folder\". Nicht abfangen können wir hiermit: \"make folder1 folder2\", da hierbei mehrere Werte nach dem make folgen.\n",
    "\n",
    "3. Einfach mit Zusätzen:\n",
    "\n",
    "Im Fall Einfach mit Zusätzen wollen wir das zuvor angesprochene Problem lösen. Dieses ist, dass wir nach unserem Statement bisher nur eine Datei angeben können. Nun wollen wir aber beliebig viele angeben. Dazu schreiben wir zuerst unser Statement z.B. \"rm\", wie gewohnt an erste Stelle im case Statement. An zweite Stelle schreiben wir nun auch wie gewohnt unsere Variable, ergänzen diese aber um ein * an erster Stelle, also z.B. *files. Damit fangen wir beliebig viele Werte ab und können z.B. eingeben : \"rm Folder1 Folder2 Folder3\", aber auch z.B. \"rm Folder1\". \n",
    "\n",
    "4. Auffang:\n",
    "\n",
    "Der Fall Auffang dient dazu, falls kein vorheriger Case true war, dass wenigstens irgendetwas getan wird. Diesen definieren wir, indem wir statt unseren gewohnten [] zwischen dem case Statement und dem : einen _ vor dem : ergänzen. Dadurch definieren wir unseren Auffang Fall und können auf alle Ereignisse reagieren, welche nicht vorher gemappt werden konnten."
   ]
  },
  {
   "cell_type": "code",
   "execution_count": null,
   "metadata": {},
   "outputs": [],
   "source": [
    "commands = \"make mkdir\"\n",
    "\n",
    "def command_split(command):\n",
    "    match command.split():\n",
    "        case [\"make\"]:\n",
    "            print(\"default make\")\n",
    "        case [\"make\", cmd]:\n",
    "            print(f\"make command found: {cmd}\")\n",
    "        case [\"restart\"]:\n",
    "            print(\"restarting\")\n",
    "        case [\"rm\", *files]:\n",
    "            print(f\"deleting files: {files}\")\n",
    "        case _:\n",
    "            print(\"didn't match\")   "
   ]
  },
  {
   "cell_type": "markdown",
   "metadata": {},
   "source": [
    "## Match errno\n",
    "\n",
    "In diesem Anwendungsfall sollen Sie einen Fehler \"matchen\". Dabei sollen vier Fälle unterschieden werden:\n",
    "\n",
    "1. Fehlercode 0\n",
    "2. Fehlercode 1\n",
    "3. Fehlercode 42\n",
    "4. Sonstige Fehlercodes\n",
    "\n",
    "Der input besteht dabei immer aus einem numerischen Wert, also einem Integer. Ergänzen Sie nun an den angegebenen Stellen den Code. Achten Sie darauf, dass bei dem dritten case der Rumpf des cases mit angegebenen werden soll. Dieser besteht aus einer Ausgabe des Strings : 42. Falls Sie beim Ausfüllen des Codes Schwierigkeiten haben, betrachten Sie nochmals genau die Erläuterungen des ersten use cases."
   ]
  },
  {
   "cell_type": "code",
   "execution_count": null,
   "metadata": {},
   "outputs": [],
   "source": [
    "def match_errno(errno):\n",
    "    match errno:\n",
    "        case 0:\n",
    "            pass\n",
    "        # Todo Case zwei einfügen\n",
    "            pass\n",
    "        # Todo Case drei einfügen\n",
    "            # Todo Rumpf Case drei einfügen\n",
    "        case 42:\n",
    "            print(\"42!\")\n",
    "        case _:\n",
    "            print(\"wildcard\")"
   ]
  },
  {
   "cell_type": "markdown",
   "metadata": {},
   "source": [
    "## Match alternatives\n",
    "\n",
    "In diesem Anwendungsfall sollen sie zwischen zwei Kommandos unterscheiden. Dies könnte ein typischer Fall eines Spiels sein, in dem Sie zwei Aktionen zur Verfügung haben.\n",
    "\n",
    "1. Sie gehen ein Feld weiter\n",
    "2. Sie führen die Aktion get oder pick up aus.\n",
    "\n",
    "Die erste Aktion kann dabei durch zwei Eingaben ausgeführt werden, durch das Eingeben des Strings \"north\" oder durch die Eingabe von \"go north\". Die zweite Aktion kann dabei durch drei verschiedene Eingaben ausgelöst werden.\n",
    "\n",
    "1. \"get\" und zusätzlich ein beliebiges Objekt\n",
    "2. \"pick up\" und zusätzlich ein beliebiges Objekt\n",
    "3. \"pick\" ein Object \"up\"\n",
    "\n",
    "Füllen Sie nun auf Basis dieser Informationen den unten angegeben Code auf. Achten Sie dabei auf die Kommentare, welche Ihnen nützliche Hinweise geben."
   ]
  },
  {
   "cell_type": "code",
   "execution_count": null,
   "metadata": {},
   "outputs": [],
   "source": [
    "def match_alternatives(command):\n",
    "    # match Statement einfügen\n",
    "        # case 1.1 oder case 1.2\n",
    "            print(\"going north\")\n",
    "        # case 2.1 oder 2.2 oder 2.3\n",
    "            print(f\"picking up: {obj}\")"
   ]
  },
  {
   "cell_type": "markdown",
   "metadata": {},
   "source": [
    "## Match capture subpattern\n",
    "\n",
    "In diesem Anwendungsfall lernen Sie eine weitere Funktionalität des match Statements kennen. Bevor Sie dies jedoch tun sind hier die Anforderungen an Ihr match Statement. Es soll lediglich ein Befehl angenommen werden, welcher aus zwei Bestandteilen besteht.\n",
    "\n",
    "1. \"go\"\n",
    "2. Himmelsrichtung\n",
    "\n",
    "Dabei kann die Himmelsrichtung folgende vier Ausprägungen haben:\n",
    "\n",
    "1. \"north\"\n",
    "2. \"south\"\n",
    "3. \"east\"\n",
    "4. \"west\"\n",
    "\n",
    "Damit Sie nicht vier verschiedene cases erstellen müssen, können Sie für die Himmelsrichtung folgendes tun: Sie schreiben als zweiten Teil des cases Statement alle vier Möglichkeiten in () jeweils mit einem | getrennt. Zusätzlich schreiben Sie hinter die ) ein as direction. Dadurch wird der zweite Werte in der Variable direction gespeichert. Ergänzen Sie nun auf Basis dieser Informationen den unten bereitgestellten code."
   ]
  },
  {
   "cell_type": "code",
   "execution_count": null,
   "metadata": {},
   "outputs": [],
   "source": [
    "def match_capture_subpattern(command):\n",
    "    match command.split():\n",
    "        case # Bedingungen ausfüllen\n",
    "            print(f\"going {direction}\")"
   ]
  },
  {
   "cell_type": "markdown",
   "metadata": {},
   "source": [
    "## Match guard\n",
    "\n",
    "Dieser Anwendungsfall bildet den Abschluss des Match Statements und damit die letzte Übung. Bei dieser werden Sie keine zusätzliche Hilfe erhalten. Im Rahmen dieser Übung sollen Sie zwischen zwei verschiedenen Fällen unterscheiden:\n",
    "\n",
    "1. \"go\" direction\n",
    "2. \"go\" false direction\n",
    "\n",
    "Dabei wird in der Variable exists alle Werte gespeichert, welche als Richtung existieren. Daher müssen Sie in einem Fall überprüfen, ob die Richtung, in die gegangen werden soll existiert. Falls dies nicht der Fall ist, soll der zweite case ausgeführt werden, wobei hier darauf zu achten ist, dass trotzdem vorher ein \"go\" eingegeben werden muss. Für den ersten Fall müssen Sie wie bereits zuvor die Richtung in einer zweiten Variable Speicher. zusätzlich müssen Sie eine if Abfrage hinter die ] der direction anfügen. Hierzu können Sie sich an der Syntax if direction in exits orientieren.\n",
    "\n",
    "Viel Erfolg."
   ]
  },
  {
   "cell_type": "code",
   "execution_count": null,
   "metadata": {},
   "outputs": [],
   "source": [
    "def match_guard(command, exits):\n",
    "    match command.split():\n",
    "        case [\"go\", direction] if direction in exits:\n",
    "            print(f\"going {direction}\")\n",
    "        case [\"go\", _]:\n",
    "            print(f\"can't go that way\")"
   ]
  }
 ],
 "metadata": {
  "kernelspec": {
   "display_name": "Python 3",
   "language": "python",
   "name": "python3"
  },
  "language_info": {
   "codemirror_mode": {
    "name": "ipython",
    "version": 3
   },
   "file_extension": ".py",
   "mimetype": "text/x-python",
   "name": "python",
   "nbconvert_exporter": "python",
   "pygments_lexer": "ipython3",
   "version": "3.9.6"
  }
 },
 "nbformat": 4,
 "nbformat_minor": 2
}
